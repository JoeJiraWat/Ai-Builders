{
  "nbformat": 4,
  "nbformat_minor": 0,
  "metadata": {
    "colab": {
      "provenance": [],
      "collapsed_sections": [
        "38pktIQMUXsy"
      ],
      "authorship_tag": "ABX9TyP3d/RlknzvCHBmmPjd6Fux",
      "include_colab_link": true
    },
    "kernelspec": {
      "name": "python3",
      "display_name": "Python 3"
    },
    "language_info": {
      "name": "python"
    }
  },
  "cells": [
    {
      "cell_type": "markdown",
      "metadata": {
        "id": "view-in-github",
        "colab_type": "text"
      },
      "source": [
        "<a href=\"https://colab.research.google.com/github/JoeJiraWat/Ai-Builders/blob/main/Ai_files/spleeterWave.ipynb\" target=\"_parent\"><img src=\"https://colab.research.google.com/assets/colab-badge.svg\" alt=\"Open In Colab\"/></a>"
      ]
    },
    {
      "cell_type": "code",
      "source": [
        "from google.colab import drive\n",
        "drive.mount('/content/drive')"
      ],
      "metadata": {
        "colab": {
          "base_uri": "https://localhost:8080/"
        },
        "id": "Dq2TCBDnC3er",
        "outputId": "d4e1ef4d-026c-439c-a30d-c1204558dc86"
      },
      "execution_count": null,
      "outputs": [
        {
          "output_type": "stream",
          "name": "stdout",
          "text": [
            "Drive already mounted at /content/drive; to attempt to forcibly remount, call drive.mount(\"/content/drive\", force_remount=True).\n"
          ]
        }
      ]
    },
    {
      "cell_type": "markdown",
      "source": [
        "#แยกเสียง"
      ],
      "metadata": {
        "id": "ecYY5Sy0UUqj"
      }
    },
    {
      "cell_type": "code",
      "source": [
        "!pip install -q spleeter"
      ],
      "metadata": {
        "id": "cre-A-8BTRPl",
        "colab": {
          "base_uri": "https://localhost:8080/"
        },
        "outputId": "feff2a2c-f3cb-475d-de37-f9fc00ce022b"
      },
      "execution_count": null,
      "outputs": [
        {
          "output_type": "stream",
          "name": "stdout",
          "text": [
            "\u001b[31mERROR: pip's dependency resolver does not currently take into account all the packages that are installed. This behaviour is the source of the following dependency conflicts.\n",
            "onnx-weekly 1.19.0.dev20250512 requires typing_extensions>=4.7.1, but you have typing-extensions 4.5.0 which is incompatible.\n",
            "audio-separator 0.33.0 requires numpy>=2, but you have numpy 1.24.3 which is incompatible.\n",
            "google-colab 1.0.0 requires pandas==2.2.2, but you have pandas 1.5.3 which is incompatible.\n",
            "sqlalchemy 2.0.40 requires typing-extensions>=4.6.0, but you have typing-extensions 4.5.0 which is incompatible.\n",
            "mizani 0.13.5 requires pandas>=2.2.0, but you have pandas 1.5.3 which is incompatible.\n",
            "treescope 0.1.9 requires numpy>=1.25.2, but you have numpy 1.24.3 which is incompatible.\n",
            "dask-cudf-cu12 25.2.2 requires pandas<2.2.4dev0,>=2.0, but you have pandas 1.5.3 which is incompatible.\n",
            "xarray 2025.3.1 requires pandas>=2.1, but you have pandas 1.5.3 which is incompatible.\n",
            "typing-inspection 0.4.0 requires typing-extensions>=4.12.0, but you have typing-extensions 4.5.0 which is incompatible.\n",
            "pymc 5.22.0 requires numpy>=1.25.0, but you have numpy 1.24.3 which is incompatible.\n",
            "langchain-core 0.3.59 requires typing-extensions>=4.7, but you have typing-extensions 4.5.0 which is incompatible.\n",
            "dask-cuda 25.2.0 requires click>=8.1, but you have click 7.1.2 which is incompatible.\n",
            "pydantic-core 2.33.2 requires typing-extensions!=4.7.0,>=4.6.0, but you have typing-extensions 4.5.0 which is incompatible.\n",
            "dask-expr 1.1.21 requires pandas>=2, but you have pandas 1.5.3 which is incompatible.\n",
            "google-genai 1.14.0 requires anyio<5.0.0,>=4.8.0, but you have anyio 3.7.1 which is incompatible.\n",
            "google-genai 1.14.0 requires httpx<1.0.0,>=0.28.1, but you have httpx 0.19.0 which is incompatible.\n",
            "google-genai 1.14.0 requires typing-extensions<5.0.0,>=4.11.0, but you have typing-extensions 4.5.0 which is incompatible.\n",
            "torch 2.6.0+cu124 requires typing-extensions>=4.10.0, but you have typing-extensions 4.5.0 which is incompatible.\n",
            "ydf 0.11.0 requires protobuf<6.0.0,>=5.29.1, but you have protobuf 4.25.7 which is incompatible.\n",
            "altair 5.5.0 requires typing-extensions>=4.10.0; python_version < \"3.14\", but you have typing-extensions 4.5.0 which is incompatible.\n",
            "yfinance 0.2.59 requires protobuf<6,>=5.29.0, but you have protobuf 4.25.7 which is incompatible.\n",
            "thinc 8.3.6 requires numpy<3.0.0,>=2.0.0, but you have numpy 1.24.3 which is incompatible.\n",
            "orbax-checkpoint 0.11.13 requires jax>=0.5.0, but you have jax 0.4.38 which is incompatible.\n",
            "tf-keras 2.18.0 requires tensorflow<2.19,>=2.18, but you have tensorflow 2.12.1 which is incompatible.\n",
            "typeguard 4.4.2 requires typing_extensions>=4.10.0, but you have typing-extensions 4.5.0 which is incompatible.\n",
            "albucore 0.0.24 requires numpy>=1.24.4, but you have numpy 1.24.3 which is incompatible.\n",
            "albumentations 2.0.6 requires numpy>=1.24.4, but you have numpy 1.24.3 which is incompatible.\n",
            "tensorflow-text 2.18.1 requires tensorflow<2.19,>=2.18.0, but you have tensorflow 2.12.1 which is incompatible.\n",
            "flax 0.10.6 requires jax>=0.5.1, but you have jax 0.4.38 which is incompatible.\n",
            "nibabel 5.3.2 requires typing-extensions>=4.6; python_version < \"3.13\", but you have typing-extensions 4.5.0 which is incompatible.\n",
            "cudf-cu12 25.2.1 requires pandas<2.2.4dev0,>=2.0, but you have pandas 1.5.3 which is incompatible.\n",
            "pydantic 2.11.4 requires typing-extensions>=4.12.2, but you have typing-extensions 4.5.0 which is incompatible.\n",
            "blosc2 3.3.2 requires numpy>=1.26, but you have numpy 1.24.3 which is incompatible.\n",
            "openai 1.77.0 requires httpx<1,>=0.23.0, but you have httpx 0.19.0 which is incompatible.\n",
            "openai 1.77.0 requires typing-extensions<5,>=4.11, but you have typing-extensions 4.5.0 which is incompatible.\n",
            "tensorflow-decision-forests 1.11.0 requires tensorflow==2.18.0, but you have tensorflow 2.12.1 which is incompatible.\n",
            "plotnine 0.14.5 requires pandas>=2.2.0, but you have pandas 1.5.3 which is incompatible.\u001b[0m\u001b[31m\n",
            "\u001b[0m"
          ]
        }
      ]
    },
    {
      "cell_type": "code",
      "source": [
        "!pip install audio-separator"
      ],
      "metadata": {
        "colab": {
          "base_uri": "https://localhost:8080/"
        },
        "id": "OEZzkSVjverP",
        "outputId": "8e31042d-34af-4d7f-88ff-06cfc8ce6d5e"
      },
      "execution_count": null,
      "outputs": [
        {
          "output_type": "stream",
          "name": "stdout",
          "text": [
            "Requirement already satisfied: audio-separator in /usr/local/lib/python3.11/dist-packages (0.33.0)\n",
            "Requirement already satisfied: beartype<0.19.0,>=0.18.5 in /usr/local/lib/python3.11/dist-packages (from audio-separator) (0.18.5)\n",
            "Requirement already satisfied: diffq>=0.2 in /usr/local/lib/python3.11/dist-packages (from audio-separator) (0.2.4)\n",
            "Requirement already satisfied: einops>=0.7 in /usr/local/lib/python3.11/dist-packages (from audio-separator) (0.8.1)\n",
            "Requirement already satisfied: julius>=0.2 in /usr/local/lib/python3.11/dist-packages (from audio-separator) (0.2.7)\n",
            "Requirement already satisfied: librosa>=0.10 in /usr/local/lib/python3.11/dist-packages (from audio-separator) (0.11.0)\n",
            "Requirement already satisfied: ml_collections in /usr/local/lib/python3.11/dist-packages (from audio-separator) (1.1.0)\n",
            "Collecting numpy>=2 (from audio-separator)\n",
            "  Using cached numpy-2.2.5-cp311-cp311-manylinux_2_17_x86_64.manylinux2014_x86_64.whl.metadata (62 kB)\n",
            "Requirement already satisfied: onnx-weekly in /usr/local/lib/python3.11/dist-packages (from audio-separator) (1.19.0.dev20250512)\n",
            "Requirement already satisfied: onnx2torch-py313>=1.6 in /usr/local/lib/python3.11/dist-packages (from audio-separator) (1.6.0)\n",
            "Requirement already satisfied: pydub>=0.25 in /usr/local/lib/python3.11/dist-packages (from audio-separator) (0.25.1)\n",
            "Requirement already satisfied: pyyaml in /usr/local/lib/python3.11/dist-packages (from audio-separator) (6.0.2)\n",
            "Requirement already satisfied: requests>=2 in /usr/local/lib/python3.11/dist-packages (from audio-separator) (2.32.3)\n",
            "Requirement already satisfied: resampy>=0.4 in /usr/local/lib/python3.11/dist-packages (from audio-separator) (0.4.3)\n",
            "Requirement already satisfied: rotary-embedding-torch<0.7.0,>=0.6.1 in /usr/local/lib/python3.11/dist-packages (from audio-separator) (0.6.5)\n",
            "Requirement already satisfied: samplerate==0.1.0 in /usr/local/lib/python3.11/dist-packages (from audio-separator) (0.1.0)\n",
            "Requirement already satisfied: scipy<2.0.0,>=1.13.0 in /usr/local/lib/python3.11/dist-packages (from audio-separator) (1.15.2)\n",
            "Requirement already satisfied: six>=1.16 in /usr/local/lib/python3.11/dist-packages (from audio-separator) (1.17.0)\n",
            "Requirement already satisfied: torch>=2.3 in /usr/local/lib/python3.11/dist-packages (from audio-separator) (2.6.0+cu124)\n",
            "Requirement already satisfied: tqdm in /usr/local/lib/python3.11/dist-packages (from audio-separator) (4.67.1)\n",
            "Requirement already satisfied: cffi>=1.0.0 in /usr/local/lib/python3.11/dist-packages (from samplerate==0.1.0->audio-separator) (1.17.1)\n",
            "Requirement already satisfied: Cython in /usr/local/lib/python3.11/dist-packages (from diffq>=0.2->audio-separator) (3.0.12)\n",
            "Requirement already satisfied: audioread>=2.1.9 in /usr/local/lib/python3.11/dist-packages (from librosa>=0.10->audio-separator) (3.0.1)\n",
            "Requirement already satisfied: numba>=0.51.0 in /usr/local/lib/python3.11/dist-packages (from librosa>=0.10->audio-separator) (0.60.0)\n",
            "Requirement already satisfied: scikit-learn>=1.1.0 in /usr/local/lib/python3.11/dist-packages (from librosa>=0.10->audio-separator) (1.6.1)\n",
            "Requirement already satisfied: joblib>=1.0 in /usr/local/lib/python3.11/dist-packages (from librosa>=0.10->audio-separator) (1.5.0)\n",
            "Requirement already satisfied: decorator>=4.3.0 in /usr/local/lib/python3.11/dist-packages (from librosa>=0.10->audio-separator) (4.4.2)\n",
            "Requirement already satisfied: soundfile>=0.12.1 in /usr/local/lib/python3.11/dist-packages (from librosa>=0.10->audio-separator) (0.13.1)\n",
            "Requirement already satisfied: pooch>=1.1 in /usr/local/lib/python3.11/dist-packages (from librosa>=0.10->audio-separator) (1.8.2)\n",
            "Requirement already satisfied: soxr>=0.3.2 in /usr/local/lib/python3.11/dist-packages (from librosa>=0.10->audio-separator) (0.5.0.post1)\n",
            "Requirement already satisfied: typing_extensions>=4.1.1 in /usr/local/lib/python3.11/dist-packages (from librosa>=0.10->audio-separator) (4.5.0)\n",
            "Requirement already satisfied: lazy_loader>=0.1 in /usr/local/lib/python3.11/dist-packages (from librosa>=0.10->audio-separator) (0.4)\n",
            "Requirement already satisfied: msgpack>=1.0 in /usr/local/lib/python3.11/dist-packages (from librosa>=0.10->audio-separator) (1.1.0)\n",
            "Requirement already satisfied: torchvision>=0.9.0 in /usr/local/lib/python3.11/dist-packages (from onnx2torch-py313>=1.6->audio-separator) (0.21.0+cu124)\n",
            "Requirement already satisfied: charset-normalizer<4,>=2 in /usr/local/lib/python3.11/dist-packages (from requests>=2->audio-separator) (3.4.2)\n",
            "Requirement already satisfied: idna<4,>=2.5 in /usr/local/lib/python3.11/dist-packages (from requests>=2->audio-separator) (3.10)\n",
            "Requirement already satisfied: urllib3<3,>=1.21.1 in /usr/local/lib/python3.11/dist-packages (from requests>=2->audio-separator) (2.4.0)\n",
            "Requirement already satisfied: certifi>=2017.4.17 in /usr/local/lib/python3.11/dist-packages (from requests>=2->audio-separator) (2025.4.26)\n",
            "Requirement already satisfied: filelock in /usr/local/lib/python3.11/dist-packages (from torch>=2.3->audio-separator) (3.18.0)\n",
            "Collecting typing_extensions>=4.1.1 (from librosa>=0.10->audio-separator)\n",
            "  Using cached typing_extensions-4.13.2-py3-none-any.whl.metadata (3.0 kB)\n",
            "Requirement already satisfied: networkx in /usr/local/lib/python3.11/dist-packages (from torch>=2.3->audio-separator) (3.4.2)\n",
            "Requirement already satisfied: jinja2 in /usr/local/lib/python3.11/dist-packages (from torch>=2.3->audio-separator) (3.1.6)\n",
            "Requirement already satisfied: fsspec in /usr/local/lib/python3.11/dist-packages (from torch>=2.3->audio-separator) (2025.3.2)\n",
            "Requirement already satisfied: nvidia-cuda-nvrtc-cu12==12.4.127 in /usr/local/lib/python3.11/dist-packages (from torch>=2.3->audio-separator) (12.4.127)\n",
            "Requirement already satisfied: nvidia-cuda-runtime-cu12==12.4.127 in /usr/local/lib/python3.11/dist-packages (from torch>=2.3->audio-separator) (12.4.127)\n",
            "Requirement already satisfied: nvidia-cuda-cupti-cu12==12.4.127 in /usr/local/lib/python3.11/dist-packages (from torch>=2.3->audio-separator) (12.4.127)\n",
            "Requirement already satisfied: nvidia-cudnn-cu12==9.1.0.70 in /usr/local/lib/python3.11/dist-packages (from torch>=2.3->audio-separator) (9.1.0.70)\n",
            "Requirement already satisfied: nvidia-cublas-cu12==12.4.5.8 in /usr/local/lib/python3.11/dist-packages (from torch>=2.3->audio-separator) (12.4.5.8)\n",
            "Requirement already satisfied: nvidia-cufft-cu12==11.2.1.3 in /usr/local/lib/python3.11/dist-packages (from torch>=2.3->audio-separator) (11.2.1.3)\n",
            "Requirement already satisfied: nvidia-curand-cu12==10.3.5.147 in /usr/local/lib/python3.11/dist-packages (from torch>=2.3->audio-separator) (10.3.5.147)\n",
            "Requirement already satisfied: nvidia-cusolver-cu12==11.6.1.9 in /usr/local/lib/python3.11/dist-packages (from torch>=2.3->audio-separator) (11.6.1.9)\n",
            "Requirement already satisfied: nvidia-cusparse-cu12==12.3.1.170 in /usr/local/lib/python3.11/dist-packages (from torch>=2.3->audio-separator) (12.3.1.170)\n",
            "Requirement already satisfied: nvidia-cusparselt-cu12==0.6.2 in /usr/local/lib/python3.11/dist-packages (from torch>=2.3->audio-separator) (0.6.2)\n",
            "Requirement already satisfied: nvidia-nccl-cu12==2.21.5 in /usr/local/lib/python3.11/dist-packages (from torch>=2.3->audio-separator) (2.21.5)\n",
            "Requirement already satisfied: nvidia-nvtx-cu12==12.4.127 in /usr/local/lib/python3.11/dist-packages (from torch>=2.3->audio-separator) (12.4.127)\n",
            "Requirement already satisfied: nvidia-nvjitlink-cu12==12.4.127 in /usr/local/lib/python3.11/dist-packages (from torch>=2.3->audio-separator) (12.4.127)\n",
            "Requirement already satisfied: triton==3.2.0 in /usr/local/lib/python3.11/dist-packages (from torch>=2.3->audio-separator) (3.2.0)\n",
            "Requirement already satisfied: sympy==1.13.1 in /usr/local/lib/python3.11/dist-packages (from torch>=2.3->audio-separator) (1.13.1)\n",
            "Requirement already satisfied: mpmath<1.4,>=1.1.0 in /usr/local/lib/python3.11/dist-packages (from sympy==1.13.1->torch>=2.3->audio-separator) (1.3.0)\n",
            "Requirement already satisfied: absl-py in /usr/local/lib/python3.11/dist-packages (from ml_collections->audio-separator) (1.4.0)\n",
            "Requirement already satisfied: protobuf>=4.25.1 in /usr/local/lib/python3.11/dist-packages (from onnx-weekly->audio-separator) (4.25.7)\n",
            "Requirement already satisfied: pycparser in /usr/local/lib/python3.11/dist-packages (from cffi>=1.0.0->samplerate==0.1.0->audio-separator) (2.22)\n",
            "Requirement already satisfied: packaging in /usr/local/lib/python3.11/dist-packages (from lazy_loader>=0.1->librosa>=0.10->audio-separator) (24.2)\n",
            "Requirement already satisfied: llvmlite<0.44,>=0.43.0dev0 in /usr/local/lib/python3.11/dist-packages (from numba>=0.51.0->librosa>=0.10->audio-separator) (0.43.0)\n",
            "Collecting numpy>=2 (from audio-separator)\n",
            "  Using cached numpy-2.0.2-cp311-cp311-manylinux_2_17_x86_64.manylinux2014_x86_64.whl.metadata (60 kB)\n",
            "Requirement already satisfied: platformdirs>=2.5.0 in /usr/local/lib/python3.11/dist-packages (from pooch>=1.1->librosa>=0.10->audio-separator) (4.3.8)\n",
            "Requirement already satisfied: threadpoolctl>=3.1.0 in /usr/local/lib/python3.11/dist-packages (from scikit-learn>=1.1.0->librosa>=0.10->audio-separator) (3.6.0)\n",
            "Requirement already satisfied: pillow!=8.3.*,>=5.3.0 in /usr/local/lib/python3.11/dist-packages (from torchvision>=0.9.0->onnx2torch-py313>=1.6->audio-separator) (11.2.1)\n",
            "Requirement already satisfied: MarkupSafe>=2.0 in /usr/local/lib/python3.11/dist-packages (from jinja2->torch>=2.3->audio-separator) (3.0.2)\n",
            "Using cached numpy-2.0.2-cp311-cp311-manylinux_2_17_x86_64.manylinux2014_x86_64.whl (19.5 MB)\n",
            "Using cached typing_extensions-4.13.2-py3-none-any.whl (45 kB)\n",
            "Installing collected packages: typing_extensions, numpy\n",
            "  Attempting uninstall: typing_extensions\n",
            "    Found existing installation: typing_extensions 4.5.0\n",
            "    Uninstalling typing_extensions-4.5.0:\n",
            "      Successfully uninstalled typing_extensions-4.5.0\n",
            "  Attempting uninstall: numpy\n",
            "    Found existing installation: numpy 1.24.3\n",
            "    Uninstalling numpy-1.24.3:\n",
            "      Successfully uninstalled numpy-1.24.3\n",
            "\u001b[31mERROR: pip's dependency resolver does not currently take into account all the packages that are installed. This behaviour is the source of the following dependency conflicts.\n",
            "spleeter 2.4.2 requires numpy<2.0.0, but you have numpy 2.0.2 which is incompatible.\n",
            "tensorflow 2.12.1 requires numpy<=1.24.3,>=1.22, but you have numpy 2.0.2 which is incompatible.\n",
            "tensorflow 2.12.1 requires typing-extensions<4.6.0,>=3.6.6, but you have typing-extensions 4.13.2 which is incompatible.\n",
            "google-colab 1.0.0 requires pandas==2.2.2, but you have pandas 1.5.3 which is incompatible.\n",
            "mizani 0.13.5 requires pandas>=2.2.0, but you have pandas 1.5.3 which is incompatible.\n",
            "dask-cudf-cu12 25.2.2 requires pandas<2.2.4dev0,>=2.0, but you have pandas 1.5.3 which is incompatible.\n",
            "xarray 2025.3.1 requires pandas>=2.1, but you have pandas 1.5.3 which is incompatible.\n",
            "dask-cuda 25.2.0 requires click>=8.1, but you have click 7.1.2 which is incompatible.\n",
            "dask-expr 1.1.21 requires pandas>=2, but you have pandas 1.5.3 which is incompatible.\n",
            "google-genai 1.14.0 requires anyio<5.0.0,>=4.8.0, but you have anyio 3.7.1 which is incompatible.\n",
            "google-genai 1.14.0 requires httpx<1.0.0,>=0.28.1, but you have httpx 0.19.0 which is incompatible.\n",
            "ydf 0.11.0 requires protobuf<6.0.0,>=5.29.1, but you have protobuf 4.25.7 which is incompatible.\n",
            "yfinance 0.2.59 requires protobuf<6,>=5.29.0, but you have protobuf 4.25.7 which is incompatible.\n",
            "orbax-checkpoint 0.11.13 requires jax>=0.5.0, but you have jax 0.4.38 which is incompatible.\n",
            "tf-keras 2.18.0 requires tensorflow<2.19,>=2.18, but you have tensorflow 2.12.1 which is incompatible.\n",
            "tensorflow-text 2.18.1 requires tensorflow<2.19,>=2.18.0, but you have tensorflow 2.12.1 which is incompatible.\n",
            "flax 0.10.6 requires jax>=0.5.1, but you have jax 0.4.38 which is incompatible.\n",
            "cudf-cu12 25.2.1 requires pandas<2.2.4dev0,>=2.0, but you have pandas 1.5.3 which is incompatible.\n",
            "openai 1.77.0 requires httpx<1,>=0.23.0, but you have httpx 0.19.0 which is incompatible.\n",
            "tensorflow-decision-forests 1.11.0 requires tensorflow==2.18.0, but you have tensorflow 2.12.1 which is incompatible.\n",
            "plotnine 0.14.5 requires pandas>=2.2.0, but you have pandas 1.5.3 which is incompatible.\u001b[0m\u001b[31m\n",
            "\u001b[0mSuccessfully installed numpy-2.0.2 typing_extensions-4.13.2\n"
          ]
        }
      ]
    },
    {
      "cell_type": "code",
      "source": [
        "!pip install numpy==1.23.5"
      ],
      "metadata": {
        "colab": {
          "base_uri": "https://localhost:8080/",
          "height": 830
        },
        "id": "0enbNE3CFKZh",
        "outputId": "f2ad5311-3a94-4ece-a7c7-685d1b6bb30b"
      },
      "execution_count": null,
      "outputs": [
        {
          "output_type": "stream",
          "name": "stdout",
          "text": [
            "Collecting numpy==1.23.5\n",
            "  Using cached numpy-1.23.5-cp311-cp311-manylinux_2_17_x86_64.manylinux2014_x86_64.whl.metadata (2.3 kB)\n",
            "Using cached numpy-1.23.5-cp311-cp311-manylinux_2_17_x86_64.manylinux2014_x86_64.whl (17.1 MB)\n",
            "Installing collected packages: numpy\n",
            "  Attempting uninstall: numpy\n",
            "    Found existing installation: numpy 1.24.3\n",
            "    Uninstalling numpy-1.24.3:\n",
            "      Successfully uninstalled numpy-1.24.3\n",
            "\u001b[31mERROR: pip's dependency resolver does not currently take into account all the packages that are installed. This behaviour is the source of the following dependency conflicts.\n",
            "onnx-weekly 1.19.0.dev20250512 requires typing_extensions>=4.7.1, but you have typing-extensions 4.5.0 which is incompatible.\n",
            "jax 0.4.38 requires numpy>=1.24, but you have numpy 1.23.5 which is incompatible.\n",
            "jaxlib 0.4.38 requires numpy>=1.24, but you have numpy 1.23.5 which is incompatible.\n",
            "audio-separator 0.33.0 requires numpy>=2, but you have numpy 1.23.5 which is incompatible.\n",
            "google-colab 1.0.0 requires pandas==2.2.2, but you have pandas 1.5.3 which is incompatible.\n",
            "chex 0.1.89 requires numpy>=1.24.1, but you have numpy 1.23.5 which is incompatible.\n",
            "mizani 0.13.5 requires pandas>=2.2.0, but you have pandas 1.5.3 which is incompatible.\n",
            "treescope 0.1.9 requires numpy>=1.25.2, but you have numpy 1.23.5 which is incompatible.\n",
            "dask-cudf-cu12 25.2.2 requires pandas<2.2.4dev0,>=2.0, but you have pandas 1.5.3 which is incompatible.\n",
            "scikit-image 0.25.2 requires numpy>=1.24, but you have numpy 1.23.5 which is incompatible.\n",
            "imbalanced-learn 0.13.0 requires numpy<3,>=1.24.3, but you have numpy 1.23.5 which is incompatible.\n",
            "xarray 2025.3.1 requires numpy>=1.24, but you have numpy 1.23.5 which is incompatible.\n",
            "xarray 2025.3.1 requires pandas>=2.1, but you have pandas 1.5.3 which is incompatible.\n",
            "pymc 5.22.0 requires numpy>=1.25.0, but you have numpy 1.23.5 which is incompatible.\n",
            "dask-cuda 25.2.0 requires click>=8.1, but you have click 7.1.2 which is incompatible.\n",
            "dask-expr 1.1.21 requires pandas>=2, but you have pandas 1.5.3 which is incompatible.\n",
            "ydf 0.11.0 requires protobuf<6.0.0,>=5.29.1, but you have protobuf 4.25.7 which is incompatible.\n",
            "yfinance 0.2.59 requires protobuf<6,>=5.29.0, but you have protobuf 4.25.7 which is incompatible.\n",
            "thinc 8.3.6 requires numpy<3.0.0,>=2.0.0, but you have numpy 1.23.5 which is incompatible.\n",
            "bigframes 2.1.0 requires numpy>=1.24.0, but you have numpy 1.23.5 which is incompatible.\n",
            "orbax-checkpoint 0.11.13 requires jax>=0.5.0, but you have jax 0.4.38 which is incompatible.\n",
            "tf-keras 2.18.0 requires tensorflow<2.19,>=2.18, but you have tensorflow 2.12.1 which is incompatible.\n",
            "albucore 0.0.24 requires numpy>=1.24.4, but you have numpy 1.23.5 which is incompatible.\n",
            "albumentations 2.0.6 requires numpy>=1.24.4, but you have numpy 1.23.5 which is incompatible.\n",
            "tensorflow-text 2.18.1 requires tensorflow<2.19,>=2.18.0, but you have tensorflow 2.12.1 which is incompatible.\n",
            "flax 0.10.6 requires jax>=0.5.1, but you have jax 0.4.38 which is incompatible.\n",
            "nibabel 5.3.2 requires typing-extensions>=4.6; python_version < \"3.13\", but you have typing-extensions 4.5.0 which is incompatible.\n",
            "cudf-cu12 25.2.1 requires pandas<2.2.4dev0,>=2.0, but you have pandas 1.5.3 which is incompatible.\n",
            "blosc2 3.3.2 requires numpy>=1.26, but you have numpy 1.23.5 which is incompatible.\n",
            "tensorflow-decision-forests 1.11.0 requires tensorflow==2.18.0, but you have tensorflow 2.12.1 which is incompatible.\n",
            "plotnine 0.14.5 requires pandas>=2.2.0, but you have pandas 1.5.3 which is incompatible.\u001b[0m\u001b[31m\n",
            "\u001b[0mSuccessfully installed numpy-1.23.5\n"
          ]
        },
        {
          "output_type": "display_data",
          "data": {
            "application/vnd.colab-display-data+json": {
              "pip_warning": {
                "packages": [
                  "numpy"
                ]
              },
              "id": "7fca953d98df49538066051bf278a4c3"
            }
          },
          "metadata": {}
        }
      ]
    },
    {
      "cell_type": "code",
      "source": [
        "!pip install spleeter==2.3.2"
      ],
      "metadata": {
        "colab": {
          "base_uri": "https://localhost:8080/"
        },
        "id": "lofuu6MhmBIi",
        "outputId": "5989caab-04e7-4943-a351-c4e6d27bbfb3"
      },
      "execution_count": null,
      "outputs": [
        {
          "output_type": "stream",
          "name": "stdout",
          "text": [
            "\u001b[31mERROR: Ignored the following versions that require a different python version: 1.4.1 Requires-Python >=3.6, <3.8; 1.4.3 Requires-Python >=3.6, <3.8; 1.4.4 Requires-Python >=3.6, <3.8; 1.4.5 Requires-Python >=3.6, <3.8; 1.4.6 Requires-Python >=3.6, <3.8; 1.4.7 Requires-Python >=3.6, <3.8; 1.4.8 Requires-Python >=3.6, <3.8; 1.4.9 Requires-Python >=3.6, <3.8; 1.5.0 Requires-Python >=3.6, <3.8; 1.5.1 Requires-Python >=3.6, <3.8; 1.5.2 Requires-Python >=3.6, <3.8; 1.5.3 Requires-Python >=3.6, <3.8; 1.5.4 Requires-Python >=3.6, <3.8; 2.0 Requires-Python >=3.6, <3.9; 2.0.1 Requires-Python >=3.6, <3.9; 2.0.2 Requires-Python >=3.6, <3.9; 2.1.1 Requires-Python >=3.6.1,<3.9; 2.1.2 Requires-Python >=3.6.1,<3.9; 2.2.0 Requires-Python >=3.6.1,<3.9; 2.2.1 Requires-Python >=3.6.1,<3.9; 2.2.2 Requires-Python >=3.6.1,<3.9; 2.3.0 Requires-Python >=3.6.1,<3.10; 2.3.1 Requires-Python >=3.6.2,<3.10; 2.3.2 Requires-Python >=3.7.1,<3.11; 2.4.0 Requires-Python >=3.7.1,<3.11\u001b[0m\u001b[31m\n",
            "\u001b[0m\u001b[31mERROR: Could not find a version that satisfies the requirement spleeter==2.3.2 (from versions: 2.1.0, 2.4.2)\u001b[0m\u001b[31m\n",
            "\u001b[0m\u001b[31mERROR: No matching distribution found for spleeter==2.3.2\u001b[0m\u001b[31m\n",
            "\u001b[0m^C\n"
          ]
        }
      ]
    },
    {
      "cell_type": "code",
      "source": [
        "!pip install spleeter"
      ],
      "metadata": {
        "id": "5NNRnbf8OEVe"
      },
      "execution_count": null,
      "outputs": []
    },
    {
      "cell_type": "code",
      "source": [
        "import os\n",
        "from spleeter.separator import Separator\n",
        "from spleeter.audio.adapter import AudioAdapter\n",
        "from scipy.io.wavfile import write"
      ],
      "metadata": {
        "id": "aUSedxZyEyeB"
      },
      "execution_count": null,
      "outputs": []
    },
    {
      "cell_type": "code",
      "source": [
        "input_folder = '/content/drive/MyDrive/Datasets_For_Ai_builders/HighNote/High Note/'"
      ],
      "metadata": {
        "id": "L73d9ZXZE6GB"
      },
      "execution_count": null,
      "outputs": []
    },
    {
      "cell_type": "code",
      "source": [
        "vocal_out_folder = '/content/drive/MyDrive/Datasets_For_Ai_builders/HighNote/HighNote(Edited)/'\n",
        "music_out_folder = '/content/drive/MyDrive/Datasets_For_Ai_builders/Noise/'"
      ],
      "metadata": {
        "id": "PiqftNprE80Q"
      },
      "execution_count": null,
      "outputs": []
    },
    {
      "cell_type": "code",
      "source": [
        "os.makedirs(vocal_out_folder, exist_ok=True)\n",
        "os.makedirs(music_out_folder, exist_ok=True)"
      ],
      "metadata": {
        "id": "4i2B0CNuE-2c"
      },
      "execution_count": null,
      "outputs": []
    },
    {
      "cell_type": "code",
      "source": [
        "separator = Separator('spleeter:2stems')\n",
        "audio_loader = AudioAdapter.default()\n",
        "sample_rate = 44100"
      ],
      "metadata": {
        "id": "PfnRt5jXFAXU"
      },
      "execution_count": null,
      "outputs": []
    },
    {
      "cell_type": "code",
      "source": [
        "for filename in os.listdir(input_folder):\n",
        "    if filename.endswith('.wav'):\n",
        "        base_name = os.path.splitext(filename)[0]\n",
        "        vocal_path = os.path.join(vocal_out_folder, base_name + '_vocal.wav')\n",
        "        music_path = os.path.join(music_out_folder, base_name + '_background.wav')\n",
        "\n",
        "        # ตรวจสอบว่ามีไฟล์แยกเสียงร้องแล้วหรือยัง\n",
        "        if os.path.exists(vocal_path) and os.path.exists(music_path):\n",
        "            print(f\"✅ ข้าม: {filename} (แยกไว้แล้ว)\")\n",
        "            continue\n",
        "\n",
        "        try:\n",
        "            print(f\"🔄 กำลังแยก: {filename}\")\n",
        "            file_path = os.path.join(input_folder, filename)\n",
        "            waveform, _ = audio_loader.load(file_path, sample_rate=sample_rate)\n",
        "            prediction = separator.separate(waveform)\n",
        "\n",
        "            write(vocal_path, sample_rate, prediction['vocals'])\n",
        "            write(music_path, sample_rate, prediction['accompaniment'])\n",
        "\n",
        "            print(f\"✅ เสร็จ: {filename}\")\n",
        "        except Exception as e:\n",
        "            print(f\"❌ แยกไม่ได้: {filename}\")\n",
        "            print(f\"   Error: {e}\")"
      ],
      "metadata": {
        "colab": {
          "base_uri": "https://localhost:8080/"
        },
        "id": "1keso_0zTPdl",
        "outputId": "3b663632-ad1e-4a49-a779-3e701a79d305"
      },
      "execution_count": null,
      "outputs": [
        {
          "output_type": "stream",
          "name": "stdout",
          "text": [
            "🔄 กำลังแยก: Stage EP01： JEFF SATUR - FADE [CHUANG ASIA S2]_vocal_1.wave.wav\n",
            "INFO:spleeter:Downloading model archive https://github.com/deezer/spleeter/releases/download/v1.4.0/2stems.tar.gz\n"
          ]
        },
        {
          "output_type": "stream",
          "name": "stderr",
          "text": [
            "INFO:spleeter:Downloading model archive https://github.com/deezer/spleeter/releases/download/v1.4.0/2stems.tar.gz\n"
          ]
        },
        {
          "output_type": "stream",
          "name": "stdout",
          "text": [
            "INFO:spleeter:Validating archive checksum\n"
          ]
        },
        {
          "output_type": "stream",
          "name": "stderr",
          "text": [
            "INFO:spleeter:Validating archive checksum\n"
          ]
        },
        {
          "output_type": "stream",
          "name": "stdout",
          "text": [
            "INFO:spleeter:Extracting downloaded 2stems archive\n"
          ]
        },
        {
          "output_type": "stream",
          "name": "stderr",
          "text": [
            "INFO:spleeter:Extracting downloaded 2stems archive\n"
          ]
        },
        {
          "output_type": "stream",
          "name": "stdout",
          "text": [
            "INFO:spleeter:2stems model file(s) extracted\n"
          ]
        },
        {
          "output_type": "stream",
          "name": "stderr",
          "text": [
            "INFO:spleeter:2stems model file(s) extracted\n",
            "WARNING:tensorflow:From /usr/local/lib/python3.11/dist-packages/spleeter/separator.py:65: RunConfig.__init__ (from tensorflow_estimator.python.estimator.run_config) is deprecated and will be removed in a future version.\n",
            "Instructions for updating:\n",
            "Use tf.keras instead.\n",
            "WARNING:tensorflow:From /usr/local/lib/python3.11/dist-packages/spleeter/separator.py:67: Estimator.__init__ (from tensorflow_estimator.python.estimator.estimator) is deprecated and will be removed in a future version.\n",
            "Instructions for updating:\n",
            "Use tf.keras instead.\n",
            "WARNING:tensorflow:From /usr/local/lib/python3.11/dist-packages/keras/layers/normalization/batch_normalization.py:581: _colocate_with (from tensorflow.python.framework.ops) is deprecated and will be removed in a future version.\n",
            "Instructions for updating:\n",
            "Colocations handled automatically by placer.\n",
            "WARNING:tensorflow:From /usr/local/lib/python3.11/dist-packages/spleeter/model/__init__.py:524: EstimatorSpec.__new__ (from tensorflow_estimator.python.estimator.model_fn) is deprecated and will be removed in a future version.\n",
            "Instructions for updating:\n",
            "Use tf.keras instead.\n",
            "WARNING:tensorflow:From /usr/local/lib/python3.11/dist-packages/tensorflow/python/saved_model/model_utils/export_utils.py:366: PredictOutput.__init__ (from tensorflow.python.saved_model.model_utils.export_output) is deprecated and will be removed in a future version.\n",
            "Instructions for updating:\n",
            "Use tf.keras instead.\n",
            "WARNING:tensorflow:From /usr/local/lib/python3.11/dist-packages/tensorflow/python/training/monitored_session.py:1455: SessionRunArgs.__new__ (from tensorflow.python.training.session_run_hook) is deprecated and will be removed in a future version.\n",
            "Instructions for updating:\n",
            "Use tf.keras instead.\n",
            "WARNING:tensorflow:From /usr/local/lib/python3.11/dist-packages/tensorflow/python/training/monitored_session.py:1454: SessionRunContext.__init__ (from tensorflow.python.training.session_run_hook) is deprecated and will be removed in a future version.\n",
            "Instructions for updating:\n",
            "Use tf.keras instead.\n",
            "WARNING:tensorflow:From /usr/local/lib/python3.11/dist-packages/tensorflow/python/training/monitored_session.py:1474: SessionRunValues.__new__ (from tensorflow.python.training.session_run_hook) is deprecated and will be removed in a future version.\n",
            "Instructions for updating:\n",
            "Use tf.keras instead.\n"
          ]
        },
        {
          "output_type": "stream",
          "name": "stdout",
          "text": [
            "✅ เสร็จ: Stage EP01： JEFF SATUR - FADE [CHUANG ASIA S2]_vocal_1.wave.wav\n",
            "🔄 กำลังแยก: Stage EP01： JEFF SATUR - FADE [CHUANG ASIA S2]_vocal_1_version_2.wav\n",
            "✅ เสร็จ: Stage EP01： JEFF SATUR - FADE [CHUANG ASIA S2]_vocal_1_version_2.wav\n",
            "🔄 กำลังแยก: กีดกัน version_1.wav\n",
            "✅ เสร็จ: กีดกัน version_1.wav\n",
            "🔄 กำลังแยก: กีดกัด version_2.wav\n",
            "✅ เสร็จ: กีดกัด version_2.wav\n",
            "🔄 กำลังแยก: รักแรก (First Love)- NONT TANONT Ost.รักแรกโครตลืมยาก [Audio] #nonttanont_vocal.wav\n",
            "✅ เสร็จ: รักแรก (First Love)- NONT TANONT Ost.รักแรกโครตลืมยาก [Audio] #nonttanont_vocal.wav\n",
            "🔄 กำลังแยก: RISE_vocal.wav\n",
            "✅ เสร็จ: RISE_vocal.wav\n",
            "🔄 กำลังแยก: -   POP PONGKOOL Official MV_vocal_version_1.wav\n",
            "✅ เสร็จ: -   POP PONGKOOL Official MV_vocal_version_1.wav\n",
            "🔄 กำลังแยก: -   POP PONGKOOL Official MV_vocal_1_version_2.wav.wav\n",
            "✅ เสร็จ: -   POP PONGKOOL Official MV_vocal_1_version_2.wav.wav\n",
            "🔄 กำลังแยก: LALALYE-DAOUPITTAYA_ DANCE PERFORMANCEVIDEO_vocal.wav\n",
            "✅ เสร็จ: LALALYE-DAOUPITTAYA_ DANCE PERFORMANCEVIDEO_vocal.wav\n",
            "🔄 กำลังแยก: BELIEVE YOURSELF_vocal_version_1.wav\n",
            "✅ เสร็จ: BELIEVE YOURSELF_vocal_version_1.wav\n",
            "🔄 กำลังแยก: BELIEVE YOURSELF_vocal_1version_2.wav.wav\n",
            "✅ เสร็จ: BELIEVE YOURSELF_vocal_1version_2.wav.wav\n",
            "🔄 กำลังแยก: Lost Stars - เจฟ ซาเตอร์ ｜ The Wall Song ร้องข้ามกำแพง_vocal_1_version_1.wav_1.wav.wav\n",
            "✅ เสร็จ: Lost Stars - เจฟ ซาเตอร์ ｜ The Wall Song ร้องข้ามกำแพง_vocal_1_version_1.wav_1.wav.wav\n",
            "🔄 กำลังแยก: Lost Stars - เจฟ ซาเตอร์ ｜ The Wall Song ร้องข้ามกำแพง_vocal_1_version_2.wav.wav\n",
            "✅ เสร็จ: Lost Stars - เจฟ ซาเตอร์ ｜ The Wall Song ร้องข้ามกำแพง_vocal_1_version_2.wav.wav\n",
            "🔄 กำลังแยก: Lost Stars - เจฟ ซาเตอร์ ｜ The Wall Song ร้องข้ามกำแพง_vocal_verison_3.wav\n",
            "✅ เสร็จ: Lost Stars - เจฟ ซาเตอร์ ｜ The Wall Song ร้องข้ามกำแพง_vocal_verison_3.wav\n",
            "🔄 กำลังแยก: Male Singers Hitting Female Singers HIGH NOTES!!.wav\n",
            "✅ เสร็จ: Male Singers Hitting Female Singers HIGH NOTES!!.wav\n",
            "🔄 กำลังแยก: Male Singers Hitting Female Singers HIGH NOTES!!_1.wav_1.wav_1.wav_1.wav_1.wav_1.wav_1.wav_1.wav_1.wav_1.wav_1.wav_1.wav_1.wav_1.wav_1.wav_1.wav_1.wav_1.wav_1.wav_1.wav_1.wav_1.wav_1.wav_1.wav_1.wav_1.wav.wav\n",
            "✅ เสร็จ: Male Singers Hitting Female Singers HIGH NOTES!!_1.wav_1.wav_1.wav_1.wav_1.wav_1.wav_1.wav_1.wav_1.wav_1.wav_1.wav_1.wav_1.wav_1.wav_1.wav_1.wav_1.wav_1.wav_1.wav_1.wav_1.wav_1.wav_1.wav_1.wav_1.wav_1.wav.wav\n",
            "🔄 กำลังแยก: Male Singers Hitting Female Singers HIGH NOTES!!_1.wav_1.wav_1.wav_1.wav_1.wav_1.wav_1.wav_1.wav_1.wav_1.wav_1.wav_1.wav_1.wav_1.wav_1.wav_1.wav_1.wav_1.wav_1.wav_1.wav_1.wav_1.wav_1.wav_1.wav_1.wav_1.wav_1.wav.wav\n",
            "✅ เสร็จ: Male Singers Hitting Female Singers HIGH NOTES!!_1.wav_1.wav_1.wav_1.wav_1.wav_1.wav_1.wav_1.wav_1.wav_1.wav_1.wav_1.wav_1.wav_1.wav_1.wav_1.wav_1.wav_1.wav_1.wav_1.wav_1.wav_1.wav_1.wav_1.wav_1.wav_1.wav_1.wav.wav\n",
            "🔄 กำลังแยก: Male Singers Hitting Female Singers HIGH NOTES!!_1.wav_1.wav_1.wav_1.wav_1.wav_1.wav_1.wav_1.wav_1.wav_1.wav_1.wav_1.wav_1.wav_1.wav_1.wav_1.wav_1.wav_1.wav_1.wav_1.wav_1.wav_1.wav_1.wav_1.wav_1.wav.wav\n",
            "✅ เสร็จ: Male Singers Hitting Female Singers HIGH NOTES!!_1.wav_1.wav_1.wav_1.wav_1.wav_1.wav_1.wav_1.wav_1.wav_1.wav_1.wav_1.wav_1.wav_1.wav_1.wav_1.wav_1.wav_1.wav_1.wav_1.wav_1.wav_1.wav_1.wav_1.wav_1.wav.wav\n",
            "🔄 กำลังแยก: Male Singers Hitting Female Singers HIGH NOTES!!_1.wav_1.wav_1.wav_1.wav_1.wav_1.wav_1.wav_1.wav_1.wav_1.wav_1.wav_1.wav_1.wav_1.wav_1.wav_1.wav_1.wav_1.wav_1.wav_1.wav_1.wav_1.wav_1.wav_1.wav.wav\n",
            "✅ เสร็จ: Male Singers Hitting Female Singers HIGH NOTES!!_1.wav_1.wav_1.wav_1.wav_1.wav_1.wav_1.wav_1.wav_1.wav_1.wav_1.wav_1.wav_1.wav_1.wav_1.wav_1.wav_1.wav_1.wav_1.wav_1.wav_1.wav_1.wav_1.wav_1.wav.wav\n",
            "🔄 กำลังแยก: Male Singers Hitting Female Singers HIGH NOTES!!_1.wav_1.wav_1.wav_1.wav_1.wav_1.wav_1.wav_1.wav_1.wav_1.wav_1.wav_1.wav_1.wav_1.wav_1.wav_1.wav_1.wav_1.wav_1.wav_1.wav_1.wav_1.wav_1.wav.wav\n",
            "✅ เสร็จ: Male Singers Hitting Female Singers HIGH NOTES!!_1.wav_1.wav_1.wav_1.wav_1.wav_1.wav_1.wav_1.wav_1.wav_1.wav_1.wav_1.wav_1.wav_1.wav_1.wav_1.wav_1.wav_1.wav_1.wav_1.wav_1.wav_1.wav_1.wav.wav\n",
            "🔄 กำลังแยก: Male Singers Hitting Female Singers HIGH NOTES!!_1.wav_1.wav_1.wav_1.wav_1.wav_1.wav_1.wav_1.wav_1.wav_1.wav_1.wav_1.wav_1.wav_1.wav_1.wav_1.wav_1.wav_1.wav.wav\n",
            "✅ เสร็จ: Male Singers Hitting Female Singers HIGH NOTES!!_1.wav_1.wav_1.wav_1.wav_1.wav_1.wav_1.wav_1.wav_1.wav_1.wav_1.wav_1.wav_1.wav_1.wav_1.wav_1.wav_1.wav_1.wav.wav\n",
            "🔄 กำลังแยก: Male Singers Hitting Female Singers HIGH NOTES!!_1.wav_1.wav_1.wav_1.wav_1.wav_1.wav_1.wav_1.wav_1.wav_1.wav_1.wav_1.wav_1.wav_1.wav_1.wav_1.wav.wav\n",
            "✅ เสร็จ: Male Singers Hitting Female Singers HIGH NOTES!!_1.wav_1.wav_1.wav_1.wav_1.wav_1.wav_1.wav_1.wav_1.wav_1.wav_1.wav_1.wav_1.wav_1.wav_1.wav_1.wav.wav\n",
            "🔄 กำลังแยก: Male Singers Hitting Female Singers HIGH NOTES!_2!_1.wav_1.wav_1.wav_1.wav_1.wav_1.wav_1.wav_1.wav_1.wav_1.wav_1.wav_1.wav_1.wav_1.wav_1.wav_1.wav_1.wav_1.wav_1.wav_1.wav_1.wav_1.wav_1.wav_1.wav.wav\n",
            "✅ เสร็จ: Male Singers Hitting Female Singers HIGH NOTES!_2!_1.wav_1.wav_1.wav_1.wav_1.wav_1.wav_1.wav_1.wav_1.wav_1.wav_1.wav_1.wav_1.wav_1.wav_1.wav_1.wav_1.wav_1.wav_1.wav_1.wav_1.wav_1.wav_1.wav_1.wav.wav\n",
            "🔄 กำลังแยก: Male Singers Hitting Female Singers HIGH NOTES!!_1.wav_1.wav_1.wav_1.wav_1.wav_1.wav_1.wav_1.wav_1.wav_1.wav_1.wav_1.wav_1.wav_1.wav_1.wav_1.wav_1.wav_1.wav_1.wav_1.wav_1.wav_1.wav.wav\n",
            "✅ เสร็จ: Male Singers Hitting Female Singers HIGH NOTES!!_1.wav_1.wav_1.wav_1.wav_1.wav_1.wav_1.wav_1.wav_1.wav_1.wav_1.wav_1.wav_1.wav_1.wav_1.wav_1.wav_1.wav_1.wav_1.wav_1.wav_1.wav_1.wav.wav\n",
            "🔄 กำลังแยก: Male Singers Hitting Female Singers HIGH NOTES!!_1_23.wav_1.wav_1.wav_1.wav_1.wav_1.wav_1.wav_1.wav_1.wav_1.wav_1.wav_1.wav_1.wav_1.wav_1.wav.wav\n",
            "✅ เสร็จ: Male Singers Hitting Female Singers HIGH NOTES!!_1_23.wav_1.wav_1.wav_1.wav_1.wav_1.wav_1.wav_1.wav_1.wav_1.wav_1.wav_1.wav_1.wav_1.wav_1.wav.wav\n",
            "🔄 กำลังแยก: Male _3Singers Hitting Female Singers HIGH NOTES!!_1.wav_1.wav_1.wav_1.wav_1.wav_1.wav_1.wav_1.wav_1.wav_1.wav_1.wav_1.wav_1.wav_1.wav.wav\n",
            "✅ เสร็จ: Male _3Singers Hitting Female Singers HIGH NOTES!!_1.wav_1.wav_1.wav_1.wav_1.wav_1.wav_1.wav_1.wav_1.wav_1.wav_1.wav_1.wav_1.wav_1.wav.wav\n",
            "🔄 กำลังแยก: Male Singers Hitting Female Singers HIGH NOTES!!_1.wav_1.wav_1.wav_1.wav_1.wav_1.wav_1.wav_1.wav_1.wav_1.wav_1.wav_1.wav_1.wav_1.wav_1.wav_1.wav_1.wav_1.wav_1.wav_1.wav_1.wav.wav\n",
            "✅ เสร็จ: Male Singers Hitting Female Singers HIGH NOTES!!_1.wav_1.wav_1.wav_1.wav_1.wav_1.wav_1.wav_1.wav_1.wav_1.wav_1.wav_1.wav_1.wav_1.wav_1.wav_1.wav_1.wav_1.wav_1.wav_1.wav_1.wav.wav\n",
            "🔄 กำลังแยก: Male Singers Hitting _4Female Singers HIGH NOTES!!_1.wav_1.wav_1.wav_1.wav_1.wav_1.wav_1.wav_1.wav_1.wav_1.wav_1.wav_1.wav_1.wav.wav\n",
            "✅ เสร็จ: Male Singers Hitting _4Female Singers HIGH NOTES!!_1.wav_1.wav_1.wav_1.wav_1.wav_1.wav_1.wav_1.wav_1.wav_1.wav_1.wav_1.wav_1.wav.wav\n",
            "🔄 กำลังแยก: Male Singers Hitting Female Singers HIGH NOTES!!_1.wav_1.wav_1.wav_1.wav_1.wav_1.wav_1.wav_1.wav_1.wav_1.wav_1.wav_1.wav_1.wav_1.wav_1.wav_1.wav_1.wav_1.wav_1.wav_1.wav.wav\n",
            "✅ เสร็จ: Male Singers Hitting Female Singers HIGH NOTES!!_1.wav_1.wav_1.wav_1.wav_1.wav_1.wav_1.wav_1.wav_1.wav_1.wav_1.wav_1.wav_1.wav_1.wav_1.wav_1.wav_1.wav_1.wav_1.wav_1.wav.wav\n",
            "🔄 กำลังแยก: Male Singers Hitting Female Singers HIGH NOTES!!_1.wav_1.wav_1.wav_1.wav_1.wav_1.wav_1.wav_1.wav_1.wav_1.wav_1.wav_1.wav_1.wav_1.wav_1.wav_1.wav_1.wav_1.wav_1.wav.wav\n",
            "✅ เสร็จ: Male Singers Hitting Female Singers HIGH NOTES!!_1.wav_1.wav_1.wav_1.wav_1.wav_1.wav_1.wav_1.wav_1.wav_1.wav_1.wav_1.wav_1.wav_1.wav_1.wav_1.wav_1.wav_1.wav_1.wav.wav\n",
            "🔄 กำลังแยก: Male Singers Hitting Female Singers HIGH NOTES!!_1.wav_1.wav_1.wav_1.wav_1.wav_1.wav_1.wav_1.wav_1.wav_1.wav_1.wav_1.wav_1.wav_1.wav_1.wav_1.wav_1.wav.wav\n",
            "✅ เสร็จ: Male Singers Hitting Female Singers HIGH NOTES!!_1.wav_1.wav_1.wav_1.wav_1.wav_1.wav_1.wav_1.wav_1.wav_1.wav_1.wav_1.wav_1.wav_1.wav_1.wav_1.wav_1.wav.wav\n",
            "🔄 กำลังแยก: Male Singers Hitting 54Female Singers HIGH NOTES!_2!_1.wav_1.wav_1.wav_1.wav_1.wav_1.wav_1.wav_1.wav_1.wav_1.wav_1.wav_1.wav_1.wav_1.wav_1.wav_1.wav_1.wav_1.wav_1.wav_1.wav_1.wav_1.wav_1.wav_1.wav.wav\n",
            "✅ เสร็จ: Male Singers Hitting 54Female Singers HIGH NOTES!_2!_1.wav_1.wav_1.wav_1.wav_1.wav_1.wav_1.wav_1.wav_1.wav_1.wav_1.wav_1.wav_1.wav_1.wav_1.wav_1.wav_1.wav_1.wav_1.wav_1.wav_1.wav_1.wav_1.wav_1.wav.wav\n",
            "🔄 กำลังแยก: Male Singers Hitting 887hFemale Singers HIGH NOTES!!_1.wav_1.wav_1.wav_1.wav_1.wav_1.wav_1.wav_1.wav_1.wav_1.wav_1.wav_1.wav.wav\n",
            "✅ เสร็จ: Male Singers Hitting 887hFemale Singers HIGH NOTES!!_1.wav_1.wav_1.wav_1.wav_1.wav_1.wav_1.wav_1.wav_1.wav_1.wav_1.wav_1.wav.wav\n",
            "🔄 กำลังแยก: Male Singers Hitting tg8Female Singers HIGH NOTES!!_1.wav_1.wav_1.wav_1.wav_1.wav_1.wav_1.wav_1.wav_1.wav_1.wav_1.wav.wav\n",
            "✅ เสร็จ: Male Singers Hitting tg8Female Singers HIGH NOTES!!_1.wav_1.wav_1.wav_1.wav_1.wav_1.wav_1.wav_1.wav_1.wav_1.wav_1.wav.wav\n",
            "🔄 กำลังแยก: Male7f6v Singers Hitting Female Singers HIGH NOTES!!_1.wav_1.wav_1.wav_1.wav_1.wav_1.wav_1.wav_1.wav_1.wav_1.wav.wav\n",
            "✅ เสร็จ: Male7f6v Singers Hitting Female Singers HIGH NOTES!!_1.wav_1.wav_1.wav_1.wav_1.wav_1.wav_1.wav_1.wav_1.wav_1.wav.wav\n",
            "🔄 กำลังแยก: Maleunub Singers Hitting Female Singers HIGH NOTES!!_1.wav_1.wav_1.wav_1.wav_1.wav_1.wav_1.wav_1.wav_1.wav.wav\n",
            "✅ เสร็จ: Maleunub Singers Hitting Female Singers HIGH NOTES!!_1.wav_1.wav_1.wav_1.wav_1.wav_1.wav_1.wav_1.wav_1.wav.wav\n",
            "🔄 กำลังแยก: Malenin Singers Hitting Female Singers HIGH NOTES!!_1.wav_1.wav_1.wav_1.wav_1.wav_1.wav_1.wav_1.wav.wav\n",
            "✅ เสร็จ: Malenin Singers Hitting Female Singers HIGH NOTES!!_1.wav_1.wav_1.wav_1.wav_1.wav_1.wav_1.wav_1.wav.wav\n",
            "🔄 กำลังแยก: Male hunmSingers Hitting Female Singers HIGH NOTES!!_1.wav_1.wav_1.wav_1.wav_1.wav_1.wav_1.wav.wav\n",
            "✅ เสร็จ: Male hunmSingers Hitting Female Singers HIGH NOTES!!_1.wav_1.wav_1.wav_1.wav_1.wav_1.wav_1.wav.wav\n",
            "🔄 กำลังแยก: Male ibuuiSingers Hitting Female Singers HIGH NOTES!!_1.wav_1.wav_1.wav_1.wav_1.wav_1.wav.wav\n",
            "✅ เสร็จ: Male ibuuiSingers Hitting Female Singers HIGH NOTES!!_1.wav_1.wav_1.wav_1.wav_1.wav_1.wav.wav\n",
            "🔄 กำลังแยก: Male Singers 78hn Female Singers HIGH NOTES!!_1.wav_1.wav_1.wav_1.wav_1.wav.wav\n",
            "✅ เสร็จ: Male Singers 78hn Female Singers HIGH NOTES!!_1.wav_1.wav_1.wav_1.wav_1.wav.wav\n",
            "🔄 กำลังแยก: Male Singersedervth Hitting Female Singers HIGH NOTES!!_1.wav_1.wav_1.wav_1.wav.wav\n",
            "✅ เสร็จ: Male Singersedervth Hitting Female Singers HIGH NOTES!!_1.wav_1.wav_1.wav_1.wav.wav\n",
            "🔄 กำลังแยก: Male Singers 8ubjnHitting Female Singers HIGH NOTES!!_1.wav_1.wav_1.wav.wav\n",
            "✅ เสร็จ: Male Singers 8ubjnHitting Female Singers HIGH NOTES!!_1.wav_1.wav_1.wav.wav\n",
            "🔄 กำลังแยก: Male Singers hujiHitting Female Singers HIGH NOTES!!_1.wav_1.wav.wav\n",
            "✅ เสร็จ: Male Singers hujiHitting Female Singers HIGH NOTES!!_1.wav_1.wav.wav\n",
            "🔄 กำลังแยก: jbubMale Singers Hitting Female Singers HIGH NOTES!!_1.wav.wav\n",
            "✅ เสร็จ: jbubMale Singers Hitting Female Singers HIGH NOTES!!_1.wav.wav\n",
            "🔄 กำลังแยก: Male Singers Hitting Female Singers High Notes! Pt 2_1.wav\n",
            "✅ เสร็จ: Male Singers Hitting Female Singers High Notes! Pt 2_1.wav\n",
            "🔄 กำลังแยก: Male Singers Hitting Female Singers High Notes! Pt 2_2.wav\n"
          ]
        }
      ]
    },
    {
      "cell_type": "markdown",
      "source": [
        "#แปลงไฟล์"
      ],
      "metadata": {
        "id": "38pktIQMUXsy"
      }
    },
    {
      "cell_type": "code",
      "execution_count": null,
      "metadata": {
        "colab": {
          "base_uri": "https://localhost:8080/"
        },
        "id": "7wJSWo4pCxQ9",
        "outputId": "cec57dcb-88e5-4891-ab58-285a51eef996"
      },
      "outputs": [
        {
          "output_type": "stream",
          "name": "stdout",
          "text": [
            "Collecting pydub\n",
            "  Downloading pydub-0.25.1-py2.py3-none-any.whl.metadata (1.4 kB)\n",
            "Downloading pydub-0.25.1-py2.py3-none-any.whl (32 kB)\n",
            "Installing collected packages: pydub\n",
            "Successfully installed pydub-0.25.1\n"
          ]
        }
      ],
      "source": [
        "pip install pydub"
      ]
    },
    {
      "cell_type": "code",
      "source": [
        "pip install moviepy"
      ],
      "metadata": {
        "colab": {
          "base_uri": "https://localhost:8080/"
        },
        "id": "nHqwiV6C8_B1",
        "outputId": "d2d0cb8f-50a6-4f60-cebc-25d8401af439"
      },
      "execution_count": null,
      "outputs": [
        {
          "output_type": "stream",
          "name": "stdout",
          "text": [
            "Requirement already satisfied: moviepy in /usr/local/lib/python3.11/dist-packages (1.0.3)\n",
            "Requirement already satisfied: decorator<5.0,>=4.0.2 in /usr/local/lib/python3.11/dist-packages (from moviepy) (4.4.2)\n",
            "Requirement already satisfied: tqdm<5.0,>=4.11.2 in /usr/local/lib/python3.11/dist-packages (from moviepy) (4.67.1)\n",
            "Requirement already satisfied: requests<3.0,>=2.8.1 in /usr/local/lib/python3.11/dist-packages (from moviepy) (2.32.3)\n",
            "Requirement already satisfied: proglog<=1.0.0 in /usr/local/lib/python3.11/dist-packages (from moviepy) (0.1.11)\n",
            "Requirement already satisfied: numpy>=1.17.3 in /usr/local/lib/python3.11/dist-packages (from moviepy) (2.0.2)\n",
            "Requirement already satisfied: imageio<3.0,>=2.5 in /usr/local/lib/python3.11/dist-packages (from moviepy) (2.37.0)\n",
            "Requirement already satisfied: imageio-ffmpeg>=0.2.0 in /usr/local/lib/python3.11/dist-packages (from moviepy) (0.6.0)\n",
            "Requirement already satisfied: pillow>=8.3.2 in /usr/local/lib/python3.11/dist-packages (from imageio<3.0,>=2.5->moviepy) (11.2.1)\n",
            "Requirement already satisfied: charset-normalizer<4,>=2 in /usr/local/lib/python3.11/dist-packages (from requests<3.0,>=2.8.1->moviepy) (3.4.1)\n",
            "Requirement already satisfied: idna<4,>=2.5 in /usr/local/lib/python3.11/dist-packages (from requests<3.0,>=2.8.1->moviepy) (3.10)\n",
            "Requirement already satisfied: urllib3<3,>=1.21.1 in /usr/local/lib/python3.11/dist-packages (from requests<3.0,>=2.8.1->moviepy) (2.4.0)\n",
            "Requirement already satisfied: certifi>=2017.4.17 in /usr/local/lib/python3.11/dist-packages (from requests<3.0,>=2.8.1->moviepy) (2025.4.26)\n"
          ]
        }
      ]
    },
    {
      "cell_type": "markdown",
      "source": [
        "mp4 to mp3"
      ],
      "metadata": {
        "id": "vyNbP35TBf_h"
      }
    },
    {
      "cell_type": "code",
      "source": [
        "import os\n",
        "from moviepy.editor import VideoFileClip"
      ],
      "metadata": {
        "colab": {
          "base_uri": "https://localhost:8080/"
        },
        "id": "oqbZKl659bYA",
        "outputId": "b1b9cd8c-aab2-484a-9698-7e8b01c33372"
      },
      "execution_count": null,
      "outputs": [
        {
          "output_type": "stream",
          "name": "stderr",
          "text": [
            "WARNING:py.warnings:/usr/local/lib/python3.11/dist-packages/moviepy/video/io/sliders.py:61: SyntaxWarning: \"is\" with a literal. Did you mean \"==\"?\n",
            "  if event.key is 'enter':\n",
            "\n"
          ]
        }
      ]
    },
    {
      "cell_type": "code",
      "source": [
        "# โฟลเดอร์ต้นทาง (mp4)\n",
        "src_folder = \"/content/drive/MyDrive/Datasets_For_Ai_builders/mp4/9 5 2025\"\n",
        "# โฟลเดอร์ปลายทาง (mp3)\n",
        "dst_folder = \"/content/drive/MyDrive/Datasets_For_Ai_builders/mp3/9-5-2025/\"\n",
        "\n",
        "# สร้างโฟลเดอร์ปลายทางถ้ายังไม่มี\n",
        "os.makedirs(dst_folder, exist_ok=True)"
      ],
      "metadata": {
        "id": "JoHUHLp59YQ7"
      },
      "execution_count": null,
      "outputs": []
    },
    {
      "cell_type": "code",
      "source": [
        "for filename in os.listdir(src_folder):\n",
        "    if filename.endswith(\".mp4\"):\n",
        "        mp4_path = os.path.join(src_folder, filename)\n",
        "        mp3_filename = os.path.splitext(filename)[0] + \".mp3\"\n",
        "        mp3_path = os.path.join(dst_folder, mp3_filename)\n",
        "\n",
        "        try:\n",
        "            video = VideoFileClip(mp4_path)\n",
        "            if video.audio is not None:\n",
        "                video.audio.write_audiofile(mp3_path)\n",
        "                print(f\"แปลงเสร็จ: {filename} → {mp3_filename}\")\n",
        "            else:\n",
        "                print(f\"ข้าม: {filename} ไม่มีเสียง\")\n",
        "        except Exception as e:\n",
        "            print(f\"แปลงไม่ได้: {filename}\")\n",
        "            print(f\"Error: {e}\")"
      ],
      "metadata": {
        "colab": {
          "base_uri": "https://localhost:8080/"
        },
        "id": "y--4LT0o9gOT",
        "outputId": "d333d6b9-6441-44f6-ef23-aa024cd56bdb"
      },
      "execution_count": null,
      "outputs": [
        {
          "output_type": "stream",
          "name": "stderr",
          "text": [
            "chunk:   9%|▉         | 955/10272 [01:59<00:15, 619.86it/s, now=None]"
          ]
        },
        {
          "output_type": "stream",
          "name": "stdout",
          "text": [
            "MoviePy - Writing audio in /content/drive/MyDrive/Datasets_For_Ai_builders/mp3/9-5-2025/Male Singers Hitting Female Singers HIGH NOTES!!.mp3\n"
          ]
        },
        {
          "output_type": "stream",
          "name": "stderr",
          "text": [
            "\n",
            "chunk:   0%|          | 0/9176 [00:00<?, ?it/s, now=None]\u001b[A\n",
            "chunk:   1%|          | 113/9176 [00:00<00:10, 829.58it/s, now=None]\u001b[A\n",
            "chunk:   2%|▏         | 196/9176 [00:00<00:11, 755.66it/s, now=None]\u001b[A\n",
            "chunk:   3%|▎         | 272/9176 [00:00<00:12, 704.52it/s, now=None]\u001b[A\n",
            "chunk:   4%|▎         | 343/9176 [00:00<00:13, 663.99it/s, now=None]\u001b[A\n",
            "chunk:   4%|▍         | 410/9176 [00:00<00:13, 643.06it/s, now=None]\u001b[A\n",
            "chunk:   5%|▌         | 474/9176 [00:00<00:13, 627.42it/s, now=None]\u001b[A\n",
            "chunk:   6%|▌         | 543/9176 [00:00<00:13, 646.02it/s, now=None]\u001b[A\n",
            "chunk:   7%|▋         | 610/9176 [00:00<00:13, 642.67it/s, now=None]\u001b[A\n",
            "chunk:   7%|▋         | 677/9176 [00:01<00:13, 650.30it/s, now=None]\u001b[A\n",
            "chunk:   8%|▊         | 754/9176 [00:01<00:12, 671.09it/s, now=None]\u001b[A\n",
            "chunk:   9%|▉         | 825/9176 [00:01<00:12, 680.01it/s, now=None]\u001b[A\n",
            "chunk:  10%|▉         | 894/9176 [00:01<00:12, 665.98it/s, now=None]\u001b[A\n",
            "chunk:  10%|█         | 962/9176 [00:01<00:12, 663.52it/s, now=None]\u001b[A\n",
            "chunk:  11%|█         | 1029/9176 [00:01<00:12, 632.82it/s, now=None]\u001b[A\n",
            "chunk:  12%|█▏        | 1098/9176 [00:01<00:12, 633.69it/s, now=None]\u001b[A\n",
            "chunk:  13%|█▎        | 1173/9176 [00:01<00:12, 664.09it/s, now=None]\u001b[A\n",
            "chunk:  14%|█▎        | 1242/9176 [00:01<00:11, 669.01it/s, now=None]\u001b[A\n",
            "chunk:  14%|█▍        | 1314/9176 [00:01<00:11, 680.35it/s, now=None]\u001b[A\n",
            "chunk:  15%|█▌        | 1386/9176 [00:02<00:11, 681.29it/s, now=None]\u001b[A\n",
            "chunk:  16%|█▌        | 1465/9176 [00:02<00:10, 703.76it/s, now=None]\u001b[A\n",
            "chunk:  17%|█▋        | 1536/9176 [00:02<00:11, 688.75it/s, now=None]\u001b[A\n",
            "chunk:  18%|█▊        | 1608/9176 [00:02<00:10, 694.35it/s, now=None]\u001b[A\n",
            "chunk:  18%|█▊        | 1680/9176 [00:02<00:10, 697.31it/s, now=None]\u001b[A\n",
            "chunk:  19%|█▉        | 1750/9176 [00:02<00:11, 662.67it/s, now=None]\u001b[A\n",
            "chunk:  20%|█▉        | 1823/9176 [00:02<00:10, 680.94it/s, now=None]\u001b[A\n",
            "chunk:  21%|██        | 1892/9176 [00:02<00:11, 641.63it/s, now=None]\u001b[A\n",
            "chunk:  21%|██▏       | 1963/9176 [00:02<00:10, 660.68it/s, now=None]\u001b[A\n",
            "chunk:  22%|██▏       | 2034/9176 [00:03<00:10, 672.59it/s, now=None]\u001b[A\n",
            "chunk:  23%|██▎       | 2106/9176 [00:03<00:10, 675.07it/s, now=None]\u001b[A\n",
            "chunk:  24%|██▎       | 2178/9176 [00:03<00:10, 683.79it/s, now=None]\u001b[A\n",
            "chunk:  24%|██▍       | 2247/9176 [00:03<00:10, 682.58it/s, now=None]\u001b[A\n",
            "chunk:  25%|██▌       | 2324/9176 [00:03<00:09, 691.71it/s, now=None]\u001b[A\n",
            "chunk:  26%|██▌       | 2397/9176 [00:03<00:09, 690.54it/s, now=None]\u001b[A\n",
            "chunk:  27%|██▋       | 2467/9176 [00:03<00:10, 656.53it/s, now=None]\u001b[A\n",
            "chunk:  28%|██▊       | 2534/9176 [00:03<00:10, 650.15it/s, now=None]\u001b[A\n",
            "chunk:  28%|██▊       | 2600/9176 [00:03<00:10, 640.91it/s, now=None]\u001b[A\n",
            "chunk:  29%|██▉       | 2669/9176 [00:03<00:09, 654.30it/s, now=None]\u001b[A\n",
            "chunk:  30%|██▉       | 2739/9176 [00:04<00:09, 667.05it/s, now=None]\u001b[A\n",
            "chunk:  31%|███       | 2806/9176 [00:04<00:09, 638.15it/s, now=None]\u001b[A\n",
            "chunk:  31%|███▏      | 2878/9176 [00:04<00:09, 651.01it/s, now=None]\u001b[A\n",
            "chunk:  32%|███▏      | 2950/9176 [00:04<00:09, 659.07it/s, now=None]\u001b[A\n",
            "chunk:  33%|███▎      | 3021/9176 [00:04<00:09, 673.35it/s, now=None]\u001b[A\n",
            "chunk:  34%|███▎      | 3089/9176 [00:04<00:09, 645.24it/s, now=None]\u001b[A\n",
            "chunk:  34%|███▍      | 3154/9176 [00:04<00:09, 623.82it/s, now=None]\u001b[A\n",
            "chunk:  35%|███▌      | 3217/9176 [00:04<00:09, 611.20it/s, now=None]\u001b[A\n",
            "chunk:  36%|███▌      | 3279/9176 [00:04<00:09, 603.80it/s, now=None]\u001b[A\n",
            "chunk:  36%|███▋      | 3342/9176 [00:05<00:09, 607.86it/s, now=None]\u001b[A\n",
            "chunk:  37%|███▋      | 3406/9176 [00:05<00:09, 609.66it/s, now=None]\u001b[A\n",
            "chunk:  38%|███▊      | 3469/9176 [00:05<00:09, 614.62it/s, now=None]\u001b[A\n",
            "chunk:  39%|███▊      | 3535/9176 [00:05<00:08, 626.97it/s, now=None]\u001b[A\n",
            "chunk:  39%|███▉      | 3604/9176 [00:05<00:08, 632.39it/s, now=None]\u001b[A\n",
            "chunk:  40%|████      | 3672/9176 [00:05<00:08, 639.20it/s, now=None]\u001b[A\n",
            "chunk:  41%|████      | 3739/9176 [00:05<00:08, 647.35it/s, now=None]\u001b[A\n",
            "chunk:  41%|████▏     | 3804/9176 [00:05<00:08, 626.76it/s, now=None]\u001b[A\n",
            "chunk:  42%|████▏     | 3867/9176 [00:05<00:08, 624.56it/s, now=None]\u001b[A\n",
            "chunk:  43%|████▎     | 3930/9176 [00:05<00:08, 625.72it/s, now=None]\u001b[A\n",
            "chunk:  44%|████▎     | 4001/9176 [00:06<00:07, 648.10it/s, now=None]\u001b[A\n",
            "chunk:  44%|████▍     | 4066/9176 [00:06<00:07, 647.29it/s, now=None]\u001b[A\n",
            "chunk:  45%|████▌     | 4131/9176 [00:06<00:08, 629.20it/s, now=None]\u001b[A\n",
            "chunk:  46%|████▌     | 4201/9176 [00:06<00:07, 646.60it/s, now=None]\u001b[A\n",
            "chunk:  46%|████▋     | 4266/9176 [00:06<00:07, 639.13it/s, now=None]\u001b[A\n",
            "chunk:  47%|████▋     | 4331/9176 [00:06<00:07, 632.61it/s, now=None]\u001b[A\n",
            "chunk:  48%|████▊     | 4395/9176 [00:06<00:07, 630.76it/s, now=None]\u001b[A\n",
            "chunk:  49%|████▊     | 4459/9176 [00:06<00:07, 618.17it/s, now=None]\u001b[A\n",
            "chunk:  49%|████▉     | 4528/9176 [00:06<00:07, 638.83it/s, now=None]\u001b[A\n",
            "chunk:  50%|█████     | 4593/9176 [00:07<00:07, 628.77it/s, now=None]\u001b[A\n",
            "chunk:  51%|█████     | 4673/9176 [00:07<00:06, 668.33it/s, now=None]\u001b[A\n",
            "chunk:  52%|█████▏    | 4753/9176 [00:07<00:06, 699.63it/s, now=None]\u001b[A\n",
            "chunk:  53%|█████▎    | 4841/9176 [00:07<00:05, 738.57it/s, now=None]\u001b[A\n",
            "chunk:  54%|█████▎    | 4924/9176 [00:07<00:05, 751.87it/s, now=None]\u001b[A\n",
            "chunk:  54%|█████▍    | 5000/9176 [00:07<00:05, 740.20it/s, now=None]\u001b[A\n",
            "chunk:  55%|█████▌    | 5075/9176 [00:07<00:05, 738.31it/s, now=None]\u001b[A\n",
            "chunk:  56%|█████▌    | 5149/9176 [00:07<00:05, 726.07it/s, now=None]\u001b[A\n",
            "chunk:  57%|█████▋    | 5222/9176 [00:07<00:05, 684.16it/s, now=None]\u001b[A\n",
            "chunk:  58%|█████▊    | 5291/9176 [00:07<00:05, 678.13it/s, now=None]\u001b[A\n",
            "chunk:  58%|█████▊    | 5360/9176 [00:08<00:05, 669.97it/s, now=None]\u001b[A\n",
            "chunk:  59%|█████▉    | 5430/9176 [00:08<00:05, 678.08it/s, now=None]\u001b[A\n",
            "chunk:  60%|█████▉    | 5498/9176 [00:08<00:05, 653.99it/s, now=None]\u001b[A\n",
            "chunk:  61%|██████    | 5564/9176 [00:08<00:05, 633.39it/s, now=None]\u001b[A\n",
            "chunk:  61%|██████▏   | 5631/9176 [00:08<00:05, 633.88it/s, now=None]\u001b[A\n",
            "chunk:  62%|██████▏   | 5703/9176 [00:08<00:05, 650.10it/s, now=None]\u001b[A\n",
            "chunk:  63%|██████▎   | 5769/9176 [00:08<00:05, 649.67it/s, now=None]\u001b[A\n",
            "chunk:  64%|██████▎   | 5839/9176 [00:08<00:05, 650.22it/s, now=None]\u001b[A\n",
            "chunk:  64%|██████▍   | 5905/9176 [00:08<00:05, 626.34it/s, now=None]\u001b[A\n",
            "chunk:  65%|██████▌   | 5968/9176 [00:09<00:05, 625.03it/s, now=None]\u001b[A\n",
            "chunk:  66%|██████▌   | 6039/9176 [00:09<00:04, 644.54it/s, now=None]\u001b[A\n",
            "chunk:  67%|██████▋   | 6111/9176 [00:09<00:04, 665.92it/s, now=None]\u001b[A\n",
            "chunk:  67%|██████▋   | 6178/9176 [00:09<00:04, 607.72it/s, now=None]\u001b[A\n",
            "chunk:  68%|██████▊   | 6240/9176 [00:09<00:05, 533.86it/s, now=None]\u001b[A\n",
            "chunk:  69%|██████▊   | 6296/9176 [00:09<00:05, 500.28it/s, now=None]\u001b[A\n",
            "chunk:  69%|██████▉   | 6348/9176 [00:09<00:05, 498.38it/s, now=None]\u001b[A\n",
            "chunk:  70%|██████▉   | 6399/9176 [00:09<00:06, 462.13it/s, now=None]\u001b[A\n",
            "chunk:  70%|███████   | 6447/9176 [00:10<00:06, 438.26it/s, now=None]\u001b[A\n",
            "chunk:  71%|███████   | 6492/9176 [00:10<00:06, 430.20it/s, now=None]\u001b[A\n",
            "chunk:  71%|███████   | 6536/9176 [00:10<00:06, 432.42it/s, now=None]\u001b[A\n",
            "chunk:  72%|███████▏  | 6580/9176 [00:10<00:06, 421.46it/s, now=None]\u001b[A\n",
            "chunk:  72%|███████▏  | 6630/9176 [00:10<00:05, 439.14it/s, now=None]\u001b[A\n",
            "chunk:  73%|███████▎  | 6675/9176 [00:10<00:05, 437.98it/s, now=None]\u001b[A\n",
            "chunk:  73%|███████▎  | 6723/9176 [00:10<00:05, 438.13it/s, now=None]\u001b[A\n",
            "chunk:  74%|███████▍  | 6771/9176 [00:10<00:05, 443.95it/s, now=None]\u001b[A\n",
            "chunk:  74%|███████▍  | 6819/9176 [00:10<00:05, 438.10it/s, now=None]\u001b[A\n",
            "chunk:  75%|███████▍  | 6866/9176 [00:11<00:05, 425.52it/s, now=None]\u001b[A\n",
            "chunk:  75%|███████▌  | 6909/9176 [00:11<00:05, 404.04it/s, now=None]\u001b[A\n",
            "chunk:  76%|███████▌  | 6954/9176 [00:11<00:05, 404.08it/s, now=None]\u001b[A\n",
            "chunk:  76%|███████▌  | 6995/9176 [00:11<00:05, 402.19it/s, now=None]\u001b[A\n",
            "chunk:  77%|███████▋  | 7042/9176 [00:11<00:05, 411.66it/s, now=None]\u001b[A\n",
            "chunk:  77%|███████▋  | 7097/9176 [00:11<00:04, 450.10it/s, now=None]\u001b[A\n",
            "chunk:  78%|███████▊  | 7143/9176 [00:11<00:04, 410.15it/s, now=None]\u001b[A\n",
            "chunk:  79%|███████▊  | 7204/9176 [00:11<00:04, 461.01it/s, now=None]\u001b[A\n",
            "chunk:  79%|███████▉  | 7268/9176 [00:11<00:03, 507.60it/s, now=None]\u001b[A\n",
            "chunk:  80%|███████▉  | 7324/9176 [00:12<00:03, 518.77it/s, now=None]\u001b[A\n",
            "chunk:  80%|████████  | 7380/9176 [00:12<00:03, 522.20it/s, now=None]\u001b[A\n",
            "chunk:  81%|████████  | 7433/9176 [00:12<00:03, 506.51it/s, now=None]\u001b[A\n",
            "chunk:  82%|████████▏ | 7485/9176 [00:12<00:03, 502.36it/s, now=None]\u001b[A\n",
            "chunk:  82%|████████▏ | 7548/9176 [00:12<00:03, 519.05it/s, now=None]\u001b[A\n",
            "chunk:  83%|████████▎ | 7641/9176 [00:12<00:02, 634.68it/s, now=None]\u001b[A\n",
            "chunk:  84%|████████▍ | 7711/9176 [00:12<00:02, 638.48it/s, now=None]\u001b[A\n",
            "chunk:  85%|████████▍ | 7776/9176 [00:12<00:02, 631.83it/s, now=None]\u001b[A\n",
            "chunk:  85%|████████▌ | 7840/9176 [00:12<00:02, 578.03it/s, now=None]\u001b[A\n",
            "chunk:  86%|████████▌ | 7899/9176 [00:13<00:02, 552.03it/s, now=None]\u001b[A\n",
            "chunk:  87%|████████▋ | 7956/9176 [00:13<00:02, 486.43it/s, now=None]\u001b[A\n",
            "chunk:  87%|████████▋ | 8007/9176 [00:13<00:02, 481.61it/s, now=None]\u001b[A\n",
            "chunk:  88%|████████▊ | 8057/9176 [00:13<00:02, 469.40it/s, now=None]\u001b[A\n",
            "chunk:  88%|████████▊ | 8110/9176 [00:13<00:02, 478.50it/s, now=None]\u001b[A\n",
            "chunk:  89%|████████▉ | 8160/9176 [00:13<00:02, 482.34it/s, now=None]\u001b[A\n",
            "chunk:  90%|████████▉ | 8226/9176 [00:13<00:01, 531.76it/s, now=None]\u001b[A\n",
            "chunk:  90%|█████████ | 8290/9176 [00:13<00:01, 562.37it/s, now=None]\u001b[A\n",
            "chunk:  91%|█████████ | 8358/9176 [00:13<00:01, 591.49it/s, now=None]\u001b[A\n",
            "chunk:  92%|█████████▏| 8418/9176 [00:14<00:01, 586.59it/s, now=None]\u001b[A\n",
            "chunk:  93%|█████████▎| 8498/9176 [00:14<00:01, 643.84it/s, now=None]\u001b[A\n",
            "chunk:  93%|█████████▎| 8563/9176 [00:14<00:00, 625.77it/s, now=None]\u001b[A\n",
            "chunk:  94%|█████████▍| 8628/9176 [00:14<00:00, 632.08it/s, now=None]\u001b[A\n",
            "chunk:  95%|█████████▍| 8692/9176 [00:14<00:00, 518.17it/s, now=None]\u001b[A\n",
            "chunk:  95%|█████████▌| 8748/9176 [00:14<00:00, 476.27it/s, now=None]\u001b[A\n",
            "chunk:  96%|█████████▌| 8799/9176 [00:14<00:00, 462.52it/s, now=None]\u001b[A\n",
            "chunk:  96%|█████████▋| 8848/9176 [00:14<00:00, 452.12it/s, now=None]\u001b[A\n",
            "chunk:  97%|█████████▋| 8895/9176 [00:14<00:00, 448.76it/s, now=None]\u001b[A\n",
            "chunk:  97%|█████████▋| 8941/9176 [00:15<00:00, 449.23it/s, now=None]\u001b[A\n",
            "chunk:  98%|█████████▊| 8987/9176 [00:15<00:00, 420.50it/s, now=None]\u001b[A\n",
            "chunk:  98%|█████████▊| 9030/9176 [00:15<00:00, 415.06it/s, now=None]\u001b[A\n",
            "chunk:  99%|█████████▉| 9072/9176 [00:15<00:00, 400.15it/s, now=None]\u001b[A\n",
            "chunk:  99%|█████████▉| 9113/9176 [00:15<00:00, 372.55it/s, now=None]\u001b[A\n",
            "chunk: 100%|█████████▉| 9152/9176 [00:15<00:00, 372.20it/s, now=None]\u001b[A\n",
            "chunk:   9%|▉         | 955/10272 [02:15<00:15, 619.86it/s, now=None]"
          ]
        },
        {
          "output_type": "stream",
          "name": "stdout",
          "text": [
            "MoviePy - Done.\n",
            "แปลงเสร็จ: Male Singers Hitting Female Singers HIGH NOTES!!.mp4 → Male Singers Hitting Female Singers HIGH NOTES!!.mp3\n",
            "MoviePy - Writing audio in /content/drive/MyDrive/Datasets_For_Ai_builders/mp3/9-5-2025/Male Singers Hitting Female Singers High Notes! Pt 2.mp3\n"
          ]
        },
        {
          "output_type": "stream",
          "name": "stderr",
          "text": [
            "\n",
            "chunk:   0%|          | 0/10272 [00:00<?, ?it/s, now=None]\u001b[A\n",
            "chunk:   1%|          | 113/10272 [00:00<00:14, 689.32it/s, now=None]\u001b[A\n",
            "chunk:   2%|▏         | 182/10272 [00:00<00:14, 679.48it/s, now=None]\u001b[A\n",
            "chunk:   2%|▏         | 253/10272 [00:00<00:14, 672.44it/s, now=None]\u001b[A\n",
            "chunk:   3%|▎         | 321/10272 [00:00<00:15, 659.29it/s, now=None]\u001b[A\n",
            "chunk:   4%|▍         | 387/10272 [00:00<00:15, 631.45it/s, now=None]\u001b[A\n",
            "chunk:   4%|▍         | 451/10272 [00:00<00:15, 626.83it/s, now=None]\u001b[A\n",
            "chunk:   5%|▌         | 514/10272 [00:00<00:15, 611.44it/s, now=None]\u001b[A\n",
            "chunk:   6%|▌         | 587/10272 [00:00<00:15, 630.50it/s, now=None]\u001b[A\n",
            "chunk:   6%|▋         | 651/10272 [00:01<00:15, 623.33it/s, now=None]\u001b[A\n",
            "chunk:   7%|▋         | 714/10272 [00:01<00:15, 624.70it/s, now=None]\u001b[A\n",
            "chunk:   8%|▊         | 791/10272 [00:01<00:14, 667.16it/s, now=None]\u001b[A\n",
            "chunk:   8%|▊         | 858/10272 [00:01<00:14, 635.44it/s, now=None]\u001b[A\n",
            "chunk:   9%|▉         | 928/10272 [00:01<00:14, 637.38it/s, now=None]\u001b[A\n",
            "chunk:  10%|▉         | 992/10272 [00:01<00:14, 631.06it/s, now=None]\u001b[A\n",
            "chunk:  10%|█         | 1056/10272 [00:01<00:14, 616.35it/s, now=None]\u001b[A\n",
            "chunk:  11%|█         | 1122/10272 [00:01<00:14, 628.79it/s, now=None]\u001b[A\n",
            "chunk:  12%|█▏        | 1199/10272 [00:01<00:13, 669.03it/s, now=None]\u001b[A\n",
            "chunk:  12%|█▏        | 1267/10272 [00:01<00:13, 667.75it/s, now=None]\u001b[A\n",
            "chunk:  13%|█▎        | 1338/10272 [00:02<00:13, 679.41it/s, now=None]\u001b[A\n",
            "chunk:  14%|█▎        | 1410/10272 [00:02<00:12, 691.14it/s, now=None]\u001b[A\n",
            "chunk:  14%|█▍        | 1480/10272 [00:02<00:12, 681.81it/s, now=None]\u001b[A\n",
            "chunk:  15%|█▌        | 1573/10272 [00:02<00:11, 746.93it/s, now=None]\u001b[A\n",
            "chunk:  16%|█▋        | 1678/10272 [00:02<00:10, 835.13it/s, now=None]\u001b[A\n",
            "chunk:  17%|█▋        | 1779/10272 [00:02<00:09, 881.80it/s, now=None]\u001b[A\n",
            "chunk:  18%|█▊        | 1868/10272 [00:02<00:09, 862.23it/s, now=None]\u001b[A\n",
            "chunk:  19%|█▉        | 1963/10272 [00:02<00:09, 887.36it/s, now=None]\u001b[A\n",
            "chunk:  20%|█▉        | 2052/10272 [00:02<00:09, 822.37it/s, now=None]\u001b[A\n",
            "chunk:  21%|██        | 2136/10272 [00:03<00:10, 768.88it/s, now=None]\u001b[A\n",
            "chunk:  22%|██▏       | 2215/10272 [00:03<00:11, 731.11it/s, now=None]\u001b[A\n",
            "chunk:  22%|██▏       | 2290/10272 [00:03<00:11, 716.59it/s, now=None]\u001b[A\n",
            "chunk:  23%|██▎       | 2363/10272 [00:03<00:11, 699.68it/s, now=None]\u001b[A\n",
            "chunk:  24%|██▎       | 2435/10272 [00:03<00:11, 705.02it/s, now=None]\u001b[A\n",
            "chunk:  24%|██▍       | 2507/10272 [00:03<00:10, 709.00it/s, now=None]\u001b[A\n",
            "chunk:  25%|██▌       | 2579/10272 [00:03<00:11, 665.54it/s, now=None]\u001b[A\n",
            "chunk:  26%|██▌       | 2647/10272 [00:03<00:11, 650.03it/s, now=None]\u001b[A\n",
            "chunk:  26%|██▋       | 2716/10272 [00:03<00:11, 653.13it/s, now=None]\u001b[A\n",
            "chunk:  27%|██▋       | 2788/10272 [00:04<00:11, 667.41it/s, now=None]\u001b[A\n",
            "chunk:  28%|██▊       | 2856/10272 [00:04<00:11, 658.74it/s, now=None]\u001b[A\n",
            "chunk:  28%|██▊       | 2924/10272 [00:04<00:11, 655.92it/s, now=None]\u001b[A\n",
            "chunk:  29%|██▉       | 2996/10272 [00:04<00:10, 666.18it/s, now=None]\u001b[A\n",
            "chunk:  30%|██▉       | 3063/10272 [00:04<00:10, 666.29it/s, now=None]\u001b[A\n",
            "chunk:  31%|███       | 3136/10272 [00:04<00:10, 676.62it/s, now=None]\u001b[A\n",
            "chunk:  31%|███       | 3205/10272 [00:04<00:10, 678.28it/s, now=None]\u001b[A\n",
            "chunk:  32%|███▏      | 3273/10272 [00:04<00:10, 644.27it/s, now=None]\u001b[A\n",
            "chunk:  33%|███▎      | 3341/10272 [00:04<00:10, 651.62it/s, now=None]\u001b[A\n",
            "chunk:  33%|███▎      | 3413/10272 [00:04<00:10, 658.22it/s, now=None]\u001b[A\n",
            "chunk:  34%|███▍      | 3484/10272 [00:05<00:10, 660.71it/s, now=None]\u001b[A\n",
            "chunk:  35%|███▍      | 3556/10272 [00:05<00:09, 673.80it/s, now=None]\u001b[A\n",
            "chunk:  35%|███▌      | 3632/10272 [00:05<00:09, 683.53it/s, now=None]\u001b[A\n",
            "chunk:  36%|███▌      | 3701/10272 [00:05<00:09, 677.38it/s, now=None]\u001b[A\n",
            "chunk:  37%|███▋      | 3770/10272 [00:05<00:09, 678.09it/s, now=None]\u001b[A\n",
            "chunk:  37%|███▋      | 3840/10272 [00:05<00:09, 684.11it/s, now=None]\u001b[A\n",
            "chunk:  38%|███▊      | 3909/10272 [00:05<00:09, 678.63it/s, now=None]\u001b[A\n",
            "chunk:  39%|███▊      | 3977/10272 [00:05<00:09, 665.19it/s, now=None]\u001b[A\n",
            "chunk:  39%|███▉      | 4044/10272 [00:05<00:09, 664.72it/s, now=None]\u001b[A\n",
            "chunk:  40%|████      | 4119/10272 [00:06<00:08, 689.55it/s, now=None]\u001b[A\n",
            "chunk:  41%|████      | 4189/10272 [00:06<00:08, 677.58it/s, now=None]\u001b[A\n",
            "chunk:  41%|████▏     | 4257/10272 [00:06<00:08, 673.32it/s, now=None]\u001b[A\n",
            "chunk:  42%|████▏     | 4325/10272 [00:06<00:08, 674.34it/s, now=None]\u001b[A\n",
            "chunk:  43%|████▎     | 4393/10272 [00:06<00:08, 668.77it/s, now=None]\u001b[A\n",
            "chunk:  43%|████▎     | 4462/10272 [00:06<00:08, 674.81it/s, now=None]\u001b[A\n",
            "chunk:  44%|████▍     | 4531/10272 [00:06<00:08, 672.70it/s, now=None]\u001b[A\n",
            "chunk:  45%|████▍     | 4603/10272 [00:06<00:08, 673.76it/s, now=None]\u001b[A\n",
            "chunk:  45%|████▌     | 4671/10272 [00:06<00:08, 647.45it/s, now=None]\u001b[A\n",
            "chunk:  46%|████▌     | 4737/10272 [00:06<00:08, 637.84it/s, now=None]\u001b[A\n",
            "chunk:  47%|████▋     | 4810/10272 [00:07<00:08, 663.57it/s, now=None]\u001b[A\n",
            "chunk:  48%|████▊     | 4901/10272 [00:07<00:07, 734.89it/s, now=None]\u001b[A\n",
            "chunk:  49%|████▊     | 4995/10272 [00:07<00:06, 794.19it/s, now=None]\u001b[A\n",
            "chunk:  50%|████▉     | 5087/10272 [00:07<00:06, 831.24it/s, now=None]\u001b[A\n",
            "chunk:  50%|█████     | 5171/10272 [00:07<00:06, 782.67it/s, now=None]\u001b[A\n",
            "chunk:  51%|█████     | 5251/10272 [00:07<00:06, 755.71it/s, now=None]\u001b[A\n",
            "chunk:  52%|█████▏    | 5328/10272 [00:07<00:06, 729.56it/s, now=None]\u001b[A\n",
            "chunk:  53%|█████▎    | 5402/10272 [00:07<00:07, 650.21it/s, now=None]\u001b[A\n",
            "chunk:  53%|█████▎    | 5469/10272 [00:08<00:08, 543.57it/s, now=None]\u001b[A\n",
            "chunk:  54%|█████▍    | 5527/10272 [00:08<00:09, 507.77it/s, now=None]\u001b[A\n",
            "chunk:  54%|█████▍    | 5581/10272 [00:08<00:09, 486.99it/s, now=None]\u001b[A\n",
            "chunk:  55%|█████▍    | 5632/10272 [00:08<00:09, 478.81it/s, now=None]\u001b[A\n",
            "chunk:  55%|█████▌    | 5681/10272 [00:08<00:09, 466.20it/s, now=None]\u001b[A\n",
            "chunk:  56%|█████▌    | 5729/10272 [00:08<00:09, 464.35it/s, now=None]\u001b[A\n",
            "chunk:  56%|█████▌    | 5776/10272 [00:08<00:09, 455.44it/s, now=None]\u001b[A\n",
            "chunk:  57%|█████▋    | 5822/10272 [00:08<00:09, 448.60it/s, now=None]\u001b[A\n",
            "chunk:  57%|█████▋    | 5869/10272 [00:08<00:10, 436.83it/s, now=None]\u001b[A\n",
            "chunk:  58%|█████▊    | 5913/10272 [00:09<00:10, 411.45it/s, now=None]\u001b[A\n",
            "chunk:  58%|█████▊    | 5960/10272 [00:09<00:10, 427.02it/s, now=None]\u001b[A\n",
            "chunk:  58%|█████▊    | 6005/10272 [00:09<00:10, 423.54it/s, now=None]\u001b[A\n",
            "chunk:  59%|█████▉    | 6053/10272 [00:09<00:09, 433.35it/s, now=None]\u001b[A\n",
            "chunk:  59%|█████▉    | 6101/10272 [00:09<00:09, 435.26it/s, now=None]\u001b[A\n",
            "chunk:  60%|█████▉    | 6149/10272 [00:09<00:09, 440.05it/s, now=None]\u001b[A\n",
            "chunk:  60%|██████    | 6197/10272 [00:09<00:09, 441.67it/s, now=None]\u001b[A\n",
            "chunk:  61%|██████    | 6245/10272 [00:09<00:09, 435.61it/s, now=None]\u001b[A\n",
            "chunk:  61%|██████▏   | 6293/10272 [00:09<00:08, 445.20it/s, now=None]\u001b[A\n",
            "chunk:  62%|██████▏   | 6341/10272 [00:10<00:08, 442.63it/s, now=None]\u001b[A\n",
            "chunk:  62%|██████▏   | 6386/10272 [00:10<00:08, 433.60it/s, now=None]\u001b[A\n",
            "chunk:  63%|██████▎   | 6430/10272 [00:10<00:09, 413.20it/s, now=None]\u001b[A\n",
            "chunk:  63%|██████▎   | 6472/10272 [00:10<00:09, 410.10it/s, now=None]\u001b[A\n",
            "chunk:  63%|██████▎   | 6517/10272 [00:10<00:09, 404.17it/s, now=None]\u001b[A\n",
            "chunk:  64%|██████▍   | 6565/10272 [00:10<00:08, 414.35it/s, now=None]\u001b[A\n",
            "chunk:  64%|██████▍   | 6607/10272 [00:10<00:09, 384.77it/s, now=None]\u001b[A\n",
            "chunk:  65%|██████▍   | 6649/10272 [00:10<00:09, 394.21it/s, now=None]\u001b[A\n",
            "chunk:  65%|██████▌   | 6689/10272 [00:10<00:09, 387.57it/s, now=None]\u001b[A\n",
            "chunk:  66%|██████▌   | 6732/10272 [00:11<00:08, 395.99it/s, now=None]\u001b[A\n",
            "chunk:  66%|██████▌   | 6775/10272 [00:11<00:08, 405.60it/s, now=None]\u001b[A\n",
            "chunk:  66%|██████▋   | 6816/10272 [00:11<00:08, 387.46it/s, now=None]\u001b[A\n",
            "chunk:  67%|██████▋   | 6856/10272 [00:11<00:08, 381.66it/s, now=None]\u001b[A\n",
            "chunk:  67%|██████▋   | 6901/10272 [00:11<00:08, 389.14it/s, now=None]\u001b[A\n",
            "chunk:  68%|██████▊   | 6949/10272 [00:11<00:08, 405.42it/s, now=None]\u001b[A\n",
            "chunk:  68%|██████▊   | 6997/10272 [00:11<00:07, 414.97it/s, now=None]\u001b[A\n",
            "chunk:  69%|██████▊   | 7051/10272 [00:11<00:07, 449.94it/s, now=None]\u001b[A\n",
            "chunk:  69%|██████▉   | 7109/10272 [00:11<00:06, 480.02it/s, now=None]\u001b[A\n",
            "chunk:  70%|██████▉   | 7173/10272 [00:12<00:06, 515.31it/s, now=None]\u001b[A\n",
            "chunk:  70%|███████   | 7237/10272 [00:12<00:05, 545.08it/s, now=None]\u001b[A\n",
            "chunk:  71%|███████   | 7293/10272 [00:12<00:05, 538.35it/s, now=None]\u001b[A\n",
            "chunk:  72%|███████▏  | 7357/10272 [00:12<00:05, 555.25it/s, now=None]\u001b[A\n",
            "chunk:  72%|███████▏  | 7413/10272 [00:12<00:05, 541.86it/s, now=None]\u001b[A\n",
            "chunk:  73%|███████▎  | 7478/10272 [00:12<00:04, 569.96it/s, now=None]\u001b[A\n",
            "chunk:  73%|███████▎  | 7536/10272 [00:12<00:05, 521.22it/s, now=None]\u001b[A\n",
            "chunk:  74%|███████▍  | 7589/10272 [00:12<00:05, 469.14it/s, now=None]\u001b[A\n",
            "chunk:  74%|███████▍  | 7638/10272 [00:12<00:06, 429.62it/s, now=None]\u001b[A\n",
            "chunk:  75%|███████▍  | 7686/10272 [00:13<00:06, 425.30it/s, now=None]\u001b[A\n",
            "chunk:  75%|███████▌  | 7730/10272 [00:13<00:05, 428.38it/s, now=None]\u001b[A\n",
            "chunk:  76%|███████▌  | 7774/10272 [00:13<00:05, 418.30it/s, now=None]\u001b[A\n",
            "chunk:  76%|███████▌  | 7817/10272 [00:13<00:05, 419.64it/s, now=None]\u001b[A\n",
            "chunk:  77%|███████▋  | 7860/10272 [00:13<00:05, 413.18it/s, now=None]\u001b[A\n",
            "chunk:  77%|███████▋  | 7902/10272 [00:13<00:05, 404.19it/s, now=None]\u001b[A\n",
            "chunk:  77%|███████▋  | 7950/10272 [00:13<00:05, 409.60it/s, now=None]\u001b[A\n",
            "chunk:  78%|███████▊  | 7993/10272 [00:13<00:05, 415.00it/s, now=None]\u001b[A\n",
            "chunk:  78%|███████▊  | 8038/10272 [00:13<00:05, 408.16it/s, now=None]\u001b[A\n",
            "chunk:  79%|███████▊  | 8079/10272 [00:14<00:05, 403.80it/s, now=None]\u001b[A\n",
            "chunk:  79%|███████▉  | 8126/10272 [00:14<00:05, 406.86it/s, now=None]\u001b[A\n",
            "chunk:  80%|███████▉  | 8167/10272 [00:14<00:05, 403.91it/s, now=None]\u001b[A\n",
            "chunk:  80%|███████▉  | 8211/10272 [00:14<00:04, 412.76it/s, now=None]\u001b[A\n",
            "chunk:  80%|████████  | 8254/10272 [00:14<00:04, 405.58it/s, now=None]\u001b[A\n",
            "chunk:  81%|████████  | 8302/10272 [00:14<00:04, 419.41it/s, now=None]\u001b[A\n",
            "chunk:  81%|████████▏ | 8350/10272 [00:14<00:04, 425.89it/s, now=None]\u001b[A\n",
            "chunk:  82%|████████▏ | 8393/10272 [00:14<00:04, 425.16it/s, now=None]\u001b[A\n",
            "chunk:  82%|████████▏ | 8438/10272 [00:14<00:04, 420.43it/s, now=None]\u001b[A\n",
            "chunk:  83%|████████▎ | 8481/10272 [00:14<00:04, 413.54it/s, now=None]\u001b[A\n",
            "chunk:  83%|████████▎ | 8526/10272 [00:15<00:04, 410.78it/s, now=None]\u001b[A\n",
            "chunk:  83%|████████▎ | 8574/10272 [00:15<00:03, 425.10it/s, now=None]\u001b[A\n",
            "chunk:  84%|████████▍ | 8622/10272 [00:15<00:03, 427.23it/s, now=None]\u001b[A\n",
            "chunk:  84%|████████▍ | 8670/10272 [00:15<00:03, 439.08it/s, now=None]\u001b[A\n",
            "chunk:  85%|████████▍ | 8723/10272 [00:15<00:03, 464.87it/s, now=None]\u001b[A\n",
            "chunk:  85%|████████▌ | 8772/10272 [00:15<00:03, 470.84it/s, now=None]\u001b[A\n",
            "chunk:  86%|████████▌ | 8820/10272 [00:15<00:03, 459.20it/s, now=None]\u001b[A\n",
            "chunk:  86%|████████▋ | 8867/10272 [00:15<00:03, 459.37it/s, now=None]\u001b[A\n",
            "chunk:  87%|████████▋ | 8914/10272 [00:15<00:02, 457.67it/s, now=None]\u001b[A\n",
            "chunk:  87%|████████▋ | 8960/10272 [00:16<00:03, 433.02it/s, now=None]\u001b[A\n",
            "chunk:  88%|████████▊ | 9006/10272 [00:16<00:03, 417.30it/s, now=None]\u001b[A\n",
            "chunk:  88%|████████▊ | 9062/10272 [00:16<00:02, 440.33it/s, now=None]\u001b[A\n",
            "chunk:  89%|████████▊ | 9110/10272 [00:16<00:02, 438.00it/s, now=None]\u001b[A\n",
            "chunk:  89%|████████▉ | 9162/10272 [00:16<00:02, 460.26it/s, now=None]\u001b[A\n",
            "chunk:  90%|████████▉ | 9209/10272 [00:16<00:02, 444.17it/s, now=None]\u001b[A\n",
            "chunk:  90%|█████████ | 9254/10272 [00:16<00:02, 414.21it/s, now=None]\u001b[A\n",
            "chunk:  90%|█████████ | 9296/10272 [00:16<00:02, 403.26it/s, now=None]\u001b[A\n",
            "chunk:  91%|█████████ | 9339/10272 [00:16<00:02, 410.50it/s, now=None]\u001b[A\n",
            "chunk:  91%|█████████▏| 9381/10272 [00:17<00:02, 392.51it/s, now=None]\u001b[A\n",
            "chunk:  92%|█████████▏| 9427/10272 [00:17<00:02, 410.83it/s, now=None]\u001b[A\n",
            "chunk:  92%|█████████▏| 9469/10272 [00:17<00:02, 396.89it/s, now=None]\u001b[A\n",
            "chunk:  93%|█████████▎| 9524/10272 [00:17<00:01, 437.05it/s, now=None]\u001b[A\n",
            "chunk:  93%|█████████▎| 9596/10272 [00:17<00:01, 508.46it/s, now=None]\u001b[A\n",
            "chunk:  94%|█████████▍| 9668/10272 [00:17<00:01, 563.14it/s, now=None]\u001b[A\n",
            "chunk:  95%|█████████▍| 9737/10272 [00:17<00:00, 594.08it/s, now=None]\u001b[A\n",
            "chunk:  95%|█████████▌| 9806/10272 [00:17<00:00, 612.64it/s, now=None]\u001b[A\n",
            "chunk:  96%|█████████▌| 9868/10272 [00:17<00:00, 597.75it/s, now=None]\u001b[A\n",
            "chunk:  97%|█████████▋| 9938/10272 [00:18<00:00, 618.25it/s, now=None]\u001b[A\n",
            "chunk:  97%|█████████▋| 10001/10272 [00:18<00:00, 619.96it/s, now=None]\u001b[A\n",
            "chunk:  98%|█████████▊| 10067/10272 [00:18<00:00, 631.48it/s, now=None]\u001b[A\n",
            "chunk:  99%|█████████▊| 10137/10272 [00:18<00:00, 640.57it/s, now=None]\u001b[A\n",
            "chunk:  99%|█████████▉| 10216/10272 [00:18<00:00, 674.15it/s, now=None]\u001b[A\n",
            "chunk:   9%|▉         | 955/10272 [02:34<00:15, 619.86it/s, now=None]"
          ]
        },
        {
          "output_type": "stream",
          "name": "stdout",
          "text": [
            "MoviePy - Done.\n",
            "แปลงเสร็จ: Male Singers Hitting Female Singers High Notes! Pt 2.mp4 → Male Singers Hitting Female Singers High Notes! Pt 2.mp3\n"
          ]
        },
        {
          "output_type": "stream",
          "name": "stderr",
          "text": [
            "chunk:   9%|▉         | 955/10272 [02:35<00:15, 619.86it/s, now=None]"
          ]
        },
        {
          "output_type": "stream",
          "name": "stdout",
          "text": [
            "MoviePy - Writing audio in /content/drive/MyDrive/Datasets_For_Ai_builders/mp3/9-5-2025/MALE SINGERS HITTING FEMALE SINGERS HIGH NOTES!! Pt3.mp3\n"
          ]
        },
        {
          "output_type": "stream",
          "name": "stderr",
          "text": [
            "\n",
            "chunk:   0%|          | 0/13344 [00:00<?, ?it/s, now=None]\u001b[A\n",
            "chunk:   1%|          | 113/13344 [00:00<00:18, 710.50it/s, now=None]\u001b[A\n",
            "chunk:   1%|▏         | 185/13344 [00:00<00:22, 578.08it/s, now=None]\u001b[A\n",
            "chunk:   2%|▏         | 243/13344 [00:00<00:24, 545.79it/s, now=None]\u001b[A\n",
            "chunk:   2%|▏         | 297/13344 [00:00<00:28, 459.83it/s, now=None]\u001b[A\n",
            "chunk:   3%|▎         | 344/13344 [00:00<00:28, 455.21it/s, now=None]\u001b[A\n",
            "chunk:   3%|▎         | 398/13344 [00:00<00:28, 462.09it/s, now=None]\u001b[A\n",
            "chunk:   3%|▎         | 445/13344 [00:00<00:34, 375.36it/s, now=None]\u001b[A\n",
            "chunk:   4%|▎         | 485/13344 [00:01<00:40, 318.93it/s, now=None]\u001b[A\n",
            "chunk:   4%|▍         | 519/13344 [00:01<00:44, 286.15it/s, now=None]\u001b[A\n",
            "chunk:   4%|▍         | 595/13344 [00:01<00:32, 390.62it/s, now=None]\u001b[A\n",
            "chunk:   5%|▌         | 674/13344 [00:01<00:26, 480.88it/s, now=None]\u001b[A\n",
            "chunk:   6%|▌         | 738/13344 [00:01<00:24, 513.04it/s, now=None]\u001b[A\n",
            "chunk:   6%|▋         | 836/13344 [00:01<00:19, 634.94it/s, now=None]\u001b[A\n",
            "chunk:   7%|▋         | 934/13344 [00:01<00:17, 722.90it/s, now=None]\u001b[A\n",
            "chunk:   8%|▊         | 1027/13344 [00:01<00:15, 780.17it/s, now=None]\u001b[A\n",
            "chunk:   8%|▊         | 1117/13344 [00:02<00:15, 813.36it/s, now=None]\u001b[A\n",
            "chunk:   9%|▉         | 1210/13344 [00:02<00:14, 840.61it/s, now=None]\u001b[A\n",
            "chunk:  10%|▉         | 1306/13344 [00:02<00:13, 863.45it/s, now=None]\u001b[A\n",
            "chunk:  10%|█         | 1398/13344 [00:02<00:13, 879.86it/s, now=None]\u001b[A\n",
            "chunk:  11%|█         | 1487/13344 [00:02<00:13, 867.76it/s, now=None]\u001b[A\n",
            "chunk:  12%|█▏        | 1575/13344 [00:02<00:14, 796.19it/s, now=None]\u001b[A\n",
            "chunk:  12%|█▏        | 1657/13344 [00:02<00:16, 710.69it/s, now=None]\u001b[A\n",
            "chunk:  13%|█▎        | 1731/13344 [00:02<00:16, 692.70it/s, now=None]\u001b[A\n",
            "chunk:  14%|█▎        | 1802/13344 [00:02<00:16, 696.92it/s, now=None]\u001b[A\n",
            "chunk:  14%|█▍        | 1873/13344 [00:03<00:16, 685.87it/s, now=None]\u001b[A\n",
            "chunk:  15%|█▍        | 1943/13344 [00:03<00:17, 668.35it/s, now=None]\u001b[A\n",
            "chunk:  15%|█▌        | 2015/13344 [00:03<00:16, 682.06it/s, now=None]\u001b[A\n",
            "chunk:  16%|█▌        | 2084/13344 [00:03<00:16, 674.64it/s, now=None]\u001b[A\n",
            "chunk:  16%|█▌        | 2152/13344 [00:03<00:16, 668.17it/s, now=None]\u001b[A\n",
            "chunk:  17%|█▋        | 2220/13344 [00:03<00:16, 658.76it/s, now=None]\u001b[A\n",
            "chunk:  17%|█▋        | 2287/13344 [00:03<00:17, 629.95it/s, now=None]\u001b[A\n",
            "chunk:  18%|█▊        | 2351/13344 [00:03<00:17, 612.84it/s, now=None]\u001b[A\n",
            "chunk:  18%|█▊        | 2415/13344 [00:03<00:17, 620.26it/s, now=None]\u001b[A\n",
            "chunk:  19%|█▊        | 2481/13344 [00:04<00:17, 615.71it/s, now=None]\u001b[A\n",
            "chunk:  19%|█▉        | 2550/13344 [00:04<00:17, 629.38it/s, now=None]\u001b[A\n",
            "chunk:  20%|█▉        | 2617/13344 [00:04<00:17, 627.35it/s, now=None]\u001b[A\n",
            "chunk:  20%|██        | 2689/13344 [00:04<00:16, 643.32it/s, now=None]\u001b[A\n",
            "chunk:  21%|██        | 2754/13344 [00:04<00:16, 638.95it/s, now=None]\u001b[A\n",
            "chunk:  21%|██        | 2825/13344 [00:04<00:15, 659.37it/s, now=None]\u001b[A\n",
            "chunk:  22%|██▏       | 2894/13344 [00:04<00:15, 658.42it/s, now=None]\u001b[A\n",
            "chunk:  22%|██▏       | 2960/13344 [00:04<00:16, 629.06it/s, now=None]\u001b[A\n",
            "chunk:  23%|██▎       | 3057/13344 [00:04<00:14, 719.24it/s, now=None]\u001b[A\n",
            "chunk:  24%|██▎       | 3151/13344 [00:04<00:13, 779.98it/s, now=None]\u001b[A\n",
            "chunk:  24%|██▍       | 3247/13344 [00:05<00:12, 823.73it/s, now=None]\u001b[A\n",
            "chunk:  25%|██▌       | 3344/13344 [00:05<00:11, 863.40it/s, now=None]\u001b[A\n",
            "chunk:  26%|██▌       | 3439/13344 [00:05<00:11, 888.54it/s, now=None]\u001b[A\n",
            "chunk:  26%|██▋       | 3529/13344 [00:05<00:12, 798.79it/s, now=None]\u001b[A\n",
            "chunk:  27%|██▋       | 3611/13344 [00:05<00:13, 742.05it/s, now=None]\u001b[A\n",
            "chunk:  28%|██▊       | 3688/13344 [00:05<00:13, 725.36it/s, now=None]\u001b[A\n",
            "chunk:  28%|██▊       | 3762/13344 [00:05<00:14, 659.19it/s, now=None]\u001b[A\n",
            "chunk:  29%|██▊       | 3830/13344 [00:05<00:14, 660.83it/s, now=None]\u001b[A\n",
            "chunk:  29%|██▉       | 3898/13344 [00:06<00:14, 655.78it/s, now=None]\u001b[A\n",
            "chunk:  30%|██▉       | 3965/13344 [00:06<00:14, 649.05it/s, now=None]\u001b[A\n",
            "chunk:  30%|███       | 4031/13344 [00:06<00:14, 642.15it/s, now=None]\u001b[A\n",
            "chunk:  31%|███       | 4101/13344 [00:06<00:14, 654.36it/s, now=None]\u001b[A\n",
            "chunk:  31%|███▏      | 4173/13344 [00:06<00:13, 656.33it/s, now=None]\u001b[A\n",
            "chunk:  32%|███▏      | 4239/13344 [00:06<00:14, 648.43it/s, now=None]\u001b[A\n",
            "chunk:  32%|███▏      | 4308/13344 [00:06<00:13, 649.09it/s, now=None]\u001b[A\n",
            "chunk:  33%|███▎      | 4377/13344 [00:06<00:13, 645.91it/s, now=None]\u001b[A\n",
            "chunk:  33%|███▎      | 4442/13344 [00:06<00:14, 616.01it/s, now=None]\u001b[A\n",
            "chunk:  34%|███▍      | 4513/13344 [00:06<00:13, 636.13it/s, now=None]\u001b[A\n",
            "chunk:  34%|███▍      | 4577/13344 [00:07<00:13, 636.54it/s, now=None]\u001b[A\n",
            "chunk:  35%|███▍      | 4641/13344 [00:07<00:13, 631.08it/s, now=None]\u001b[A\n",
            "chunk:  35%|███▌      | 4716/13344 [00:07<00:13, 649.66it/s, now=None]\u001b[A\n",
            "chunk:  36%|███▌      | 4787/13344 [00:07<00:13, 653.60it/s, now=None]\u001b[A\n",
            "chunk:  36%|███▋      | 4853/13344 [00:07<00:13, 649.84it/s, now=None]\u001b[A\n",
            "chunk:  37%|███▋      | 4918/13344 [00:07<00:13, 645.66it/s, now=None]\u001b[A\n",
            "chunk:  37%|███▋      | 4983/13344 [00:07<00:13, 607.70it/s, now=None]\u001b[A\n",
            "chunk:  38%|███▊      | 5049/13344 [00:07<00:13, 608.90it/s, now=None]\u001b[A\n",
            "chunk:  38%|███▊      | 5111/13344 [00:07<00:14, 574.39it/s, now=None]\u001b[A\n",
            "chunk:  39%|███▊      | 5169/13344 [00:08<00:14, 555.35it/s, now=None]\u001b[A\n",
            "chunk:  39%|███▉      | 5226/13344 [00:08<00:14, 556.72it/s, now=None]\u001b[A\n",
            "chunk:  40%|███▉      | 5282/13344 [00:08<00:15, 534.97it/s, now=None]\u001b[A\n",
            "chunk:  40%|███▉      | 5336/13344 [00:08<00:15, 528.90it/s, now=None]\u001b[A\n",
            "chunk:  40%|████      | 5390/13344 [00:08<00:15, 506.86it/s, now=None]\u001b[A\n",
            "chunk:  41%|████      | 5441/13344 [00:08<00:16, 489.55it/s, now=None]\u001b[A\n",
            "chunk:  41%|████      | 5491/13344 [00:08<00:16, 485.64it/s, now=None]\u001b[A\n",
            "chunk:  42%|████▏     | 5540/13344 [00:08<00:17, 454.22it/s, now=None]\u001b[A\n",
            "chunk:  42%|████▏     | 5586/13344 [00:08<00:17, 432.61it/s, now=None]\u001b[A\n",
            "chunk:  42%|████▏     | 5630/13344 [00:09<00:17, 432.33it/s, now=None]\u001b[A\n",
            "chunk:  43%|████▎     | 5693/13344 [00:09<00:15, 479.52it/s, now=None]\u001b[A\n",
            "chunk:  43%|████▎     | 5749/13344 [00:09<00:15, 490.65it/s, now=None]\u001b[A\n",
            "chunk:  44%|████▎     | 5813/13344 [00:09<00:14, 530.75it/s, now=None]\u001b[A\n",
            "chunk:  44%|████▍     | 5869/13344 [00:09<00:13, 538.29it/s, now=None]\u001b[A\n",
            "chunk:  44%|████▍     | 5934/13344 [00:09<00:13, 569.93it/s, now=None]\u001b[A\n",
            "chunk:  45%|████▍     | 5997/13344 [00:09<00:12, 574.74it/s, now=None]\u001b[A\n",
            "chunk:  45%|████▌     | 6061/13344 [00:09<00:12, 587.99it/s, now=None]\u001b[A\n",
            "chunk:  46%|████▌     | 6125/13344 [00:09<00:12, 599.48it/s, now=None]\u001b[A\n",
            "chunk:  46%|████▋     | 6189/13344 [00:10<00:12, 592.95it/s, now=None]\u001b[A\n",
            "chunk:  47%|████▋     | 6249/13344 [00:10<00:12, 583.12it/s, now=None]\u001b[A\n",
            "chunk:  47%|████▋     | 6308/13344 [00:10<00:12, 567.48it/s, now=None]\u001b[A\n",
            "chunk:  48%|████▊     | 6365/13344 [00:10<00:12, 540.23it/s, now=None]\u001b[A\n",
            "chunk:  48%|████▊     | 6420/13344 [00:10<00:13, 499.66it/s, now=None]\u001b[A\n",
            "chunk:  48%|████▊     | 6471/13344 [00:10<00:14, 472.55it/s, now=None]\u001b[A\n",
            "chunk:  49%|████▉     | 6519/13344 [00:10<00:14, 458.82it/s, now=None]\u001b[A\n",
            "chunk:  49%|████▉     | 6566/13344 [00:10<00:14, 455.38it/s, now=None]\u001b[A\n",
            "chunk:  50%|████▉     | 6612/13344 [00:10<00:15, 436.31it/s, now=None]\u001b[A\n",
            "chunk:  50%|████▉     | 6660/13344 [00:11<00:15, 436.23it/s, now=None]\u001b[A\n",
            "chunk:  50%|█████     | 6704/13344 [00:11<00:15, 432.39it/s, now=None]\u001b[A\n",
            "chunk:  51%|█████     | 6749/13344 [00:11<00:15, 436.73it/s, now=None]\u001b[A\n",
            "chunk:  51%|█████     | 6802/13344 [00:11<00:14, 462.20it/s, now=None]\u001b[A\n",
            "chunk:  51%|█████▏    | 6858/13344 [00:11<00:13, 478.59it/s, now=None]\u001b[A\n",
            "chunk:  52%|█████▏    | 6909/13344 [00:11<00:13, 487.49it/s, now=None]\u001b[A\n",
            "chunk:  52%|█████▏    | 6958/13344 [00:11<00:13, 480.11it/s, now=None]\u001b[A\n",
            "chunk:  53%|█████▎    | 7007/13344 [00:11<00:13, 477.59it/s, now=None]\u001b[A\n",
            "chunk:  53%|█████▎    | 7055/13344 [00:11<00:13, 458.30it/s, now=None]\u001b[A\n",
            "chunk:  53%|█████▎    | 7101/13344 [00:11<00:14, 436.49it/s, now=None]\u001b[A\n",
            "chunk:  54%|█████▎    | 7145/13344 [00:12<00:14, 425.15it/s, now=None]\u001b[A\n",
            "chunk:  54%|█████▍    | 7188/13344 [00:12<00:14, 411.38it/s, now=None]\u001b[A\n",
            "chunk:  54%|█████▍    | 7230/13344 [00:12<00:14, 411.57it/s, now=None]\u001b[A\n",
            "chunk:  54%|█████▍    | 7272/13344 [00:12<00:14, 413.26it/s, now=None]\u001b[A\n",
            "chunk:  55%|█████▍    | 7314/13344 [00:12<00:15, 386.44it/s, now=None]\u001b[A\n",
            "chunk:  55%|█████▌    | 7362/13344 [00:12<00:14, 404.99it/s, now=None]\u001b[A\n",
            "chunk:  56%|█████▌    | 7410/13344 [00:12<00:13, 424.12it/s, now=None]\u001b[A\n",
            "chunk:  56%|█████▌    | 7458/13344 [00:12<00:13, 439.59it/s, now=None]\u001b[A\n",
            "chunk:  56%|█████▋    | 7509/13344 [00:12<00:12, 459.50it/s, now=None]\u001b[A\n",
            "chunk:  57%|█████▋    | 7556/13344 [00:13<00:12, 447.71it/s, now=None]\u001b[A\n",
            "chunk:  57%|█████▋    | 7602/13344 [00:13<00:13, 437.03it/s, now=None]\u001b[A\n",
            "chunk:  57%|█████▋    | 7650/13344 [00:13<00:13, 429.63it/s, now=None]\u001b[A\n",
            "chunk:  58%|█████▊    | 7701/13344 [00:13<00:12, 447.41it/s, now=None]\u001b[A\n",
            "chunk:  58%|█████▊    | 7746/13344 [00:13<00:13, 429.30it/s, now=None]\u001b[A\n",
            "chunk:  58%|█████▊    | 7790/13344 [00:13<00:12, 430.30it/s, now=None]\u001b[A\n",
            "chunk:  59%|█████▊    | 7834/13344 [00:13<00:13, 395.53it/s, now=None]\u001b[A\n",
            "chunk:  59%|█████▉    | 7882/13344 [00:13<00:13, 411.67it/s, now=None]\u001b[A\n",
            "chunk:  59%|█████▉    | 7930/13344 [00:13<00:12, 419.00it/s, now=None]\u001b[A\n",
            "chunk:  60%|█████▉    | 7978/13344 [00:14<00:12, 416.00it/s, now=None]\u001b[A\n",
            "chunk:  60%|██████    | 8020/13344 [00:14<00:12, 415.10it/s, now=None]\u001b[A\n",
            "chunk:  60%|██████    | 8062/13344 [00:14<00:12, 412.63it/s, now=None]\u001b[A\n",
            "chunk:  61%|██████    | 8106/13344 [00:14<00:12, 410.38it/s, now=None]\u001b[A\n",
            "chunk:  61%|██████    | 8148/13344 [00:14<00:12, 408.14it/s, now=None]\u001b[A\n",
            "chunk:  61%|██████▏   | 8194/13344 [00:14<00:12, 412.17it/s, now=None]\u001b[A\n",
            "chunk:  62%|██████▏   | 8240/13344 [00:14<00:11, 425.60it/s, now=None]\u001b[A\n",
            "chunk:  62%|██████▏   | 8290/13344 [00:14<00:11, 439.94it/s, now=None]\u001b[A\n",
            "chunk:  63%|██████▎   | 8354/13344 [00:14<00:10, 497.00it/s, now=None]\u001b[A\n",
            "chunk:  63%|██████▎   | 8426/13344 [00:15<00:08, 552.78it/s, now=None]\u001b[A\n",
            "chunk:  64%|██████▍   | 8517/13344 [00:15<00:07, 651.77it/s, now=None]\u001b[A\n",
            "chunk:  65%|██████▍   | 8619/13344 [00:15<00:06, 759.18it/s, now=None]\u001b[A\n",
            "chunk:  65%|██████▌   | 8714/13344 [00:15<00:05, 814.62it/s, now=None]\u001b[A\n",
            "chunk:  66%|██████▌   | 8806/13344 [00:15<00:05, 845.53it/s, now=None]\u001b[A\n",
            "chunk:  67%|██████▋   | 8891/13344 [00:15<00:05, 809.73it/s, now=None]\u001b[A\n",
            "chunk:  67%|██████▋   | 8994/13344 [00:15<00:04, 873.06it/s, now=None]\u001b[A\n",
            "chunk:  68%|██████▊   | 9082/13344 [00:15<00:04, 869.83it/s, now=None]\u001b[A\n",
            "chunk:  69%|██████▊   | 9170/13344 [00:15<00:05, 822.76it/s, now=None]\u001b[A\n",
            "chunk:  69%|██████▉   | 9254/13344 [00:15<00:05, 778.74it/s, now=None]\u001b[A\n",
            "chunk:  70%|██████▉   | 9333/13344 [00:16<00:05, 752.52it/s, now=None]\u001b[A\n",
            "chunk:  71%|███████   | 9409/13344 [00:16<00:05, 745.93it/s, now=None]\u001b[A\n",
            "chunk:  71%|███████   | 9485/13344 [00:16<00:05, 739.22it/s, now=None]\u001b[A\n",
            "chunk:  72%|███████▏  | 9560/13344 [00:16<00:05, 710.80it/s, now=None]\u001b[A\n",
            "chunk:  72%|███████▏  | 9632/13344 [00:16<00:05, 678.50it/s, now=None]\u001b[A\n",
            "chunk:  73%|███████▎  | 9701/13344 [00:16<00:05, 661.85it/s, now=None]\u001b[A\n",
            "chunk:  73%|███████▎  | 9770/13344 [00:16<00:05, 669.29it/s, now=None]\u001b[A\n",
            "chunk:  74%|███████▎  | 9839/13344 [00:16<00:05, 674.91it/s, now=None]\u001b[A\n",
            "chunk:  74%|███████▍  | 9910/13344 [00:16<00:05, 675.62it/s, now=None]\u001b[A\n",
            "chunk:  75%|███████▍  | 9987/13344 [00:17<00:04, 689.10it/s, now=None]\u001b[A\n",
            "chunk:  75%|███████▌  | 10059/13344 [00:17<00:04, 682.99it/s, now=None]\u001b[A\n",
            "chunk:  76%|███████▌  | 10128/13344 [00:17<00:04, 678.52it/s, now=None]\u001b[A\n",
            "chunk:  76%|███████▋  | 10200/13344 [00:17<00:04, 678.70it/s, now=None]\u001b[A\n",
            "chunk:  77%|███████▋  | 10277/13344 [00:17<00:04, 692.20it/s, now=None]\u001b[A\n",
            "chunk:  78%|███████▊  | 10347/13344 [00:17<00:04, 661.13it/s, now=None]\u001b[A\n",
            "chunk:  78%|███████▊  | 10414/13344 [00:17<00:04, 661.37it/s, now=None]\u001b[A\n",
            "chunk:  79%|███████▊  | 10482/13344 [00:17<00:04, 665.95it/s, now=None]\u001b[A\n",
            "chunk:  79%|███████▉  | 10549/13344 [00:17<00:04, 661.93it/s, now=None]\u001b[A\n",
            "chunk:  80%|███████▉  | 10618/13344 [00:18<00:04, 668.99it/s, now=None]\u001b[A\n",
            "chunk:  80%|████████  | 10687/13344 [00:18<00:03, 675.11it/s, now=None]\u001b[A\n",
            "chunk:  81%|████████  | 10756/13344 [00:18<00:03, 678.91it/s, now=None]\u001b[A\n",
            "chunk:  81%|████████  | 10824/13344 [00:18<00:03, 660.66it/s, now=None]\u001b[A\n",
            "chunk:  82%|████████▏ | 10893/13344 [00:18<00:03, 662.01it/s, now=None]\u001b[A\n",
            "chunk:  82%|████████▏ | 10962/13344 [00:18<00:03, 669.64it/s, now=None]\u001b[A\n",
            "chunk:  83%|████████▎ | 11030/13344 [00:18<00:03, 658.90it/s, now=None]\u001b[A\n",
            "chunk:  83%|████████▎ | 11096/13344 [00:18<00:03, 646.63it/s, now=None]\u001b[A\n",
            "chunk:  84%|████████▎ | 11161/13344 [00:18<00:03, 630.74it/s, now=None]\u001b[A\n",
            "chunk:  84%|████████▍ | 11225/13344 [00:18<00:03, 626.39it/s, now=None]\u001b[A\n",
            "chunk:  85%|████████▍ | 11294/13344 [00:19<00:03, 644.73it/s, now=None]\u001b[A\n",
            "chunk:  85%|████████▌ | 11365/13344 [00:19<00:02, 663.29it/s, now=None]\u001b[A\n",
            "chunk:  86%|████████▌ | 11437/13344 [00:19<00:02, 678.11it/s, now=None]\u001b[A\n",
            "chunk:  86%|████████▋ | 11530/13344 [00:19<00:02, 747.99it/s, now=None]\u001b[A\n",
            "chunk:  87%|████████▋ | 11628/13344 [00:19<00:02, 797.57it/s, now=None]\u001b[A\n",
            "chunk:  88%|████████▊ | 11729/13344 [00:19<00:01, 859.48it/s, now=None]\u001b[A\n",
            "chunk:  89%|████████▊ | 11826/13344 [00:19<00:01, 880.94it/s, now=None]\u001b[A\n",
            "chunk:  89%|████████▉ | 11915/13344 [00:19<00:01, 840.68it/s, now=None]\u001b[A\n",
            "chunk:  90%|████████▉ | 12000/13344 [00:19<00:01, 797.32it/s, now=None]\u001b[A\n",
            "chunk:  91%|█████████ | 12081/13344 [00:20<00:01, 770.09it/s, now=None]\u001b[A\n",
            "chunk:  91%|█████████ | 12159/13344 [00:20<00:01, 739.72it/s, now=None]\u001b[A\n",
            "chunk:  92%|█████████▏| 12238/13344 [00:20<00:01, 753.35it/s, now=None]\u001b[A\n",
            "chunk:  92%|█████████▏| 12314/13344 [00:20<00:01, 734.45it/s, now=None]\u001b[A\n",
            "chunk:  93%|█████████▎| 12388/13344 [00:20<00:01, 722.79it/s, now=None]\u001b[A\n",
            "chunk:  93%|█████████▎| 12461/13344 [00:20<00:01, 702.75it/s, now=None]\u001b[A\n",
            "chunk:  94%|█████████▍| 12532/13344 [00:20<00:01, 697.53it/s, now=None]\u001b[A\n",
            "chunk:  94%|█████████▍| 12602/13344 [00:20<00:01, 664.66it/s, now=None]\u001b[A\n",
            "chunk:  95%|█████████▍| 12673/13344 [00:20<00:01, 669.43it/s, now=None]\u001b[A\n",
            "chunk:  96%|█████████▌| 12745/13344 [00:20<00:00, 681.30it/s, now=None]\u001b[A\n",
            "chunk:  96%|█████████▌| 12817/13344 [00:21<00:00, 674.04it/s, now=None]\u001b[A\n",
            "chunk:  97%|█████████▋| 12891/13344 [00:21<00:00, 692.49it/s, now=None]\u001b[A\n",
            "chunk:  97%|█████████▋| 12964/13344 [00:21<00:00, 703.07it/s, now=None]\u001b[A\n",
            "chunk:  98%|█████████▊| 13035/13344 [00:21<00:00, 702.12it/s, now=None]\u001b[A\n",
            "chunk:  98%|█████████▊| 13106/13344 [00:21<00:00, 701.59it/s, now=None]\u001b[A\n",
            "chunk:  99%|█████████▊| 13177/13344 [00:21<00:00, 686.43it/s, now=None]\u001b[A\n",
            "chunk:  99%|█████████▉| 13249/13344 [00:21<00:00, 691.86it/s, now=None]\u001b[A\n",
            "chunk: 100%|█████████▉| 13323/13344 [00:21<00:00, 705.06it/s, now=None]\u001b[A\n",
            "chunk:   9%|▉         | 955/10272 [02:57<00:15, 619.86it/s, now=None]"
          ]
        },
        {
          "output_type": "stream",
          "name": "stdout",
          "text": [
            "MoviePy - Done.\n",
            "แปลงเสร็จ: MALE SINGERS HITTING FEMALE SINGERS HIGH NOTES!! Pt3.mp4 → MALE SINGERS HITTING FEMALE SINGERS HIGH NOTES!! Pt3.mp3\n"
          ]
        }
      ]
    },
    {
      "cell_type": "code",
      "source": [
        "import os\n",
        "from pydub import AudioSegment\n",
        "\n",
        "# โฟลเดอร์ต้นทาง (ไฟล์ mp3)\n",
        "src_folder = \"/content/drive/MyDrive/Datasets_For_Ai_builders/mp3/9-5-2025\"\n",
        "\n",
        "# โฟลเดอร์ปลายทาง (เซฟ wav)\n",
        "dst_folder = \"/content/drive/MyDrive/Datasets_For_Ai_builders/HighNote/\"\n",
        "\n",
        "# ถ้ายังไม่มีโฟลเดอร์ปลายทาง ให้สร้าง\n",
        "os.makedirs(dst_folder, exist_ok=True)\n",
        "\n",
        "# วนลูปทุกไฟล์ในโฟลเดอร์\n",
        "for filename in os.listdir(src_folder):\n",
        "    if filename.endswith(\".mp3\"):\n",
        "        src_path = os.path.join(src_folder, filename)\n",
        "        dst_filename = os.path.splitext(filename)[0] + \".wav\"  # เปลี่ยนนามสกุลเป็น .wav\n",
        "        dst_path = os.path.join(dst_folder, dst_filename)\n",
        "\n",
        "        # แปลงไฟล์\n",
        "        sound = AudioSegment.from_mp3(src_path)\n",
        "        sound.export(dst_path, format=\"wav\")\n",
        "\n",
        "        print(f\"แปลงเสร็จ: {filename} -> {dst_filename}\")\n"
      ],
      "metadata": {
        "colab": {
          "base_uri": "https://localhost:8080/"
        },
        "id": "ZmZ-ZXVoDGP4",
        "outputId": "8b42fc22-70b5-481d-de05-4726a10196ec"
      },
      "execution_count": null,
      "outputs": [
        {
          "output_type": "stream",
          "name": "stdout",
          "text": [
            "แปลงเสร็จ: Male Singers Hitting Female Singers HIGH NOTES!!.mp3 -> Male Singers Hitting Female Singers HIGH NOTES!!.wav\n",
            "แปลงเสร็จ: Male Singers Hitting Female Singers High Notes! Pt 2.mp3 -> Male Singers Hitting Female Singers High Notes! Pt 2.wav\n",
            "แปลงเสร็จ: MALE SINGERS HITTING FEMALE SINGERS HIGH NOTES!! Pt3.mp3 -> MALE SINGERS HITTING FEMALE SINGERS HIGH NOTES!! Pt3.wav\n"
          ]
        }
      ]
    }
  ]
}