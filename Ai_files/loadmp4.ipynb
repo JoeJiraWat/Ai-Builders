{
  "cells": [
    {
      "cell_type": "markdown",
      "metadata": {
        "id": "view-in-github",
        "colab_type": "text"
      },
      "source": [
        "<a href=\"https://colab.research.google.com/github/JoeJiraWat/Ai-Builders/blob/main/Ai_files/loadmp4.ipynb\" target=\"_parent\"><img src=\"https://colab.research.google.com/assets/colab-badge.svg\" alt=\"Open In Colab\"/></a>"
      ]
    },
    {
      "cell_type": "code",
      "execution_count": null,
      "metadata": {
        "colab": {
          "base_uri": "https://localhost:8080/"
        },
        "id": "z1DTXw4TGLvf",
        "outputId": "2b2efeb0-37aa-4335-981d-77d62cdaf4e6"
      },
      "outputs": [
        {
          "output_type": "stream",
          "name": "stdout",
          "text": [
            "Drive already mounted at /content/drive; to attempt to forcibly remount, call drive.mount(\"/content/drive\", force_remount=True).\n"
          ]
        }
      ],
      "source": [
        "from google.colab import drive\n",
        "drive.mount('/content/drive')"
      ]
    },
    {
      "cell_type": "code",
      "execution_count": null,
      "metadata": {
        "colab": {
          "base_uri": "https://localhost:8080/"
        },
        "id": "yTxg8HcVOkwQ",
        "outputId": "858e49a2-4931-4193-a59d-cb7d51fe0e35"
      },
      "outputs": [
        {
          "output_type": "stream",
          "name": "stdout",
          "text": [
            "Requirement already satisfied: yt-dlp in /usr/local/lib/python3.11/dist-packages (2025.4.30)\n"
          ]
        }
      ],
      "source": [
        "!pip install yt-dlp"
      ]
    },
    {
      "cell_type": "code",
      "execution_count": null,
      "metadata": {
        "id": "IHIWs_oaMWBZ"
      },
      "outputs": [],
      "source": [
        "import yt_dlp"
      ]
    },
    {
      "cell_type": "code",
      "execution_count": null,
      "metadata": {
        "id": "nN2TzG8yL7e9"
      },
      "outputs": [],
      "source": [
        "with open('/content/hightnote_song.txt', 'r') as file:\n",
        "    links = file.read().splitlines()"
      ]
    },
    {
      "cell_type": "code",
      "execution_count": null,
      "metadata": {
        "id": "En5rdX50Rn8A"
      },
      "outputs": [],
      "source": [
        "ydl_opts = {\n",
        "    'format': 'bestvideo[ext=mp4]+bestaudio[ext=m4a]/best[ext=mp4]',\n",
        "    'merge_output_format': 'mp4',\n",
        "    'outtmpl': '/content/drive/MyDrive/Datasets_For_Ai_builders/mp4/9 5 2025/%(title)s.%(ext)s',  # ชื่อไฟล์ตามชื่อวิดีโอ\n",
        "}"
      ]
    },
    {
      "cell_type": "code",
      "execution_count": null,
      "metadata": {
        "colab": {
          "base_uri": "https://localhost:8080/"
        },
        "id": "EkZtxo3tGHAa",
        "outputId": "bb06154d-0917-49a9-cc43-e97be8b5b8cf"
      },
      "outputs": [
        {
          "output_type": "stream",
          "name": "stdout",
          "text": [
            "[youtube] Extracting URL: https://www.youtube.com/watch?v=ym3VhkGH3E4\n",
            "[youtube] ym3VhkGH3E4: Downloading webpage\n",
            "[youtube] ym3VhkGH3E4: Downloading tv client config\n",
            "[youtube] ym3VhkGH3E4: Downloading player ab11fe69-main\n",
            "[youtube] ym3VhkGH3E4: Downloading tv player API JSON\n",
            "[youtube] ym3VhkGH3E4: Downloading ios player API JSON\n",
            "[youtube] ym3VhkGH3E4: Downloading m3u8 information\n",
            "[info] ym3VhkGH3E4: Downloading 1 format(s): 398+140\n",
            "[download] Destination: /content/drive/MyDrive/Datasets_For_Ai_builders/mp4/9 5 2025/Male Singers Hitting Female Singers HIGH NOTES!!.f398.mp4\n",
            "[download] 100% of   36.23MiB in 00:00:01 at 22.31MiB/s  \n",
            "[download] Destination: /content/drive/MyDrive/Datasets_For_Ai_builders/mp4/9 5 2025/Male Singers Hitting Female Singers HIGH NOTES!!.f140.m4a\n",
            "[download] 100% of    6.42MiB in 00:00:00 at 23.25MiB/s  \n",
            "[Merger] Merging formats into \"/content/drive/MyDrive/Datasets_For_Ai_builders/mp4/9 5 2025/Male Singers Hitting Female Singers HIGH NOTES!!.mp4\"\n",
            "Deleting original file /content/drive/MyDrive/Datasets_For_Ai_builders/mp4/9 5 2025/Male Singers Hitting Female Singers HIGH NOTES!!.f398.mp4 (pass -k to keep)\n",
            "Deleting original file /content/drive/MyDrive/Datasets_For_Ai_builders/mp4/9 5 2025/Male Singers Hitting Female Singers HIGH NOTES!!.f140.m4a (pass -k to keep)\n",
            "[youtube] Extracting URL: https://www.youtube.com/watch?v=_eNawXqTw-8\n",
            "[youtube] _eNawXqTw-8: Downloading webpage\n",
            "[youtube] _eNawXqTw-8: Downloading tv client config\n",
            "[youtube] _eNawXqTw-8: Downloading tv player API JSON\n",
            "[youtube] _eNawXqTw-8: Downloading ios player API JSON\n",
            "[youtube] _eNawXqTw-8: Downloading m3u8 information\n",
            "[info] _eNawXqTw-8: Downloading 1 format(s): 398+140\n",
            "[download] Destination: /content/drive/MyDrive/Datasets_For_Ai_builders/mp4/9 5 2025/Male Singers Hitting Female Singers High Notes! Pt 2.f398.mp4\n",
            "[download] 100% of   33.41MiB in 00:00:00 at 36.29MiB/s  \n",
            "[download] Destination: /content/drive/MyDrive/Datasets_For_Ai_builders/mp4/9 5 2025/Male Singers Hitting Female Singers High Notes! Pt 2.f140.m4a\n",
            "[download] 100% of    7.19MiB in 00:00:00 at 11.76MiB/s  \n",
            "[Merger] Merging formats into \"/content/drive/MyDrive/Datasets_For_Ai_builders/mp4/9 5 2025/Male Singers Hitting Female Singers High Notes! Pt 2.mp4\"\n",
            "Deleting original file /content/drive/MyDrive/Datasets_For_Ai_builders/mp4/9 5 2025/Male Singers Hitting Female Singers High Notes! Pt 2.f140.m4a (pass -k to keep)\n",
            "Deleting original file /content/drive/MyDrive/Datasets_For_Ai_builders/mp4/9 5 2025/Male Singers Hitting Female Singers High Notes! Pt 2.f398.mp4 (pass -k to keep)\n",
            "[youtube] Extracting URL: https://www.youtube.com/watch?v=3fer6ILpNtU\n",
            "[youtube] 3fer6ILpNtU: Downloading webpage\n",
            "[youtube] 3fer6ILpNtU: Downloading tv client config\n",
            "[youtube] 3fer6ILpNtU: Downloading tv player API JSON\n",
            "[youtube] 3fer6ILpNtU: Downloading ios player API JSON\n",
            "[youtube] 3fer6ILpNtU: Downloading m3u8 information\n",
            "[info] 3fer6ILpNtU: Downloading 1 format(s): 137+140\n",
            "[download] Destination: /content/drive/MyDrive/Datasets_For_Ai_builders/mp4/9 5 2025/MALE SINGERS HITTING FEMALE SINGERS HIGH NOTES!! Pt3.f137.mp4\n",
            "[download] 100% of  140.70MiB in 00:00:05 at 25.31MiB/s  \n",
            "[download] Destination: /content/drive/MyDrive/Datasets_For_Ai_builders/mp4/9 5 2025/MALE SINGERS HITTING FEMALE SINGERS HIGH NOTES!! Pt3.f140.m4a\n",
            "[download] 100% of    9.34MiB in 00:00:00 at 9.85MiB/s   \n",
            "[Merger] Merging formats into \"/content/drive/MyDrive/Datasets_For_Ai_builders/mp4/9 5 2025/MALE SINGERS HITTING FEMALE SINGERS HIGH NOTES!! Pt3.mp4\"\n",
            "Deleting original file /content/drive/MyDrive/Datasets_For_Ai_builders/mp4/9 5 2025/MALE SINGERS HITTING FEMALE SINGERS HIGH NOTES!! Pt3.f140.m4a (pass -k to keep)\n",
            "Deleting original file /content/drive/MyDrive/Datasets_For_Ai_builders/mp4/9 5 2025/MALE SINGERS HITTING FEMALE SINGERS HIGH NOTES!! Pt3.f137.mp4 (pass -k to keep)\n"
          ]
        }
      ],
      "source": [
        "with yt_dlp.YoutubeDL(ydl_opts) as ydl:\n",
        "    for url in links:\n",
        "        try:\n",
        "            ydl.download([url])\n",
        "        except Exception as e:\n",
        "            print(f\"โหลดไม่ได้: {url}\")\n",
        "            print(f\"Error: {e}\")"
      ]
    }
  ],
  "metadata": {
    "colab": {
      "provenance": [],
      "mount_file_id": "198NGs-Oy51SsFsWDcUMU2_fUkp6FqgQK",
      "authorship_tag": "ABX9TyO802GYM+ruHKSoSUaK2Rfb",
      "include_colab_link": true
    },
    "kernelspec": {
      "display_name": "Python 3",
      "name": "python3"
    },
    "language_info": {
      "name": "python"
    }
  },
  "nbformat": 4,
  "nbformat_minor": 0
}