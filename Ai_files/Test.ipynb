{
 "cells": [
  {
   "cell_type": "code",
   "execution_count": 3,
   "metadata": {},
   "outputs": [],
   "source": [
    "# pip install mediapipe\n"
   ]
  },
  {
   "cell_type": "code",
   "execution_count": 4,
   "metadata": {},
   "outputs": [],
   "source": [
    "import cv2\n",
    "import mediapipe as mp\n",
    "import math\n"
   ]
  },
  {
   "cell_type": "code",
   "execution_count": 5,
   "metadata": {},
   "outputs": [
    {
     "name": "stderr",
     "output_type": "stream",
     "text": [
      "WARNING: All log messages before absl::InitializeLog() is called are written to STDERR\n",
      "I0000 00:00:1746194607.694101 2698088 gl_context.cc:369] GL version: 2.1 (2.1 Metal - 89.4), renderer: Apple M4 Pro\n"
     ]
    }
   ],
   "source": [
    "# Setup MediaPipe\n",
    "mp_hands = mp.solutions.hands\n",
    "hands = mp_hands.Hands(static_image_mode=False,\n",
    "                       max_num_hands=1,\n",
    "                       min_detection_confidence=0.5,\n",
    "                       min_tracking_confidence=0.5)\n",
    "mp_draw = mp.solutions.drawing_utils\n"
   ]
  },
  {
   "cell_type": "code",
   "execution_count": 6,
   "metadata": {},
   "outputs": [],
   "source": [
    "# ฟังก์ชันคำนวณมุมองศาของนิ้ว\n",
    "def calc_angle(a, b, c):\n",
    "    ba = [a.x - b.x, a.y - b.y]\n",
    "    bc = [c.x - b.x, c.y - b.y]\n",
    "    dot = ba[0]*bc[0] + ba[1]*bc[1]\n",
    "    norm_ba = math.hypot(*ba)\n",
    "    norm_bc = math.hypot(*bc)\n",
    "    cos_angle = dot / (norm_ba * norm_bc + 1e-6)\n",
    "    angle = math.degrees(math.acos(max(min(cos_angle, 1.0), -1.0)))\n",
    "    return angle\n"
   ]
  },
  {
   "cell_type": "code",
   "execution_count": 7,
   "metadata": {},
   "outputs": [
    {
     "name": "stderr",
     "output_type": "stream",
     "text": [
      "INFO: Created TensorFlow Lite XNNPACK delegate for CPU.\n"
     ]
    }
   ],
   "source": [
    "# ตรวจว่าเป็นกำมือหรือไม่\n",
    "def is_fist(landmarks):\n",
    "    tips_ids = [8, 12, 16, 20]  # ยกเว้นนิ้วโป้ง\n",
    "    folded = 0\n",
    "    for tip_id in tips_ids:\n",
    "        if landmarks[tip_id].y > landmarks[tip_id - 2].y:\n",
    "            folded += 1\n",
    "    return folded >= 3\n"
   ]
  },
  {
   "cell_type": "code",
   "execution_count": 8,
   "metadata": {},
   "outputs": [
    {
     "name": "stderr",
     "output_type": "stream",
     "text": [
      "W0000 00:00:1746194607.705799 2698927 inference_feedback_manager.cc:114] Feedback manager requires a model with a single signature inference. Disabling support for feedback tensors.\n"
     ]
    }
   ],
   "source": [
    "# ข้อมูลนิ้ว\n",
    "FINGER_NAMES = [\"Thumb\", \"Index\", \"Middle\", \"Ring\", \"Pinky\"]\n",
    "FINGER_TIPS = [4, 8, 12, 16, 20]\n",
    "FINGER_JOINTS = {\n",
    "    \"Thumb\": [2, 3, 4],\n",
    "    \"Index\": [5, 6, 8],\n",
    "    \"Middle\": [9, 10, 12],\n",
    "    \"Ring\": [13, 14, 16],\n",
    "    \"Pinky\": [17, 18, 20],\n",
    "}\n"
   ]
  },
  {
   "cell_type": "code",
   "execution_count": 9,
   "metadata": {},
   "outputs": [
    {
     "name": "stderr",
     "output_type": "stream",
     "text": [
      "W0000 00:00:1746194607.710451 2698927 inference_feedback_manager.cc:114] Feedback manager requires a model with a single signature inference. Disabling support for feedback tensors.\n",
      "W0000 00:00:1746194609.673004 2698927 landmark_projection_calculator.cc:186] Using NORM_RECT without IMAGE_DIMENSIONS is only supported for the square ROI. Provide IMAGE_DIMENSIONS or use PROJECTION_MATRIX.\n"
     ]
    }
   ],
   "source": [
    "# เปิดกล้อง\n",
    "cap = cv2.VideoCapture(0)\n",
    "\n",
    "while cap.isOpened():\n",
    "    success, frame = cap.read()\n",
    "    if not success:\n",
    "        break\n",
    "\n",
    "    frame = cv2.flip(frame, 1)\n",
    "    rgb = cv2.cvtColor(frame, cv2.COLOR_BGR2RGB)\n",
    "    results = hands.process(rgb)\n",
    "\n",
    "    if results.multi_hand_landmarks:\n",
    "        for hand_landmarks in results.multi_hand_landmarks:\n",
    "            mp_draw.draw_landmarks(frame, hand_landmarks, mp_hands.HAND_CONNECTIONS)\n",
    "            landmarks = hand_landmarks.landmark\n",
    "\n",
    "            # เช็คว่าเป็นกำมือหรือเปล่า\n",
    "            if is_fist(landmarks):\n",
    "                cv2.putText(frame, 'Fist Detected', (10, 40),\n",
    "                            cv2.FONT_HERSHEY_SIMPLEX, 1, (0, 0, 255), 2)\n",
    "            else:\n",
    "                cv2.putText(frame, 'Open Hand', (10, 40),\n",
    "                            cv2.FONT_HERSHEY_SIMPLEX, 1, (0, 255, 0), 2)\n",
    "\n",
    "            # แสดงตำแหน่งนิ้ว\n",
    "            for idx, tip_id in enumerate(FINGER_TIPS):\n",
    "                finger_name = FINGER_NAMES[idx]\n",
    "                tip = landmarks[tip_id]\n",
    "                h, w, _ = frame.shape\n",
    "                cx, cy = int(tip.x * w), int(tip.y * h)\n",
    "                cv2.putText(frame, f'{finger_name}', (cx, cy - 20),\n",
    "                            cv2.FONT_HERSHEY_SIMPLEX, 0.6, (255, 255, 255), 1)\n",
    "                cv2.circle(frame, (cx, cy), 5, (255, 0, 0), -1)\n",
    "\n",
    "            # แสดงองศา + เงื่อนไขนิ้วโป้ง\n",
    "            y_offset = 80\n",
    "            for name, ids in FINGER_JOINTS.items():\n",
    "                a = landmarks[ids[0]]\n",
    "                b = landmarks[ids[1]]\n",
    "                c = landmarks[ids[2]]\n",
    "                angle = calc_angle(a, b, c)\n",
    "\n",
    "                if name == \"Thumb\" and angle > 70:\n",
    "                    cv2.putText(frame, \"Wrong\", (10, y_offset),\n",
    "                                cv2.FONT_HERSHEY_SIMPLEX, 1, (0, 0, 255), 2)\n",
    "                    y_offset += 30\n",
    "\n",
    "                text = f\"{name}: {int(angle)} deg\"\n",
    "                cv2.putText(frame, text, (10, y_offset),\n",
    "                            cv2.FONT_HERSHEY_SIMPLEX, 0.6, (0, 255, 255), 1)\n",
    "                y_offset += 25\n",
    "\n",
    "    cv2.imshow(\"Hand Tracking\", frame)\n",
    "    if cv2.waitKey(1) & 0xFF == 27:  # กด ESC เพื่อออก\n",
    "        break\n",
    "\n",
    "cap.release()\n",
    "cv2.destroyAllWindows()\n"
   ]
  }
 ],
 "metadata": {
  "kernelspec": {
   "display_name": "base",
   "language": "python",
   "name": "python3"
  },
  "language_info": {
   "codemirror_mode": {
    "name": "ipython",
    "version": 3
   },
   "file_extension": ".py",
   "mimetype": "text/x-python",
   "name": "python",
   "nbconvert_exporter": "python",
   "pygments_lexer": "ipython3",
   "version": "3.12.7"
  }
 },
 "nbformat": 4,
 "nbformat_minor": 2
}
