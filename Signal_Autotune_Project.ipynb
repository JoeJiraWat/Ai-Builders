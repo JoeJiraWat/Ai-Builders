{
  "nbformat": 4,
  "nbformat_minor": 0,
  "metadata": {
    "colab": {
      "provenance": [],
      "gpuType": "A100",
      "machine_shape": "hm",
      "mount_file_id": "183xhBQp_lTDW2ivDN0CE_Qz3_QpgcSQF",
      "authorship_tag": "ABX9TyPj9oCchdyw8x2stquxC80o",
      "include_colab_link": true
    },
    "kernelspec": {
      "name": "python3",
      "display_name": "Python 3"
    },
    "language_info": {
      "name": "python"
    }
  },
  "cells": [
    {
      "cell_type": "markdown",
      "metadata": {
        "id": "view-in-github",
        "colab_type": "text"
      },
      "source": [
        "<a href=\"https://colab.research.google.com/github/JoeJiraWat/Ai-Builders/blob/main/Signal_Autotune_Project.ipynb\" target=\"_parent\"><img src=\"https://colab.research.google.com/assets/colab-badge.svg\" alt=\"Open In Colab\"/></a>"
      ]
    },
    {
      "cell_type": "code",
      "source": [
        "from google.colab import drive\n",
        "drive.mount('/content/drive')"
      ],
      "metadata": {
        "id": "L52VcCeoqQXl",
        "colab": {
          "base_uri": "https://localhost:8080/"
        },
        "outputId": "f8f4c0dd-4cbc-443f-936e-9c9d7f8ae106"
      },
      "execution_count": null,
      "outputs": [
        {
          "output_type": "stream",
          "name": "stdout",
          "text": [
            "Drive already mounted at /content/drive; to attempt to forcibly remount, call drive.mount(\"/content/drive\", force_remount=True).\n"
          ]
        }
      ]
    },
    {
      "cell_type": "code",
      "source": [
        "!pip install pyworld"
      ],
      "metadata": {
        "colab": {
          "base_uri": "https://localhost:8080/"
        },
        "id": "mLbhI0juQgPT",
        "outputId": "477db77a-57e5-4080-ae35-cc90606d7514"
      },
      "execution_count": null,
      "outputs": [
        {
          "output_type": "stream",
          "name": "stdout",
          "text": [
            "Collecting pyworld\n",
            "  Downloading pyworld-0.3.5.tar.gz (261 kB)\n",
            "\u001b[?25l     \u001b[90m━━━━━━━━━━━━━━━━━━━━━━━━━━━━━━━━━━━━━━━━\u001b[0m \u001b[32m0.0/261.0 kB\u001b[0m \u001b[31m?\u001b[0m eta \u001b[36m-:--:--\u001b[0m\r\u001b[2K     \u001b[91m━━━━━━━━━━━━━━━━━━━━━━\u001b[0m\u001b[91m╸\u001b[0m\u001b[90m━━━━━━━━━━━━━━━━\u001b[0m \u001b[32m153.6/261.0 kB\u001b[0m \u001b[31m4.3 MB/s\u001b[0m eta \u001b[36m0:00:01\u001b[0m\r\u001b[2K     \u001b[90m━━━━━━━━━━━━━━━━━━━━━━━━━━━━━━━━━━━━━━━\u001b[0m \u001b[32m261.0/261.0 kB\u001b[0m \u001b[31m5.0 MB/s\u001b[0m eta \u001b[36m0:00:00\u001b[0m\n",
            "\u001b[?25h  Installing build dependencies ... \u001b[?25l\u001b[?25hdone\n",
            "  Getting requirements to build wheel ... \u001b[?25l\u001b[?25hdone\n",
            "  Preparing metadata (pyproject.toml) ... \u001b[?25l\u001b[?25hdone\n",
            "Requirement already satisfied: numpy in /usr/local/lib/python3.11/dist-packages (from pyworld) (2.0.2)\n",
            "Building wheels for collected packages: pyworld\n",
            "  Building wheel for pyworld (pyproject.toml) ... \u001b[?25l\u001b[?25hdone\n",
            "  Created wheel for pyworld: filename=pyworld-0.3.5-cp311-cp311-linux_x86_64.whl size=924311 sha256=40e55d4b53f6caabc843f7231c69c0ed45d6be2591a8c68127258323fcdba207\n",
            "  Stored in directory: /root/.cache/pip/wheels/26/f0/db/ebcd5cdfe5ad7d229917d3a8db6f18f0cf40f099bf878e294d\n",
            "Successfully built pyworld\n",
            "Installing collected packages: pyworld\n",
            "Successfully installed pyworld-0.3.5\n"
          ]
        }
      ]
    },
    {
      "cell_type": "code",
      "source": [
        "import os\n",
        "import librosa\n",
        "import soundfile as sf\n",
        "import numpy as np\n",
        "import collections\n",
        "from google.colab import files # สำหรับ Colab file upload\n",
        "import time\n",
        "import glob\n",
        "import pyworld # ใช้สำหรับ Analyze/Synthesize คุณภาพสูง\n",
        "from scipy.stats import mode as scipy_mode # อาจจะไม่จำเป็นถ้าใช้ Counter.most_common\n",
        "from scipy.signal import medfilt # สำหรับ Smoothing F0 (Optional)"
      ],
      "metadata": {
        "id": "8z-mv6kZ3xA9"
      },
      "execution_count": null,
      "outputs": []
    },
    {
      "cell_type": "markdown",
      "source": [
        "ส่วนฟังก์ชัน load_audio, extract_pitch, apply_ai_enhancement,\n",
        "calculate_pitch_accuracy_metrics, plot_pitch_comparison"
      ],
      "metadata": {
        "id": "vUsNUWIi34hk"
      }
    },
    {
      "cell_type": "markdown",
      "source": [
        "1. โหลดไฟล์เสียง"
      ],
      "metadata": {
        "id": "M9uyfl6P4Bv7"
      }
    },
    {
      "cell_type": "code",
      "source": [
        "YOUR_DATASET_BASE_PATH = \"/content/drive/MyDrive/Datasets_For_Ai_builders/\"\n",
        "CLEAN_VOICE_DIR = os.path.join(YOUR_DATASET_BASE_PATH, \"CleanVoice\")\n",
        "RAW_VOICE_DIR_REFERENCE_ONLY = os.path.join(YOUR_DATASET_BASE_PATH, \"Raw Voice (wav)\") # Path อ้างอิง ไม่ได้ใช้โหลดตรงๆแล้ว\n",
        "HIGH_NOTE_DIR = os.path.join(YOUR_DATASET_BASE_PATH, \"HighNote/HighNote(Edited)/\")\n",
        "OUTPUT_DIR_HEURISTIC_V2 = \"/content/drive/MyDrive/Datasets_For_Ai_builders/Model/\" # เปลี่ยนชื่อ Output dir"
      ],
      "metadata": {
        "id": "VaMIT8qiY5vf"
      },
      "execution_count": null,
      "outputs": []
    },
    {
      "cell_type": "code",
      "source": [
        "os.makedirs(YOUR_DATASET_BASE_PATH, exist_ok=True)\n",
        "os.makedirs(CLEAN_VOICE_DIR, exist_ok=True)\n",
        "os.makedirs(RAW_VOICE_DIR_REFERENCE_ONLY, exist_ok=True)\n",
        "os.makedirs(HIGH_NOTE_DIR, exist_ok=True)\n",
        "os.makedirs(OUTPUT_DIR_HEURISTIC_V2, exist_ok=True)"
      ],
      "metadata": {
        "id": "lLECXHRnZExq"
      },
      "execution_count": null,
      "outputs": []
    },
    {
      "cell_type": "markdown",
      "source": [
        "การสร้างไฟล์ Dummy ถ้ายังไม่มีไฟล์ใดๆ ในโฟลเดอร์ที่ระบุ"
      ],
      "metadata": {
        "id": "K7saZ7okOrtj"
      }
    },
    {
      "cell_type": "code",
      "source": [
        "if not glob.glob(os.path.join(CLEAN_VOICE_DIR, '*.wav')):\n",
        "    print(f\"สร้างไฟล์เสียง Clean Voice ตัวอย่างใน '{CLEAN_VOICE_DIR}'\")\n",
        "    sr_dummy = 22050\n",
        "    y_c4 = librosa.tone(frequency=librosa.note_to_hz('C4'), sr=sr_dummy, duration=2)\n",
        "    try: sf.write(os.path.join(CLEAN_VOICE_DIR, \"clean_C4_example.wav\"), y_c4, sr_dummy)\n",
        "    except Exception as e: print(f\"Dummy Clean error: {e}\")\n",
        "\n",
        "if not glob.glob(os.path.join(HIGH_NOTE_DIR, '*.wav')):\n",
        "    print(f\"สร้างไฟล์เสียง HighNote ตัวอย่างใน '{HIGH_NOTE_DIR}'\")\n",
        "    sr_dummy = 22050;\n",
        "    y_a5 = librosa.tone(frequency=librosa.note_to_hz('A5'), sr=sr_dummy, duration=2)\n",
        "    try: sf.write(os.path.join(HIGH_NOTE_DIR, \"high_A5_example.wav\"), y_a5, sr_dummy)\n",
        "    except Exception as e: print(f\"Dummy HighNote error: {e}\")\n"
      ],
      "metadata": {
        "id": "oJvfnWqZZIMH"
      },
      "execution_count": null,
      "outputs": []
    },
    {
      "cell_type": "markdown",
      "source": [
        "LoadAudio"
      ],
      "metadata": {
        "id": "P9xuoqjxO-wf"
      }
    },
    {
      "cell_type": "code",
      "source": [
        "def load_audio(file_path):\n",
        "    \"\"\"Technique: โหลดข้อมูลเสียงจากไฟล์ และทำให้เป็น C-contiguous float64\"\"\"\n",
        "    try:\n",
        "        y, sr = librosa.load(file_path, sr=None, mono=True, res_type='kaiser_best')\n",
        "        print(f\"  [ASP] โหลดไฟล์ '{os.path.basename(file_path)}' (SR: {sr} Hz, Duration: {len(y)/sr:.2f}s)\")\n",
        "        # ทำให้เป็น C-contiguous และ float64 เพื่อ pyworld\n",
        "        y_processed = np.ascontiguousarray(y, dtype=np.float64)\n",
        "        return y_processed, sr\n",
        "    except Exception as e:\n",
        "        print(f\"เกิดข้อผิดพลาดในการโหลดไฟล์: {file_path} ({e})\"); return None, None"
      ],
      "metadata": {
        "id": "s6M2iwluO-ZC"
      },
      "execution_count": null,
      "outputs": []
    },
    {
      "cell_type": "markdown",
      "source": [
        "สกัดpitch"
      ],
      "metadata": {
        "id": "NboACM61PG5k"
      }
    },
    {
      "cell_type": "code",
      "source": [
        "def extract_pitch_world(y, sr, frame_period=5.0):\n",
        "    \"\"\"Technique: Pitch Extraction / F0 Estimation (ใช้ pyworld.dio + stonemask)\n",
        "       รับ y เป็น float64 และ C-contiguous array\n",
        "    \"\"\"\n",
        "    try:\n",
        "        # ตรวจสอบ dtype ของ y ที่เข้ามาในฟังก์ชันนี้\n",
        "        # print(f\"  [ASP Debug] dtype of y in extract_pitch_world: {y.dtype}, flags: {y.flags}\")\n",
        "        if not y.flags['C_CONTIGUOUS']:\n",
        "            print(\"  [ASP Warning] Input array to extract_pitch_world is not C-contiguous. Forcing.\")\n",
        "            y = np.ascontiguousarray(y, dtype=np.float64) # Double check\n",
        "        elif y.dtype != np.float64:\n",
        "            print(f\"  [ASP Warning] Input array to extract_pitch_world is {y.dtype}, not float64. Forcing.\")\n",
        "            y = y.astype(np.float64)\n",
        "\n",
        "\n",
        "        _f0, _time_axis = pyworld.dio(y, sr, frame_period=frame_period)\n",
        "        f0 = pyworld.stonemask(y, _f0, _time_axis, sr) # Refine F0\n",
        "        hop_length = int(frame_period / 1000.0 * sr)\n",
        "        return f0, _time_axis, hop_length\n",
        "    except ValueError as ve: # ดักจับ ValueError โดยเฉพาะ\n",
        "        print(f\"เกิด ValueError ระหว่างสกัด Pitch ด้วย pyworld: {ve}\")\n",
        "        print(f\"  ตรวจสอบ dtype และ contiguity ของ input array: dtype={y.dtype}, C_CONTIGUOUS={y.flags['C_CONTIGUOUS']}\")\n",
        "        return np.array([]), np.array([]), int(frame_period / 1000.0 * sr)\n",
        "    except Exception as e:\n",
        "        print(f\"เกิดข้อผิดพลาดทั่วไประหว่างสกัด Pitch ด้วย pyworld: {e}\")\n",
        "        return np.array([]), np.array([]), int(frame_period / 1000.0 * sr)"
      ],
      "metadata": {
        "id": "p0xRiYrmhiU0"
      },
      "execution_count": null,
      "outputs": []
    },
    {
      "cell_type": "code",
      "source": [
        "def load_audio(file_path):\n",
        "    \"\"\"Technique: โหลดข้อมูลเสียงจากไฟล์\"\"\"\n",
        "    try:\n",
        "        y, sr = librosa.load(file_path, sr=None, mono=True, res_type='kaiser_best')\n",
        "        print(f\"  [ASP] โหลดไฟล์ '{os.path.basename(file_path)}' (Sample Rate: {sr} Hz)\")\n",
        "        return y.astype(np.float32), sr\n",
        "    except Exception as e:\n",
        "        print(f\"เกิดข้อผิดพลาดในการโหลดไฟล์: {file_path} ({e})\")\n",
        "        return None, None"
      ],
      "metadata": {
        "id": "WxMUSLOQ38AK"
      },
      "execution_count": null,
      "outputs": []
    },
    {
      "cell_type": "code",
      "source": [
        "def extract_pitch_librosa(y, sr, hop_length=256):\n",
        "    \"\"\"Technique: Pitch Extraction / Fundamental Frequency Estimation (ใช้ librosa.pyin)\"\"\"\n",
        "    try:\n",
        "        print(f\"  [ASP] กำลังสกัด Pitch (F0) ด้วย librosa.pyin (hop={hop_length})...\")\n",
        "        f0, voiced_flag, voiced_probs = librosa.pyin(y,\n",
        "                                                     fmin=librosa.note_to_hz('C2'),\n",
        "                                                     fmax=librosa.note_to_hz('C7'),\n",
        "                                                     hop_length=hop_length)\n",
        "        print(f\"  [ASP] สกัด F0 สำเร็จ ({len(f0)} frames)\")\n",
        "        return f0, voiced_flag, hop_length\n",
        "    except Exception as e:\n",
        "        print(f\"เกิดข้อผิดพลาดระหว่างการสกัด Pitch ด้วย Librosa: {e}\")\n",
        "        return np.array([]), np.array([]), hop_length"
      ],
      "metadata": {
        "id": "QrDkZqTk552_"
      },
      "execution_count": null,
      "outputs": []
    },
    {
      "cell_type": "markdown",
      "source": [
        "แปลง f0 เป็น note"
      ],
      "metadata": {
        "id": "pITrVvLNPN9a"
      }
    },
    {
      "cell_type": "code",
      "source": [
        "def f0_to_notes(f0_contour, get_cents=False):\n",
        "    notes_output = []\n",
        "    for f_val in f0_contour:\n",
        "        if f_val is not None and f_val > 0 and not np.isnan(f_val):\n",
        "            try:\n",
        "                if get_cents:\n",
        "                    midi_val = librosa.hz_to_midi(f_val)\n",
        "                    note_name_full = librosa.midi_to_note(midi_val, octave=True, cents=True)\n",
        "                    notes_output.append(note_name_full)\n",
        "                else:\n",
        "                    note_name_octave = librosa.hz_to_note(f_val, octave=True, cents=False)\n",
        "                    notes_output.append(note_name_octave)\n",
        "            except Exception: pass\n",
        "    return notes_output\n"
      ],
      "metadata": {
        "id": "2pS0u0CHZOLc"
      },
      "execution_count": null,
      "outputs": []
    },
    {
      "cell_type": "markdown",
      "source": [
        "หาโน๊ดหลัก"
      ],
      "metadata": {
        "id": "pHqza70dPcaR"
      }
    },
    {
      "cell_type": "code",
      "source": [
        "def get_dominant_note_from_f0_list(f0_values_list):\n",
        "    all_notes = []\n",
        "    for f0_contour in f0_values_list:\n",
        "        notes_from_contour = f0_to_notes(f0_contour, get_cents=False)\n",
        "        all_notes.extend(notes_from_contour)\n",
        "    if not all_notes: return \"N/A\"\n",
        "    note_counts = collections.Counter(all_notes)\n",
        "    dominant_note_info = note_counts.most_common(1)\n",
        "    result = dominant_note_info[0][0] if dominant_note_info else \"N/A\"\n",
        "    print(f\"  [ASP] โน้ตหลักจาก F0 list: {result}\")\n",
        "    return result\n"
      ],
      "metadata": {
        "id": "BDIFLkgiZP20"
      },
      "execution_count": null,
      "outputs": []
    },
    {
      "cell_type": "markdown",
      "source": [
        "Model โปรไฟล์ จาก Datasets cleanVoices"
      ],
      "metadata": {
        "id": "TkaS3tD2Ploy"
      }
    },
    {
      "cell_type": "code",
      "source": [
        "def build_clean_voice_pitch_profile(clean_voice_dir, frame_period=5.0, num_samples_to_analyze=10):\n",
        "    print(f\"\\n[Heuristic Model Building] สร้างโปรไฟล์ Pitch จาก '{clean_voice_dir}'...\")\n",
        "    pitch_profile_temp = {}\n",
        "    clean_files = sorted(glob.glob(os.path.join(clean_voice_dir, '*.wav')))\n",
        "    if not clean_files:\n",
        "        print(f\"  [Heuristic Model Building] ไม่พบไฟล์ .wav ใน '{clean_voice_dir}'\")\n",
        "        return {}\n",
        "    files_to_process = clean_files\n",
        "    if len(clean_files) > num_samples_to_analyze:\n",
        "        files_to_process = np.random.choice(clean_files, size=num_samples_to_analyze, replace=False)\n",
        "    for filepath in files_to_process:\n",
        "        print(f\"  [Heuristic Model Building] วิเคราะห์ Clean: {os.path.basename(filepath)}\")\n",
        "        y, sr = load_audio(filepath)\n",
        "        if y is None: continue\n",
        "        f0, _, _ = extract_pitch_world(y, sr, frame_period=frame_period)\n",
        "        for f_hz in f0:\n",
        "            if f_hz > 0 and not np.isnan(f_hz):\n",
        "                try:\n",
        "                    note_name_octave = librosa.hz_to_note(f_hz, octave=True, cents=False)\n",
        "                    if note_name_octave not in pitch_profile_temp: pitch_profile_temp[note_name_octave] = []\n",
        "                    pitch_profile_temp[note_name_octave].append(f_hz)\n",
        "                except Exception: pass\n",
        "    final_pitch_profile = {}\n",
        "    for note, f0_values in pitch_profile_temp.items():\n",
        "        if f0_values and len(f0_values) > 1: final_pitch_profile[note] = np.nanmedian(f0_values)\n",
        "    if not final_pitch_profile: print(\"  [Heuristic Model Building] ไม่สามารถสร้างโปรไฟล์ Pitch\")\n",
        "    else: print(f\"[Heuristic Model Building] สร้างโปรไฟล์ Pitch {len(final_pitch_profile)} โน้ตสำเร็จ\")\n",
        "    return final_pitch_profile\n"
      ],
      "metadata": {
        "id": "Px9fi9ebvJkw"
      },
      "execution_count": null,
      "outputs": []
    },
    {
      "cell_type": "markdown",
      "source": [
        "วิเคราะห์ Dataset HighNote เพื่อหา Median F0"
      ],
      "metadata": {
        "id": "RXrAEseCP46m"
      }
    },
    {
      "cell_type": "code",
      "source": [
        "def analyze_high_note_dataset(high_note_dir, frame_period=5.0, num_samples_to_analyze=10):\n",
        "    print(f\"\\n[Dataset Analysis] วิเคราะห์เสียงสูงจาก '{high_note_dir}'...\")\n",
        "    all_high_f0s = []\n",
        "    high_note_files = sorted(glob.glob(os.path.join(high_note_dir, '*.wav')))\n",
        "    if not high_note_files:\n",
        "        print(f\"  [Dataset Analysis] ไม่พบไฟล์ .wav ใน '{high_note_dir}'\"); return np.nan\n",
        "    files_to_process = high_note_files\n",
        "    if len(high_note_files) > num_samples_to_analyze:\n",
        "        files_to_process = np.random.choice(high_note_files, size=num_samples_to_analyze, replace=False)\n",
        "    for filepath in files_to_process:\n",
        "        print(f\"  [Dataset Analysis] วิเคราะห์ HighNote: {os.path.basename(filepath)}\")\n",
        "        y, sr = load_audio(filepath)\n",
        "        if y is None: continue\n",
        "        f0, _, _ = extract_pitch_world(y, sr, frame_period=frame_period)\n",
        "        valid_f0s = f0[f0 > 0 & ~np.isnan(f0)]\n",
        "        if len(valid_f0s) > 0: all_high_f0s.extend(valid_f0s)\n",
        "    if not all_high_f0s: print(\"  [Dataset Analysis] ไม่สามารถสกัด F0 จาก HighNote\"); return np.nan\n",
        "    median_high_f0 = np.nanmedian(all_high_f0s)\n",
        "    print(f\"[Dataset Analysis] Median F0 เสียงสูง: {median_high_f0:.2f} Hz\")\n",
        "    return median_high_f0\n"
      ],
      "metadata": {
        "id": "gIw_vX4Hhysu"
      },
      "execution_count": null,
      "outputs": []
    },
    {
      "cell_type": "markdown",
      "source": [
        "ปรับปรุงเสียงด้วย Heuristic Model"
      ],
      "metadata": {
        "id": "W5e3li2uQCMF"
      }
    },
    {
      "cell_type": "code",
      "source": [
        "def apply_heuristic_pitch_correction_v2(\n",
        "    y, sr, # y ที่เข้ามาในฟังก์ชันนี้ ควรจะเป็น float64 และ C-contiguous จาก load_audio แล้ว\n",
        "    clean_pitch_profile,\n",
        "    median_f0_from_high_notes=np.nan,\n",
        "    user_target_note=None,\n",
        "    pitch_correction_strength=0.7,\n",
        "    correction_threshold_cents=50,\n",
        "    high_note_activation_hz=440.0,\n",
        "    frame_period=5.0\n",
        "):\n",
        "    print(\"\\n[Heuristic Correction V2] กำลังประมวลผลการแก้ไข Pitch...\")\n",
        "\n",
        "    # --- ตรวจสอบและบังคับให้ y เป็น float64 และ C-contiguous อีกครั้งเพื่อความแน่นอน ---\n",
        "    if not isinstance(y, np.ndarray): # ถ้า y ไม่ใช่ numpy array (ไม่น่าเกิดขึ้นถ้ามาจาก load_audio)\n",
        "        print(\"  [Heuristic Correction V2 Warning] y is not a numpy array. Attempting conversion.\")\n",
        "        y = np.array(y) # ลองแปลง\n",
        "\n",
        "    if y.dtype != np.float64:\n",
        "        print(f\"  [Heuristic Correction V2 Warning] dtype ของ y ที่รับมาคือ {y.dtype}, กำลังแปลงเป็น float64.\")\n",
        "        y = y.astype(np.float64)\n",
        "    if not y.flags['C_CONTIGUOUS']:\n",
        "        print(\"  [Heuristic Correction V2 Warning] y ที่รับมาไม่ใช่ C-contiguous, กำลังแปลง.\")\n",
        "        y = np.ascontiguousarray(y, dtype=np.float64)\n",
        "    # --------------------------------------------------------------------------------\n",
        "\n",
        "    f0_original, time_axis, _ = extract_pitch_world(y, sr, frame_period=frame_period)\n",
        "\n",
        "    # สกัด SP และ AP จากเสียง Original โดยใช้ F0 Original\n",
        "    # y ที่ส่งเข้า pyworld.cheaptrick และ d4c ต้องเป็น float64 และ C-contiguous\n",
        "    try:\n",
        "        sp_original = pyworld.cheaptrick(y, f0_original, time_axis, sr)\n",
        "        ap_original = pyworld.d4c(y, f0_original, time_axis, sr)\n",
        "    except ValueError as ve_sp_ap:\n",
        "        print(f\"  [Heuristic Correction V2 ERROR] เกิด ValueError ขณะสกัด SP/AP: {ve_sp_ap}\")\n",
        "        print(f\"    ตรวจสอบ dtype/contiguity ของ y ที่ใช้สกัด SP/AP: {y.dtype}, C_CONTIGUOUS={y.flags['C_CONTIGUOUS']}\")\n",
        "        print(\"    คืนค่าเสียงเดิม\")\n",
        "        return y.astype(np.float32) # คืนค่า float32 ตามปกติ\n",
        "    except Exception as e_sp_ap:\n",
        "        print(f\"  [Heuristic Correction V2 ERROR] เกิดข้อผิดพลาดทั่วไปขณะสกัด SP/AP: {e_sp_ap}\")\n",
        "        print(\"    คืนค่าเสียงเดิม\")\n",
        "        return y.astype(np.float32)\n",
        "\n",
        "\n",
        "    if f0_original is None or len(f0_original) == 0 or not np.any(f0_original > 0):\n",
        "        print(\"  [Heuristic Correction V2] ไม่สามารถสกัด F0 ต้นฉบับที่ Valid ได้, คืนค่าเสียงเดิม\")\n",
        "        return y.astype(np.float32) # คืนค่า float32 ตามปกติ\n",
        "\n",
        "    f0_corrected = np.copy(f0_original)\n",
        "    num_frames = len(f0_original)\n",
        "    frames_corrected_count = 0\n",
        "\n",
        "    # ... (ส่วนตรรกะการหา effective_target_f0_hz และการแก้ไข f0_corrected เหมือนเดิมทุกประการ) ...\n",
        "    target_freq_user_hz = np.nan\n",
        "    if user_target_note:\n",
        "        try: target_freq_user_hz = librosa.note_to_hz(user_target_note)\n",
        "        except Exception: print(f\"  คำเตือน: ไม่สามารถแปลง target note '{user_target_note}'\")\n",
        "    for i in range(num_frames):\n",
        "        current_f0 = f0_original[i]\n",
        "        if current_f0 <= 0 or np.isnan(current_f0): continue\n",
        "        effective_target_f0_hz = np.nan; target_source_info = \"None\"\n",
        "        if not np.isnan(target_freq_user_hz):\n",
        "            midi_current = librosa.hz_to_midi(current_f0); midi_target_base = librosa.hz_to_midi(target_freq_user_hz)\n",
        "            octave_diff = round((midi_current - midi_target_base) / 12.0)\n",
        "            effective_target_f0_hz = librosa.midi_to_hz(midi_target_base + octave_diff * 12)\n",
        "            target_source_info = f\"User ({user_target_note})\"\n",
        "        elif current_f0 >= high_note_activation_hz and not np.isnan(median_f0_from_high_notes):\n",
        "            midi_current = librosa.hz_to_midi(current_f0); midi_high_ref_base = librosa.hz_to_midi(median_f0_from_high_notes)\n",
        "            octave_diff_high = round((midi_current - midi_high_ref_base) / 12.0)\n",
        "            effective_target_f0_hz = librosa.midi_to_hz(midi_high_ref_base + octave_diff_high * 12)\n",
        "            target_source_info = \"HighNote Ref\"\n",
        "        else:\n",
        "            try:\n",
        "                current_note_name_octave = librosa.hz_to_note(current_f0, octave=True, cents=False)\n",
        "                target_f0_from_profile = clean_pitch_profile.get(current_note_name_octave)\n",
        "                if target_f0_from_profile is not None and not np.isnan(target_f0_from_profile):\n",
        "                    effective_target_f0_hz = target_f0_from_profile\n",
        "                    target_source_info = f\"CleanVoice Profile ({current_note_name_octave})\"\n",
        "                else:\n",
        "                    midi_current = librosa.hz_to_midi(current_f0); quantized_midi = np.round(midi_current)\n",
        "                    effective_target_f0_hz = librosa.midi_to_hz(quantized_midi)\n",
        "                    target_source_info = \"Chromatic Quantize\"\n",
        "            except Exception:\n",
        "                midi_current = librosa.hz_to_midi(current_f0); quantized_midi = np.round(midi_current)\n",
        "                effective_target_f0_hz = librosa.midi_to_hz(quantized_midi)\n",
        "                target_source_info = \"Chromatic Quantize (Fallback)\"\n",
        "        if effective_target_f0_hz > 0 and not np.isnan(effective_target_f0_hz):\n",
        "            cents_diff = 1200 * np.log2(current_f0 / effective_target_f0_hz)\n",
        "            current_strength = pitch_correction_strength\n",
        "            if abs(cents_diff) > 700: current_strength *= 0.4\n",
        "            elif abs(cents_diff) > 400: current_strength *= 0.6\n",
        "            elif abs(cents_diff) > 200: current_strength *= 0.8\n",
        "            if abs(cents_diff) > correction_threshold_cents:\n",
        "                frames_corrected_count += 1\n",
        "                cents_to_correct = cents_diff * current_strength\n",
        "                corrected_pitch = current_f0 * (2**(-cents_to_correct / 1200.0))\n",
        "                f0_corrected[i] = max(1.0, corrected_pitch)\n",
        "    # ... (สิ้นสุดส่วนตรรกะการแก้ไข F0) ...\n",
        "\n",
        "    if frames_corrected_count > 0:\n",
        "        print(f\"  [Heuristic Correction V2] ทำการปรับแก้ Pitch ไป {frames_corrected_count} เฟรม\")\n",
        "    else:\n",
        "        print(f\"  [Heuristic Correction V2] ไม่พบ Pitch ที่เหิน/หลงเกินเกณฑ์ที่ต้องแก้ไข\")\n",
        "\n",
        "    try: # Optional Smoothing\n",
        "        voiced_mask = f0_corrected > 0\n",
        "        if np.any(voiced_mask) and len(f0_corrected[voiced_mask]) >=3 :\n",
        "            f0_corrected[voiced_mask] = medfilt(f0_corrected[voiced_mask], kernel_size=3)\n",
        "            print(\"  [Heuristic Correction V2] ใช้ Median Filter กับ F0 ที่แก้ไขแล้ว\")\n",
        "    except Exception as e_smooth: print(f\"  คำเตือน: Smoothing F0 error: {e_smooth}\")\n",
        "\n",
        "\n",
        "    f0_corrected[f0_corrected <= 0] = 0\n",
        "    f0_corrected[np.isnan(f0_corrected)] = 0\n",
        "    print(\"  [Heuristic Correction V2] กำลังสังเคราะห์เสียงใหม่ด้วย pyworld...\")\n",
        "    y_synthesized = pyworld.synthesize(f0_corrected.astype(np.float64), # F0 ต้องเป็น float64\n",
        "                                        sp_original.astype(np.float64), # SP ต้องเป็น float64\n",
        "                                        ap_original.astype(np.float64), # AP ต้องเป็น float64\n",
        "                                        sr, frame_period)\n",
        "    print(\"  [Heuristic Correction V2] สังเคราะห์เสียงเสร็จสิ้น\")\n",
        "    # คืนค่าเป็น float32 ซึ่งเป็นมาตรฐานสำหรับไฟล์เสียงส่วนใหญ่ และ soundfile จัดการได้ดี\n",
        "    return y_synthesized.astype(np.float32)"
      ],
      "metadata": {
        "id": "Lw1FCrCyeNti"
      },
      "execution_count": null,
      "outputs": []
    },
    {
      "cell_type": "markdown",
      "source": [
        " โหลดไฟล์เสียง .wav"
      ],
      "metadata": {
        "id": "ZLqqNuDdQLW0"
      }
    },
    {
      "cell_type": "code",
      "source": [
        "def upload_and_get_wav_path_colab(prompt_message=\"กรุณาอัปโหลดไฟล์เสียงร้อง .wav ที่ต้องการปรับปรุง:\"):\n",
        "    print(prompt_message)\n",
        "    try:\n",
        "        uploaded = files.upload(); time.sleep(1)\n",
        "        if not uploaded: print(\"ไม่ได้เลือกไฟล์ใดๆ\"); return None\n",
        "        wav_files = {k: v for k, v in uploaded.items() if k.lower().endswith('.wav')}\n",
        "        if len(wav_files) == 0: print(\"ข้อผิดพลาด: ไม่พบไฟล์ .wav\"); return None\n",
        "        elif len(wav_files) > 1: print(\"คำเตือน: พบไฟล์ .wav มากกว่า 1 ไฟล์, จะใช้ไฟล์แรก\")\n",
        "        filename = list(wav_files.keys())[0]; content = wav_files[filename]\n",
        "        temp_save_path = os.path.join(\"/content\", filename)\n",
        "        with open(temp_save_path, 'wb') as f: f.write(content)\n",
        "        print(f\"ไฟล์ '{filename}' ถูกอัปโหลดและบันทึกไว้ที่: {temp_save_path}\")\n",
        "        if not os.path.exists(temp_save_path) or os.path.getsize(temp_save_path) == 0:\n",
        "             print(f\"คำเตือน: ไฟล์ '{temp_save_path}' ไม่ได้ถูกเขียนอย่างสมบูรณ์\"); return None\n",
        "        return temp_save_path\n",
        "    except Exception as e: print(f\"เกิดข้อผิดพลาดระหว่างการอัปโหลดไฟล์: {e}\"); return None\n"
      ],
      "metadata": {
        "id": "rylgHh3LQHsR"
      },
      "execution_count": null,
      "outputs": []
    },
    {
      "cell_type": "code",
      "source": [
        "if __name__ == \"__main__\":\n",
        "    # ... (ส่วนต้นของ main เหมือนเดิม: สร้าง dir, โหลด profile, upload ไฟล์) ...\n",
        "    print(\"-----------------------------------------------------------\")\n",
        "    print(\"🎤 โปรแกรมปรับปรุงเสียงร้องด้วย Heuristic Model V2 (Dtype Fix Attempt) 🎶\")\n",
        "    print(\"-----------------------------------------------------------\")\n",
        "\n",
        "    FRAME_PERIOD_ANALYSIS = 5.0\n",
        "\n",
        "    clean_voice_profile = build_clean_voice_pitch_profile(CLEAN_VOICE_DIR, frame_period=FRAME_PERIOD_ANALYSIS, num_samples_to_analyze=10)\n",
        "    median_high_f0_ref = analyze_high_note_dataset(HIGH_NOTE_DIR, frame_period=FRAME_PERIOD_ANALYSIS, num_samples_to_analyze=10)\n",
        "\n",
        "    if not clean_voice_profile:\n",
        "        print(\"!!! คำเตือน: ไม่สามารถสร้างโปรไฟล์ Pitch จาก CleanVoice ได้ !!!\")\n",
        "\n",
        "    print(f\"\\nขั้นตอนที่ 1: อัปโหลดไฟล์เสียง Input (.wav) ที่ต้องการปรับปรุง\")\n",
        "    uploaded_audio_path = upload_and_get_wav_path_colab() # ฟังก์ชันนี้ควรมีอยู่\n",
        "\n",
        "    if uploaded_audio_path and os.path.exists(uploaded_audio_path):\n",
        "        y_original, sr_original = load_audio(uploaded_audio_path) # load_audio คืน float64\n",
        "        if y_original is not None:\n",
        "            print(f\"\\n--- กำลังประมวลผลไฟล์: {os.path.basename(uploaded_audio_path)} ---\")\n",
        "            # ... (ส่วนวิเคราะห์เสียงต้นฉบับเหมือนเดิม) ...\n",
        "            print(\"\\nขั้นตอนที่ 2: วิเคราะห์เสียงต้นฉบับ\")\n",
        "            original_f0, _, _ = extract_pitch_world(y_original, sr_original, frame_period=FRAME_PERIOD_ANALYSIS)\n",
        "            if original_f0 is not None and len(original_f0) > 0 and np.any(original_f0 > 0):\n",
        "                original_notes = f0_to_notes(original_f0)\n",
        "                dominant_original_note = get_dominant_note_from_f0_list([original_f0])\n",
        "                print(f\"เสียงต้นฉบับ - โน้ตหลัก: {dominant_original_note}\")\n",
        "\n",
        "                # ... (ส่วนรับ target_note_input และ parameters อื่นๆ เหมือนเดิม) ...\n",
        "                print(\"\\nขั้นตอนที่ 3: ระบุโน้ตเป้าหมาย (ถ้าต้องการ)\")\n",
        "                target_note_input = input(\"ป้อนโน้ตเป้าหมายเดียว (เช่น C4) หรือกด Enter เพื่อข้าม: \").strip()\n",
        "                if not target_note_input: target_note_input = None\n",
        "                else:\n",
        "                     try: librosa.note_to_hz(target_note_input)\n",
        "                     except Exception: print(f\"คำเตือน: รูปแบบโน้ต '{target_note_input}'\"); target_note_input=None\n",
        "\n",
        "                print(\"\\nขั้นตอนที่ 4: ตั้งค่าพารามิเตอร์การแก้ไข\")\n",
        "                try: strength = float(input(f\"  ความแรงแก้ไข Pitch (0.1-1.0, default: 0.7): \").strip() or \"0.7\"); strength = np.clip(strength, 0.1, 1.0)\n",
        "                except ValueError: strength = 0.7\n",
        "                try: threshold = float(input(f\"  เกณฑ์แก้ไข (Cents, default: 50): \").strip() or \"50\"); threshold = max(10, threshold)\n",
        "                except ValueError: threshold = 50\n",
        "                try: high_note_thresh_hz_input = float(input(f\"  ความถี่เริ่ม HighNote Ref (Hz, default: 440): \").strip() or \"440\")\n",
        "                except ValueError: high_note_thresh_hz_input = 440\n",
        "\n",
        "                # y_original ที่ส่งเข้า apply_heuristic_pitch_correction_v2 เป็น float64\n",
        "                y_corrected = apply_heuristic_pitch_correction_v2(\n",
        "                    y_original, sr_original, # y_original เป็น float64\n",
        "                    clean_pitch_profile=clean_voice_profile,\n",
        "                    median_f0_from_high_notes=median_high_f0_ref,\n",
        "                    user_target_note=target_note_input,\n",
        "                    pitch_correction_strength=strength,\n",
        "                    correction_threshold_cents=threshold,\n",
        "                    high_note_activation_hz=high_note_thresh_hz_input,\n",
        "                    frame_period=FRAME_PERIOD_ANALYSIS\n",
        "                )\n",
        "\n",
        "                print(\"\\nขั้นตอนที่ 5: วิเคราะห์เสียงที่แก้ไขแล้ว\")\n",
        "                # y_corrected ที่ได้จาก apply_heuristic_pitch_correction_v2 ควรเป็น float64\n",
        "                # เพื่อให้ extract_pitch_world ทำงานได้ถูกต้อง\n",
        "                corrected_f0, _, _ = extract_pitch_world(y_corrected, sr_original, frame_period=FRAME_PERIOD_ANALYSIS)\n",
        "                # ... (ส่วนวิเคราะห์และบันทึกไฟล์ output เหมือนเดิม) ...\n",
        "                if corrected_f0 is not None and len(corrected_f0) > 0 and np.any(corrected_f0 > 0):\n",
        "                    corrected_notes = f0_to_notes(corrected_f0)\n",
        "                    dominant_corrected_note = get_dominant_note_from_f0_list([corrected_f0])\n",
        "                    print(f\"เสียงที่แก้ไขแล้ว - โน้ตหลัก: {dominant_corrected_note}\")\n",
        "                else:\n",
        "                    print(\"ไม่สามารถสกัด Pitch จากไฟล์เสียงที่แก้ไขแล้วได้\")\n",
        "\n",
        "                base_in, ext_in = os.path.splitext(os.path.basename(uploaded_audio_path))\n",
        "                output_file_name = f\"{base_in}_heuristic_v2_fixed{ext_in}\"\n",
        "                output_file_path = os.path.join(OUTPUT_DIR_HEURISTIC_V2, output_file_name)\n",
        "                try:\n",
        "                    # บันทึกเป็น float32 เพื่อความเข้ากันได้ทั่วไป\n",
        "                    sf.write(output_file_path, y_corrected.astype(np.float32), sr_original)\n",
        "                    print(f\"\\nบันทึกไฟล์เสียงที่แก้ไขแล้วไปที่ '{output_file_path}'\")\n",
        "                except Exception as e: print(f\"เกิดข้อผิดพลาดในการบันทึกไฟล์: {e}\")\n",
        "            else:\n",
        "                print(\"ไม่สามารถสกัด Pitch จากไฟล์เสียงต้นฉบับได้ หรือไม่มี voiced frames\")\n",
        "        else:\n",
        "            print(\"ไม่สามารถโหลดไฟล์เสียงที่อัปโหลดได้\")\n",
        "    else:\n",
        "        print(\"การอัปโหลดไฟล์เสียงไม่สำเร็จ หรือไม่ได้เลือกไฟล์\")\n",
        "\n",
        "    print(\"\\n--- โปรแกรมสิ้นสุดการทำงาน ---\")"
      ],
      "metadata": {
        "colab": {
          "base_uri": "https://localhost:8080/",
          "height": 1000
        },
        "id": "OQeR9Jurdz0N",
        "outputId": "d3c7258a-9ffd-434b-9c7a-bec1ecb3baab"
      },
      "execution_count": null,
      "outputs": [
        {
          "output_type": "stream",
          "name": "stdout",
          "text": [
            "-----------------------------------------------------------\n",
            "🎤 โปรแกรมปรับปรุงเสียงร้องด้วย Heuristic Model V2 (Dtype Fix Attempt) 🎶\n",
            "-----------------------------------------------------------\n",
            "\n",
            "[Heuristic Model Building] สร้างโปรไฟล์ Pitch จาก '/content/drive/MyDrive/Datasets_For_Ai_builders/CleanVoice'...\n",
            "  [Heuristic Model Building] วิเคราะห์ Clean: Ashes Remain - On My Own (Pseudo Video)_vocal.wav\n",
            "  [ASP] โหลดไฟล์ 'Ashes Remain - On My Own (Pseudo Video)_vocal.wav' (Sample Rate: 44100 Hz)\n",
            "  [ASP Warning] Input array to extract_pitch_world is float32, not float64. Forcing.\n",
            "  [Heuristic Model Building] วิเคราะห์ Clean: -  Tilly Birds _ The Wall Song _vocal.wav\n",
            "  [ASP] โหลดไฟล์ '-  Tilly Birds _ The Wall Song _vocal.wav' (Sample Rate: 44100 Hz)\n",
            "  [ASP Warning] Input array to extract_pitch_world is float32, not float64. Forcing.\n",
            "  [Heuristic Model Building] วิเคราะห์ Clean: - THE TOYS Ost Offcial Lyrics_vocal.wav\n",
            "  [ASP] โหลดไฟล์ '- THE TOYS Ost Offcial Lyrics_vocal.wav' (Sample Rate: 44100 Hz)\n",
            "  [ASP Warning] Input array to extract_pitch_world is float32, not float64. Forcing.\n",
            "  [Heuristic Model Building] วิเคราะห์ Clean: 4EVE - Hot 2 Hot ｜ Official MV ( Dance Version )_vocal.wav\n",
            "  [ASP] โหลดไฟล์ '4EVE - Hot 2 Hot ｜ Official MV ( Dance Version )_vocal.wav' (Sample Rate: 44100 Hz)\n",
            "  [ASP Warning] Input array to extract_pitch_world is float32, not float64. Forcing.\n",
            "  [Heuristic Model Building] วิเคราะห์ Clean: แค่เธอ (Why Don't You Stay) (From KinnPorsche The Series)_vocal.wav\n",
            "  [ASP] โหลดไฟล์ 'แค่เธอ (Why Don't You Stay) (From KinnPorsche The Series)_vocal.wav' (Sample Rate: 44100 Hz)\n",
            "  [ASP Warning] Input array to extract_pitch_world is float32, not float64. Forcing.\n",
            "  [Heuristic Model Building] วิเคราะห์ Clean: ＊NSYNC - Bye Bye Bye (Official Audio)_vocal.wav\n",
            "  [ASP] โหลดไฟล์ '＊NSYNC - Bye Bye Bye (Official Audio)_vocal.wav' (Sample Rate: 44100 Hz)\n",
            "  [ASP Warning] Input array to extract_pitch_world is float32, not float64. Forcing.\n",
            "  [Heuristic Model Building] วิเคราะห์ Clean: Jeff SaturRide or Die [vocals] autotuned.wav\n",
            "  [ASP] โหลดไฟล์ 'Jeff SaturRide or Die [vocals] autotuned.wav' (Sample Rate: 44100 Hz)\n",
            "  [ASP Warning] Input array to extract_pitch_world is float32, not float64. Forcing.\n",
            "  [Heuristic Model Building] วิเคราะห์ Clean: 4EVE - BOYS LOVE GIRLS [Color Coded Lyrics] ｜ CC THAI SUB_vocal.wav\n",
            "  [ASP] โหลดไฟล์ '4EVE - BOYS LOVE GIRLS [Color Coded Lyrics] ｜ CC THAI SUB_vocal.wav' (Sample Rate: 44100 Hz)\n",
            "  [ASP Warning] Input array to extract_pitch_world is float32, not float64. Forcing.\n",
            "  [Heuristic Model Building] วิเคราะห์ Clean: DIDIxDADA - จังหวะตกหลุมรัก (Magic Moment) Special Video_vocal.wav\n",
            "  [ASP] โหลดไฟล์ 'DIDIxDADA - จังหวะตกหลุมรัก (Magic Moment) Special Video_vocal.wav' (Sample Rate: 44100 Hz)\n",
            "  [ASP Warning] Input array to extract_pitch_world is float32, not float64. Forcing.\n",
            "  [Heuristic Model Building] วิเคราะห์ Clean: Jeff Satur - เหมือนวิวาห์ (Rain wedding)【Ost.วิมานหนาม】_vocal.wav\n",
            "  [ASP] โหลดไฟล์ 'Jeff Satur - เหมือนวิวาห์ (Rain wedding)【Ost.วิมานหนาม】_vocal.wav' (Sample Rate: 44100 Hz)\n",
            "  [ASP Warning] Input array to extract_pitch_world is float32, not float64. Forcing.\n",
            "[Heuristic Model Building] สร้างโปรไฟล์ Pitch 47 โน้ตสำเร็จ\n",
            "\n",
            "[Dataset Analysis] วิเคราะห์เสียงสูงจาก '/content/drive/MyDrive/Datasets_For_Ai_builders/HighNote/HighNote(Edited)/'...\n",
            "  [Dataset Analysis] วิเคราะห์ HighNote: Male Singers Hitting Female Singers High Notes! Pt 2_19.wav_1.wav_1.wav_1.wav_1.wav_1.wav_1.wav_1.wav_1.wav_1.wav_1.wav_1.wav_1.wav_1.wav_vocal.wav\n",
            "  [ASP] โหลดไฟล์ 'Male Singers Hitting Female Singers High Notes! Pt 2_19.wav_1.wav_1.wav_1.wav_1.wav_1.wav_1.wav_1.wav_1.wav_1.wav_1.wav_1.wav_1.wav_1.wav_vocal.wav' (Sample Rate: 44100 Hz)\n",
            "  [ASP Warning] Input array to extract_pitch_world is float32, not float64. Forcing.\n",
            "  [Dataset Analysis] วิเคราะห์ HighNote: Male Singers Hitting tg8Female Singers HIGH NOTES!!_1.wav_1.wav_1.wav_1.wav_1.wav_1.wav_1.wav_1.wav_1.wav_1.wav_1.wav_vocal.wav\n",
            "  [ASP] โหลดไฟล์ 'Male Singers Hitting tg8Female Singers HIGH NOTES!!_1.wav_1.wav_1.wav_1.wav_1.wav_1.wav_1.wav_1.wav_1.wav_1.wav_1.wav_vocal.wav' (Sample Rate: 44100 Hz)\n",
            "  [ASP Warning] Input array to extract_pitch_world is float32, not float64. Forcing.\n",
            "  [Dataset Analysis] วิเคราะห์ HighNote: Male Singers Hitting Female Singers High Notes! Pt 2_6_vocal.wav\n",
            "  [ASP] โหลดไฟล์ 'Male Singers Hitting Female Singers High Notes! Pt 2_6_vocal.wav' (Sample Rate: 44100 Hz)\n",
            "  [ASP Warning] Input array to extract_pitch_world is float32, not float64. Forcing.\n",
            "  [Dataset Analysis] วิเคราะห์ HighNote: Stage EP01： JEFF SATUR - FADE [CHUANG ASIA S2]_vocal_1.wave_vocal.wav\n",
            "  [ASP] โหลดไฟล์ 'Stage EP01： JEFF SATUR - FADE [CHUANG ASIA S2]_vocal_1.wave_vocal.wav' (Sample Rate: 44100 Hz)\n",
            "  [ASP Warning] Input array to extract_pitch_world is float32, not float64. Forcing.\n",
            "  [Dataset Analysis] วิเคราะห์ HighNote: Male Singers Hitting Female Singers High Notes! Pt 2_1_vocal.wav\n",
            "  [ASP] โหลดไฟล์ 'Male Singers Hitting Female Singers High Notes! Pt 2_1_vocal.wav' (Sample Rate: 44100 Hz)\n",
            "  [ASP Warning] Input array to extract_pitch_world is float32, not float64. Forcing.\n",
            "  [Dataset Analysis] วิเคราะห์ HighNote: LALALYE-DAOUPITTAYA_ DANCE PERFORMANCEVIDEO_vocal_vocal.wav\n",
            "  [ASP] โหลดไฟล์ 'LALALYE-DAOUPITTAYA_ DANCE PERFORMANCEVIDEO_vocal_vocal.wav' (Sample Rate: 44100 Hz)\n",
            "  [ASP Warning] Input array to extract_pitch_world is float32, not float64. Forcing.\n",
            "  [Dataset Analysis] วิเคราะห์ HighNote: Male Singers Hitting 887hFemale Singers HIGH NOTES!!_1.wav_1.wav_1.wav_1.wav_1.wav_1.wav_1.wav_1.wav_1.wav_1.wav_1.wav_1.wav_vocal.wav\n",
            "  [ASP] โหลดไฟล์ 'Male Singers Hitting 887hFemale Singers HIGH NOTES!!_1.wav_1.wav_1.wav_1.wav_1.wav_1.wav_1.wav_1.wav_1.wav_1.wav_1.wav_1.wav_vocal.wav' (Sample Rate: 44100 Hz)\n",
            "  [ASP Warning] Input array to extract_pitch_world is float32, not float64. Forcing.\n",
            "  [Dataset Analysis] วิเคราะห์ HighNote: Male Singers Hitting Female Singers HIGH NOTES!!_1.wav_1.wav_1.wav_1.wav_1.wav_1.wav_1.wav_1.wav_1.wav_1.wav_1.wav_1.wav_1.wav_1.wav_1.wav_1.wav_1.wav_1.wav_1.wav_vocal.wav\n",
            "  [ASP] โหลดไฟล์ 'Male Singers Hitting Female Singers HIGH NOTES!!_1.wav_1.wav_1.wav_1.wav_1.wav_1.wav_1.wav_1.wav_1.wav_1.wav_1.wav_1.wav_1.wav_1.wav_1.wav_1.wav_1.wav_1.wav_1.wav_vocal.wav' (Sample Rate: 44100 Hz)\n",
            "  [ASP Warning] Input array to extract_pitch_world is float32, not float64. Forcing.\n",
            "  [Dataset Analysis] วิเคราะห์ HighNote: Stage EP01： JEFF SATUR - FADE [CHUANG ASIA S2]_vocal_1_version_2_vocal.wav\n",
            "  [ASP] โหลดไฟล์ 'Stage EP01： JEFF SATUR - FADE [CHUANG ASIA S2]_vocal_1_version_2_vocal.wav' (Sample Rate: 44100 Hz)\n",
            "  [ASP Warning] Input array to extract_pitch_world is float32, not float64. Forcing.\n",
            "  [Dataset Analysis] วิเคราะห์ HighNote: รักแรก (First Love)- NONT TANONT Ost.รักแรกโครตลืมยาก [Audio] #nonttanont_vocal_vocal.wav\n",
            "  [ASP] โหลดไฟล์ 'รักแรก (First Love)- NONT TANONT Ost.รักแรกโครตลืมยาก [Audio] #nonttanont_vocal_vocal.wav' (Sample Rate: 44100 Hz)\n",
            "  [ASP Warning] Input array to extract_pitch_world is float32, not float64. Forcing.\n",
            "[Dataset Analysis] Median F0 เสียงสูง: 494.09 Hz\n",
            "\n",
            "ขั้นตอนที่ 1: อัปโหลดไฟล์เสียง Input (.wav) ที่ต้องการปรับปรุง\n",
            "กรุณาอัปโหลดไฟล์เสียงร้อง .wav ที่ต้องการปรับปรุง:\n"
          ]
        },
        {
          "output_type": "display_data",
          "data": {
            "text/plain": [
              "<IPython.core.display.HTML object>"
            ],
            "text/html": [
              "\n",
              "     <input type=\"file\" id=\"files-9e396119-638f-43f4-922c-cae885d29ddb\" name=\"files[]\" multiple disabled\n",
              "        style=\"border:none\" />\n",
              "     <output id=\"result-9e396119-638f-43f4-922c-cae885d29ddb\">\n",
              "      Upload widget is only available when the cell has been executed in the\n",
              "      current browser session. Please rerun this cell to enable.\n",
              "      </output>\n",
              "      <script>// Copyright 2017 Google LLC\n",
              "//\n",
              "// Licensed under the Apache License, Version 2.0 (the \"License\");\n",
              "// you may not use this file except in compliance with the License.\n",
              "// You may obtain a copy of the License at\n",
              "//\n",
              "//      http://www.apache.org/licenses/LICENSE-2.0\n",
              "//\n",
              "// Unless required by applicable law or agreed to in writing, software\n",
              "// distributed under the License is distributed on an \"AS IS\" BASIS,\n",
              "// WITHOUT WARRANTIES OR CONDITIONS OF ANY KIND, either express or implied.\n",
              "// See the License for the specific language governing permissions and\n",
              "// limitations under the License.\n",
              "\n",
              "/**\n",
              " * @fileoverview Helpers for google.colab Python module.\n",
              " */\n",
              "(function(scope) {\n",
              "function span(text, styleAttributes = {}) {\n",
              "  const element = document.createElement('span');\n",
              "  element.textContent = text;\n",
              "  for (const key of Object.keys(styleAttributes)) {\n",
              "    element.style[key] = styleAttributes[key];\n",
              "  }\n",
              "  return element;\n",
              "}\n",
              "\n",
              "// Max number of bytes which will be uploaded at a time.\n",
              "const MAX_PAYLOAD_SIZE = 100 * 1024;\n",
              "\n",
              "function _uploadFiles(inputId, outputId) {\n",
              "  const steps = uploadFilesStep(inputId, outputId);\n",
              "  const outputElement = document.getElementById(outputId);\n",
              "  // Cache steps on the outputElement to make it available for the next call\n",
              "  // to uploadFilesContinue from Python.\n",
              "  outputElement.steps = steps;\n",
              "\n",
              "  return _uploadFilesContinue(outputId);\n",
              "}\n",
              "\n",
              "// This is roughly an async generator (not supported in the browser yet),\n",
              "// where there are multiple asynchronous steps and the Python side is going\n",
              "// to poll for completion of each step.\n",
              "// This uses a Promise to block the python side on completion of each step,\n",
              "// then passes the result of the previous step as the input to the next step.\n",
              "function _uploadFilesContinue(outputId) {\n",
              "  const outputElement = document.getElementById(outputId);\n",
              "  const steps = outputElement.steps;\n",
              "\n",
              "  const next = steps.next(outputElement.lastPromiseValue);\n",
              "  return Promise.resolve(next.value.promise).then((value) => {\n",
              "    // Cache the last promise value to make it available to the next\n",
              "    // step of the generator.\n",
              "    outputElement.lastPromiseValue = value;\n",
              "    return next.value.response;\n",
              "  });\n",
              "}\n",
              "\n",
              "/**\n",
              " * Generator function which is called between each async step of the upload\n",
              " * process.\n",
              " * @param {string} inputId Element ID of the input file picker element.\n",
              " * @param {string} outputId Element ID of the output display.\n",
              " * @return {!Iterable<!Object>} Iterable of next steps.\n",
              " */\n",
              "function* uploadFilesStep(inputId, outputId) {\n",
              "  const inputElement = document.getElementById(inputId);\n",
              "  inputElement.disabled = false;\n",
              "\n",
              "  const outputElement = document.getElementById(outputId);\n",
              "  outputElement.innerHTML = '';\n",
              "\n",
              "  const pickedPromise = new Promise((resolve) => {\n",
              "    inputElement.addEventListener('change', (e) => {\n",
              "      resolve(e.target.files);\n",
              "    });\n",
              "  });\n",
              "\n",
              "  const cancel = document.createElement('button');\n",
              "  inputElement.parentElement.appendChild(cancel);\n",
              "  cancel.textContent = 'Cancel upload';\n",
              "  const cancelPromise = new Promise((resolve) => {\n",
              "    cancel.onclick = () => {\n",
              "      resolve(null);\n",
              "    };\n",
              "  });\n",
              "\n",
              "  // Wait for the user to pick the files.\n",
              "  const files = yield {\n",
              "    promise: Promise.race([pickedPromise, cancelPromise]),\n",
              "    response: {\n",
              "      action: 'starting',\n",
              "    }\n",
              "  };\n",
              "\n",
              "  cancel.remove();\n",
              "\n",
              "  // Disable the input element since further picks are not allowed.\n",
              "  inputElement.disabled = true;\n",
              "\n",
              "  if (!files) {\n",
              "    return {\n",
              "      response: {\n",
              "        action: 'complete',\n",
              "      }\n",
              "    };\n",
              "  }\n",
              "\n",
              "  for (const file of files) {\n",
              "    const li = document.createElement('li');\n",
              "    li.append(span(file.name, {fontWeight: 'bold'}));\n",
              "    li.append(span(\n",
              "        `(${file.type || 'n/a'}) - ${file.size} bytes, ` +\n",
              "        `last modified: ${\n",
              "            file.lastModifiedDate ? file.lastModifiedDate.toLocaleDateString() :\n",
              "                                    'n/a'} - `));\n",
              "    const percent = span('0% done');\n",
              "    li.appendChild(percent);\n",
              "\n",
              "    outputElement.appendChild(li);\n",
              "\n",
              "    const fileDataPromise = new Promise((resolve) => {\n",
              "      const reader = new FileReader();\n",
              "      reader.onload = (e) => {\n",
              "        resolve(e.target.result);\n",
              "      };\n",
              "      reader.readAsArrayBuffer(file);\n",
              "    });\n",
              "    // Wait for the data to be ready.\n",
              "    let fileData = yield {\n",
              "      promise: fileDataPromise,\n",
              "      response: {\n",
              "        action: 'continue',\n",
              "      }\n",
              "    };\n",
              "\n",
              "    // Use a chunked sending to avoid message size limits. See b/62115660.\n",
              "    let position = 0;\n",
              "    do {\n",
              "      const length = Math.min(fileData.byteLength - position, MAX_PAYLOAD_SIZE);\n",
              "      const chunk = new Uint8Array(fileData, position, length);\n",
              "      position += length;\n",
              "\n",
              "      const base64 = btoa(String.fromCharCode.apply(null, chunk));\n",
              "      yield {\n",
              "        response: {\n",
              "          action: 'append',\n",
              "          file: file.name,\n",
              "          data: base64,\n",
              "        },\n",
              "      };\n",
              "\n",
              "      let percentDone = fileData.byteLength === 0 ?\n",
              "          100 :\n",
              "          Math.round((position / fileData.byteLength) * 100);\n",
              "      percent.textContent = `${percentDone}% done`;\n",
              "\n",
              "    } while (position < fileData.byteLength);\n",
              "  }\n",
              "\n",
              "  // All done.\n",
              "  yield {\n",
              "    response: {\n",
              "      action: 'complete',\n",
              "    }\n",
              "  };\n",
              "}\n",
              "\n",
              "scope.google = scope.google || {};\n",
              "scope.google.colab = scope.google.colab || {};\n",
              "scope.google.colab._files = {\n",
              "  _uploadFiles,\n",
              "  _uploadFilesContinue,\n",
              "};\n",
              "})(self);\n",
              "</script> "
            ]
          },
          "metadata": {}
        },
        {
          "output_type": "stream",
          "name": "stdout",
          "text": [
            "Saving First.wav to First (4).wav\n",
            "ไฟล์ 'First (4).wav' ถูกอัปโหลดและบันทึกไว้ที่: /content/First (4).wav\n",
            "  [ASP] โหลดไฟล์ 'First (4).wav' (Sample Rate: 44100 Hz)\n",
            "\n",
            "--- กำลังประมวลผลไฟล์: First (4).wav ---\n",
            "\n",
            "ขั้นตอนที่ 2: วิเคราะห์เสียงต้นฉบับ\n",
            "  [ASP Warning] Input array to extract_pitch_world is float32, not float64. Forcing.\n",
            "  [ASP] โน้ตหลักจาก F0 list: E3\n",
            "เสียงต้นฉบับ - โน้ตหลัก: E3\n",
            "\n",
            "ขั้นตอนที่ 3: ระบุโน้ตเป้าหมาย (ถ้าต้องการ)\n",
            "ป้อนโน้ตเป้าหมายเดียว (เช่น C4) หรือกด Enter เพื่อข้าม: C6\n",
            "\n",
            "ขั้นตอนที่ 4: ตั้งค่าพารามิเตอร์การแก้ไข\n",
            "  ความแรงแก้ไข Pitch (0.1-1.0, default: 0.7): 0.5\n",
            "  เกณฑ์แก้ไข (Cents, default: 50): 30\n",
            "  ความถี่เริ่ม HighNote Ref (Hz, default: 440): 700\n",
            "\n",
            "[Heuristic Correction V2] กำลังประมวลผลการแก้ไข Pitch...\n",
            "  [Heuristic Correction V2 Warning] dtype ของ y ที่รับมาคือ float32, กำลังแปลงเป็น float64.\n",
            "  [Heuristic Correction V2] ทำการปรับแก้ Pitch ไป 9849 เฟรม\n",
            "  [Heuristic Correction V2] ใช้ Median Filter กับ F0 ที่แก้ไขแล้ว\n",
            "  [Heuristic Correction V2] กำลังสังเคราะห์เสียงใหม่ด้วย pyworld...\n",
            "  [Heuristic Correction V2] สังเคราะห์เสียงเสร็จสิ้น\n",
            "\n",
            "ขั้นตอนที่ 5: วิเคราะห์เสียงที่แก้ไขแล้ว\n",
            "  [ASP Warning] Input array to extract_pitch_world is float32, not float64. Forcing.\n",
            "  [ASP] โน้ตหลักจาก F0 list: A♯2\n",
            "เสียงที่แก้ไขแล้ว - โน้ตหลัก: A♯2\n",
            "\n",
            "บันทึกไฟล์เสียงที่แก้ไขแล้วไปที่ '/content/drive/MyDrive/Datasets_For_Ai_builders/Model/First (4)_heuristic_v2_fixed.wav'\n",
            "\n",
            "--- โปรแกรมสิ้นสุดการทำงาน ---\n"
          ]
        }
      ]
    }
  ]
}